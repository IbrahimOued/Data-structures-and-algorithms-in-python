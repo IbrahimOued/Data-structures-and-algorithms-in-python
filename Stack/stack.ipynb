{
 "cells": [
  {
   "cell_type": "markdown",
   "metadata": {},
   "source": [
    "## Stack"
   ]
  },
  {
   "cell_type": "markdown",
   "metadata": {},
   "source": [
    "Stack creation:\n",
    "\n",
    "* **Stack using List** :\n",
    "  * Easy to implement\n",
    "  * Speed problem when it grows\n",
    "* **Stack usung Linked List** :\n",
    "  * Fast performance\n",
    "  * Implementation is not easy\n"
   ]
  },
  {
   "cell_type": "markdown",
   "metadata": {},
   "source": [
    "Creation of stack with python List\n",
    "\n",
    "```python\n",
    "class Stack:\n",
    "    def __init__(self):\n",
    "        self.list = []\n",
    "    \n",
    "    def __str__(self):\n",
    "        values = self.items.reverse() # For printing purpose\n",
    "        values = [str(i) for i in values]\n",
    "        return '\\n'.join(values)\n",
    "\n",
    "    def isEmpty(self):\n",
    "        return self.list == []\n",
    "\n",
    "    def push(self, item):\n",
    "        self.list.append(item) \n",
    "    \n",
    "    def pop(self):\n",
    "        if self.isEmpty():\n",
    "            return None\n",
    "        else:\n",
    "            return self.list.pop()\n",
    "\n",
    "    def peek(self):\n",
    "        return self.list[-1]\n",
    "\n",
    "    def delete(self):\n",
    "        self.list = []\n",
    "```"
   ]
  },
  {
   "cell_type": "markdown",
   "metadata": {},
   "source": [
    "creation of stack with limited size\n",
    "\n",
    "```python\n",
    "class LimitedStack:\n",
    "    def __init__(self, size):\n",
    "        self.size = size\n",
    "        self.items = []\n",
    "    \n",
    "    def __str__(self):\n",
    "        values = self.items.reverse() # For printing purpose\n",
    "        values = [str(i) for i in values]\n",
    "        return '\\n'.join(values)\n",
    "\n",
    "    def isEmpty(self):\n",
    "        return self.items == []\n",
    "\n",
    "    def push(self, item):\n",
    "        if len(self.items) < self.size:\n",
    "        # if !self.isFull():\n",
    "            self.items.append(item) \n",
    "    \n",
    "    def pop(self):\n",
    "        if self.isEmpty():\n",
    "            return None\n",
    "        else:\n",
    "            return self.items.pop()\n",
    "\n",
    "    def peek(self):\n",
    "        return self.items[-1]\n",
    "\n",
    "    def delete(self):\n",
    "        self.items = []\n",
    "\n",
    "    def isFull(self):\n",
    "        return len(self.items) == self.size\n",
    "```"
   ]
  },
  {
   "cell_type": "markdown",
   "metadata": {},
   "source": [
    "### Creation of stack using Linked List"
   ]
  },
  {
   "cell_type": "markdown",
   "metadata": {},
   "source": [
    "```python\n",
    "class Node:\n",
    "    def __init__(self, data):\n",
    "        self.data = data\n",
    "        self.next = None\n",
    "        # self.size = 0\n",
    "        # can be use to control\n",
    "        # the size of the stack\n",
    "        # incr at each push\n",
    "        # decr at each pop\n",
    "\n",
    "class LinkedList:\n",
    "    def __init__(self):\n",
    "        self.head = None\n",
    "\n",
    "    def __iter__(self):\n",
    "        current = self.head\n",
    "        while current:\n",
    "            yield current.data\n",
    "            current = current.next\n",
    "    \n",
    "class Stack:\n",
    "    def __init__(self):\n",
    "        self.list = LinkedList()\n",
    "    \n",
    "    def __str__(self):\n",
    "        values = self.list.reverse() # For printing purpose\n",
    "        values = [str(i) for i in values]\n",
    "        return '\\n'.join(values)\n",
    "\n",
    "    def isEmpty(self):\n",
    "        return self.list == []\n",
    "\n",
    "    def push(self, item):\n",
    "        new_node = Node(item)\n",
    "        new_node.next = self.list.head\n",
    "        self.list.head = new_node\n",
    "\n",
    "    def pop(self):\n",
    "        if self.isEmpty():\n",
    "            return None\n",
    "        else:\n",
    "            temp = self.list.head\n",
    "            self.list.head = self.list.head.next\n",
    "            return temp.data\n",
    "\n",
    "    def peek(self):\n",
    "        return self.list.head.data\n",
    "\n",
    "    def delete(self):\n",
    "        self.list = []\n",
    "```"
   ]
  },
  {
   "cell_type": "markdown",
   "metadata": {},
   "source": [
    "### When to use / avoid\n",
    "\n",
    "* Use:\n",
    "  * LIFO functionality\n",
    "  * The chance of data corruption is minimum\n",
    "\n",
    "* Avoid\n",
    "  * Random access is not possible"
   ]
  },
  {
   "cell_type": "markdown",
   "metadata": {},
   "source": [
    "## Interview questions"
   ]
  },
  {
   "cell_type": "markdown",
   "metadata": {},
   "source": [
    "### Question 1\n",
    "\n",
    "### *Describe how you could use a single python list to implemenmt three stacks*"
   ]
  },
  {
   "cell_type": "code",
   "execution_count": 4,
   "metadata": {},
   "outputs": [
    {
     "name": "stdout",
     "output_type": "stream",
     "text": [
      "False\n",
      "True\n",
      "2\n"
     ]
    }
   ],
   "source": [
    "class MultiStack:\n",
    "    def __init__(self, stack_size) -> None:\n",
    "        self.number_stacks = 3\n",
    "        self.cust_list = [0] * (stack_size  * self.number_stacks)\n",
    "        self.sizes = [0] * self.number_stacks\n",
    "        self.stack_size = stack_size\n",
    "\n",
    "    def is_full(self, stack_num):\n",
    "        if self.sizes[stack_num] == self.stack_size:\n",
    "            return True\n",
    "        else:\n",
    "            return False\n",
    "\n",
    "    def is_empty(self, stack_num):\n",
    "        if self.sizes[stack_num] == 0:\n",
    "            return True\n",
    "        else:\n",
    "            return False\n",
    "\n",
    "    def index_of_top(self, stack_num):\n",
    "        offset = stack_num * self.stack_size\n",
    "        return offset * self.sizes[stack_num] - 1\n",
    "\n",
    "    def push(self, item, stack_num):\n",
    "        if self.is_full(stack_num):\n",
    "            return \"Stack is full\"\n",
    "        else:\n",
    "            self.sizes[stack_num] += 1\n",
    "            self.cust_list[self.index_of_top(stack_num)] = item\n",
    "    \n",
    "    def pop(self, stack_num):\n",
    "        if self.is_empty(stack_num):\n",
    "            return \"Stack is empty\"\n",
    "        else:\n",
    "            value = self.cust_list[self.index_of_top(stack_num)]\n",
    "            self.cust_list[self.index_of_top(stack_num)] = 0\n",
    "            self.sizes[stack_num] -= 1\n",
    "            return value\n",
    "\n",
    "    def peek(self, stack_num):\n",
    "        if self.is_empty(stack_num):\n",
    "            return \"Stack is empty\"\n",
    "        else:\n",
    "            value = self.cust_list[self.index_of_top(stack_num)]\n",
    "            return value\n",
    "\n",
    "custom_stack = MultiStack(6)\n",
    "print(custom_stack.is_full(0))\n",
    "print(custom_stack.is_empty(1))\n",
    "custom_stack.push(1, 0)\n",
    "custom_stack.push(2, 0)\n",
    "custom_stack.push(3, 2)\n",
    "print(custom_stack.peek(0))\n"
   ]
  },
  {
   "cell_type": "markdown",
   "metadata": {},
   "source": [
    "### Question 2\n",
    "How would you design a stack which, in additon to push and pop, has a function min which returns the minimum element? Push, pop and min should operate in O(1) time complexity."
   ]
  },
  {
   "cell_type": "code",
   "execution_count": 5,
   "metadata": {},
   "outputs": [
    {
     "name": "stdout",
     "output_type": "stream",
     "text": [
      "5\n",
      "5\n",
      "3\n"
     ]
    }
   ],
   "source": [
    "class MinNode:\n",
    "    def __init__(self, data: int) -> None:\n",
    "        self.data: int = data\n",
    "        self.next = None\n",
    "\n",
    "class MinLinkedList():\n",
    "    def __init__(self) -> None:\n",
    "        self.head: MinNode = None\n",
    "        self.min: MinNode = None\n",
    "\n",
    "class MinStack:\n",
    "    def __init__(self) -> None:\n",
    "        self.list = MinLinkedList()\n",
    "        \n",
    "    \n",
    "    def push(self, item):\n",
    "        if self.list.min and self.list.min.data < item:\n",
    "            self.list.min = self.list.min\n",
    "            self.list.min.next = self.list.min\n",
    "            # self.list.min = Node(value=self.list.min.data, next=self.list.min)\n",
    "        else:\n",
    "            previous_min = self.list.min\n",
    "            self.list.min = MinNode(item) # I create a new object as\n",
    "            self.list.min.next = previous_min \n",
    "            # self.list.min = Node(value=item, next=self.list.min)\n",
    "        \n",
    "        current = self.list.head\n",
    "        self.list.head = MinNode(item) # HERE it Was creating a reference issue\n",
    "        self.list.head.next = current\n",
    "\n",
    "    def pop(self):\n",
    "        if self.list == []:\n",
    "            return None\n",
    "        else:\n",
    "            # The update part for the min\n",
    "            self.list.min = self.list.min.next\n",
    "            # Same process known\n",
    "            item = self.list.head\n",
    "            self.list.head = self.list.head.next\n",
    "            return item.data\n",
    "\n",
    "    def min(self):\n",
    "        if self.list.min is None:\n",
    "            return None\n",
    "        return self.list.min.data\n",
    "        \n",
    "custom_stack = MinStack()\n",
    "custom_stack.push(5)\n",
    "print(custom_stack.min())\n",
    "\n",
    "custom_stack.push(6)\n",
    "print(custom_stack.min())\n",
    "\n",
    "custom_stack.push(3)\n",
    "print(custom_stack.min())"
   ]
  },
  {
   "cell_type": "code",
   "execution_count": 6,
   "metadata": {},
   "outputs": [
    {
     "name": "stdout",
     "output_type": "stream",
     "text": [
      "5\n"
     ]
    }
   ],
   "source": [
    "custom_stack.pop()\n",
    "print(custom_stack.min())"
   ]
  },
  {
   "cell_type": "markdown",
   "metadata": {},
   "source": [
    "### Question 3\n",
    "### *Imagine a literal stack of plates. If the stakc gets too high, it might topple. Therefore in real life, we would likely start a new stack when the previous exceeds some threeshold. Implement a data structure SetOfStacks that mimics this. SetOfStacks should be composed of several stacks and should create a new stack once the previous one exceeds capacity, SetOfStacks.push() and SetOfStacks.pop() should behave identically to a single stack that is, pop() should return the same values as it would if there were just a single stack.*\n",
    "\n",
    "*Implement a function popAt (int index) which performs a pop operation on a specific sub-stack*"
   ]
  },
  {
   "cell_type": "code",
   "execution_count": 7,
   "metadata": {},
   "outputs": [
    {
     "data": {
      "text/plain": [
       "[[1, 2], [3, 4], [5]]"
      ]
     },
     "execution_count": 7,
     "metadata": {},
     "output_type": "execute_result"
    }
   ],
   "source": [
    "class PlateStack:\n",
    "    def __init__(self, capacity) -> None:\n",
    "        self.capacity = capacity\n",
    "        self.stacks = []\n",
    "\n",
    "    def __str__(self) -> str:\n",
    "        return self.stacks\n",
    "\n",
    "    def push(self, item):\n",
    "        # We need to check the length of stack list and\n",
    "        # check that if the first stack reaches the full capacity\n",
    "        if len(self.stacks) > 0 and len(self.stacks[-1]) < self.capacity:\n",
    "            self.stacks[-1].append(item)\n",
    "        else:\n",
    "            self.stacks.append([item])\n",
    "\n",
    "    def pop(self):\n",
    "        # If the length of stack is greater than 0 and\n",
    "        # the length of last stack is equal to 0\n",
    "        while len(self.stacks) and len(self.stacks[-1]) == 0:\n",
    "            self.stacks.pop()\n",
    "        if len(self.stacks) == 0:\n",
    "            return None\n",
    "        else:\n",
    "            return self.stacks[-1].pop()\n",
    "    \n",
    "    def pop_at(self, stack_number):\n",
    "        if len(self.stacks[stack_number]) > 0:\n",
    "            return self.stacks[stack_number].pop()\n",
    "        else:\n",
    "            return None\n",
    "\n",
    "custom_stack = PlateStack(2)\n",
    "\n",
    "custom_stack.push(1)\n",
    "custom_stack.push(2)\n",
    "custom_stack.push(3)\n",
    "custom_stack.push(4)\n",
    "custom_stack.push(5)\n",
    "# print(custom_stack.pop_at(1))\n",
    "custom_stack.stacks"
   ]
  },
  {
   "cell_type": "markdown",
   "metadata": {},
   "source": [
    "### Question 4\n",
    "### *Implement Queue class which implements a Queue using two stacks*\n",
    "The major difference between queue and stack is the order of elements. **Queue** is **FIFO** while **Stack** is **LIFO**"
   ]
  },
  {
   "cell_type": "code",
   "execution_count": 12,
   "metadata": {},
   "outputs": [
    {
     "name": "stdout",
     "output_type": "stream",
     "text": [
      "1\n"
     ]
    }
   ],
   "source": [
    "class BaseStack:\n",
    "    def __init__(self) -> None:\n",
    "        self.list = []\n",
    "\n",
    "    def __len__(self):\n",
    "        return len(self.list)\n",
    "\n",
    "    def push(self, item):\n",
    "        self.list.append(item)\n",
    "\n",
    "    def pop(self):\n",
    "        if len(self.list) == 0:\n",
    "            return None\n",
    "        return self.list.pop(-1)\n",
    "\n",
    "    \n",
    "class QueueStack:\n",
    "    def __init__(self) -> None:\n",
    "        self.in_stack = BaseStack()\n",
    "        self.out_stack = BaseStack()\n",
    "\n",
    "    def enqueue(self, item):\n",
    "        self.in_stack.push(item)\n",
    "\n",
    "    def dequeue(self):\n",
    "        while len(self.in_stack) != 0:\n",
    "            self.out_stack.push(self.in_stack.pop())\n",
    "        result = self.out_stack.pop()\n",
    "\n",
    "        while len(self.out_stack) != 0:\n",
    "            self.in_stack.push(self.out_stack.pop())\n",
    "\n",
    "        return result\n",
    "\n",
    "custom_queue = QueueStack()\n",
    "\n",
    "custom_queue.enqueue(1)\n",
    "custom_queue.enqueue(2)\n",
    "custom_queue.enqueue(3)\n",
    "\n",
    "print(custom_queue.dequeue())"
   ]
  },
  {
   "cell_type": "markdown",
   "metadata": {},
   "source": [
    "### Question 5: Animal shelter\n",
    "### Animal shelter, which holds only dogs and cats, operates on a striclty \"first in, first out\" basis. People must adopth either the \"oldest\" (based on arrival time) of all animals at the shelter, or they can select whether they would prefer a dog or a cat (and will receive the oldest animal of that type). They cannot select which specific anumal they would like. Create the data structure to maintain this system and implement operations such as enqueue, dequeueany, dequeuedog and dequeuecat"
   ]
  },
  {
   "cell_type": "markdown",
   "metadata": {},
   "source": []
  },
  {
   "cell_type": "code",
   "execution_count": 28,
   "metadata": {},
   "outputs": [
    {
     "name": "stdout",
     "output_type": "stream",
     "text": [
      "Cat1\n"
     ]
    }
   ],
   "source": [
    "from random import random\n",
    "\n",
    "\n",
    "class AnimalShelter:\n",
    "    def __init__(self) -> None:\n",
    "        self.dogs = []\n",
    "        self.cats = []\n",
    "\n",
    "\n",
    "    def enqueue(self, animal, type):\n",
    "        if type == 'cat':\n",
    "            self.cats.append(animal)\n",
    "        else:\n",
    "            self.dogs.append(animal)\n",
    "\n",
    "    def dequeue_any(self):\n",
    "        if len(self.cats) > 0 and random() < .5:\n",
    "            return self.dogs.pop(0)\n",
    "\n",
    "        elif len(self.dogs) > 0 and random() > .5:\n",
    "            return self.cats.pop(0)\n",
    "        else:\n",
    "            return None\n",
    "\n",
    "    def dequeue_cat(self):\n",
    "        if len(self.cats) == 0:\n",
    "            return None\n",
    "        return self.cats.pop(0)\n",
    "\n",
    "    def dequeue_dog(self):\n",
    "        if len(self.dogs) == 0:\n",
    "            return None\n",
    "        return self.dogs.pop(0)\n",
    "\n",
    "\n",
    "custom_queue = AnimalShelter()\n",
    "\n",
    "custom_queue.enqueue('Cat1', 'cat')\n",
    "custom_queue.enqueue('Cat2', 'cat')\n",
    "custom_queue.enqueue('Dog1', 'dog')\n",
    "custom_queue.enqueue('Cat3', 'cat')\n",
    "custom_queue.enqueue('Dog2', 'dog')\n",
    "custom_queue.enqueue('Cat4', 'cat')\n",
    "custom_queue.enqueue('Dog3', 'dog')\n",
    "\n",
    "print(custom_queue.dequeue_any())"
   ]
  }
 ],
 "metadata": {
  "kernelspec": {
   "display_name": "Python 3.10.5 64-bit",
   "language": "python",
   "name": "python3"
  },
  "language_info": {
   "codemirror_mode": {
    "name": "ipython",
    "version": 3
   },
   "file_extension": ".py",
   "mimetype": "text/x-python",
   "name": "python",
   "nbconvert_exporter": "python",
   "pygments_lexer": "ipython3",
   "version": "3.10.5"
  },
  "orig_nbformat": 4,
  "vscode": {
   "interpreter": {
    "hash": "13081b603aa6a013995035d320af2c1f15789dc4224cd169330b49e0b23c4e97"
   }
  }
 },
 "nbformat": 4,
 "nbformat_minor": 2
}

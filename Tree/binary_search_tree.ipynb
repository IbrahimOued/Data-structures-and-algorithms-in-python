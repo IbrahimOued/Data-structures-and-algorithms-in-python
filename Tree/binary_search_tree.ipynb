{
 "cells": [
  {
   "cell_type": "markdown",
   "metadata": {},
   "source": [
    "### Binary search tree"
   ]
  },
  {
   "cell_type": "markdown",
   "metadata": {},
   "source": [
    "#### What is a binary search tree"
   ]
  },
  {
   "cell_type": "markdown",
   "metadata": {},
   "source": [
    "Basically it's a binary tree with additional properties which are:\n",
    "* In the **left subtree the value of a node** is **less or equal** to its **parent node's** value\n",
    "* In the **right subtree the value of a node** is **greater** than its **parent node's** value\n",
    "\n",
    "                            70\n",
    "                          /    \\\n",
    "                        50      90\n",
    "                       /  \\    /  \\\n",
    "                      30  60  80  100\n",
    "                     /  \\                    \n",
    "                    20  40"
   ]
  },
  {
   "cell_type": "markdown",
   "metadata": {},
   "source": [
    "Why binary search tree?\n",
    "A binary search tree **doesn't store any index of its data elements** instead **it relies on implicit structure to keep a record of where each element is**\n",
    "* It performs faster than binary tree when inserting and deleting nodes"
   ]
  },
  {
   "cell_type": "markdown",
   "metadata": {},
   "source": [
    "### Common operations on BST"
   ]
  },
  {
   "cell_type": "markdown",
   "metadata": {},
   "source": [
    "#### Creation of a tree"
   ]
  },
  {
   "cell_type": "code",
   "execution_count": 1,
   "metadata": {},
   "outputs": [],
   "source": [
    "class BSTNode:\n",
    "    def __init__(self, data):\n",
    "        self.data = data\n",
    "        self.left = None\n",
    "        self.right = None\n",
    "\n",
    "\n",
    "new_binary_search_tree = BSTNode(None)"
   ]
  },
  {
   "cell_type": "markdown",
   "metadata": {},
   "source": [
    "#### Insert a node\n",
    "\n",
    "Here we face 2 scenarios:\n",
    "* If the tree is empty, we can simply insert the node as the root node\n",
    "* In the second scenario we already have values in the tree: We need to start the comparison with the root node\n",
    "  * If the new value is smaller than the root node, we go left otherwise we go right\n",
    "  * We continue until we find the appropriate place to insert the new node"
   ]
  },
  {
   "cell_type": "code",
   "execution_count": 2,
   "metadata": {},
   "outputs": [
    {
     "name": "stdout",
     "output_type": "stream",
     "text": [
      "70 was inserted\n",
      "60 was inserted\n",
      "60\n"
     ]
    }
   ],
   "source": [
    "def insert_node(root, new_data):\n",
    "    if root.data is None:\n",
    "        root.data = new_data\n",
    "    elif new_data <= root.data:\n",
    "        if root.left is None:\n",
    "            root.left = BSTNode(new_data)\n",
    "        else:\n",
    "            insert_node(root.left, new_data)\n",
    "    else:\n",
    "        if root.right is None:\n",
    "            root.right = BSTNode(new_data)\n",
    "        else:\n",
    "            insert_node(root.right, new_data)\n",
    "    return f\"{new_data} was inserted\"\n",
    "\n",
    "new_binary_search_tree = BSTNode(None)\n",
    "print(insert_node(new_binary_search_tree, 70))\n",
    "print(insert_node(new_binary_search_tree, 60))\n",
    "print(new_binary_search_tree.left.data)"
   ]
  },
  {
   "cell_type": "markdown",
   "metadata": {},
   "source": [
    "### Traverse a BST\n",
    "\n",
    "To traverse a BST we will use the same methods seen previously preorder, inorder and postorder traversal methods\n",
    "\n",
    "(ref previous sections)"
   ]
  },
  {
   "cell_type": "markdown",
   "metadata": {},
   "source": [
    "### Searching for a node in a BST"
   ]
  },
  {
   "cell_type": "code",
   "execution_count": 3,
   "metadata": {},
   "outputs": [
    {
     "name": "stdout",
     "output_type": "stream",
     "text": [
      "60 was found\n"
     ]
    }
   ],
   "source": [
    "def search_node(root, data):\n",
    "    if root.data is data:\n",
    "        print(f\"{data} is found at the root\")\n",
    "    elif data < root.data:\n",
    "        if root.left.data == data:\n",
    "            print(f\"{data} was found\")\n",
    "        else:\n",
    "            search_node(root.left, data)\n",
    "    elif data > root.data:\n",
    "        if root.right.data == data:\n",
    "            print(f\"{data} was found\")\n",
    "        else:\n",
    "            search_node(root.right, data)\n",
    "    else:\n",
    "        print(f\"{data} was not found\")\n",
    "\n",
    "\n",
    "new_binary_search_tree = BSTNode(None)\n",
    "insert_node(new_binary_search_tree, 70)\n",
    "insert_node(new_binary_search_tree, 50)\n",
    "insert_node(new_binary_search_tree, 90)\n",
    "insert_node(new_binary_search_tree, 30)\n",
    "insert_node(new_binary_search_tree, 60)\n",
    "insert_node(new_binary_search_tree, 80)\n",
    "insert_node(new_binary_search_tree, 100)\n",
    "insert_node(new_binary_search_tree, 20)\n",
    "insert_node(new_binary_search_tree, 40)\n",
    "search_node(new_binary_search_tree, 60)\n",
    "# The non present value has to be tested"
   ]
  },
  {
   "cell_type": "markdown",
   "metadata": {},
   "source": [
    "#### Delete a node from Binary Search Tree\n",
    "\n",
    "We face 3 scenarios:\n",
    "* The node to be deleted is **a lead node** : Can be deleted freely as it won't have a great impact in the tree\n",
    "* The node to be deleted has a child node (ome child): The child node has to replace the node that we are deleting as successor\n",
    "* The node to be deleted has 2 children nodes: Here we need to find the succesor of the node. The successor is the smallest node in the subtree"
   ]
  }
 ],
 "metadata": {
  "kernelspec": {
   "display_name": "Python 3.10.5 64-bit",
   "language": "python",
   "name": "python3"
  },
  "language_info": {
   "codemirror_mode": {
    "name": "ipython",
    "version": 3
   },
   "file_extension": ".py",
   "mimetype": "text/x-python",
   "name": "python",
   "nbconvert_exporter": "python",
   "pygments_lexer": "ipython3",
   "version": "3.10.5"
  },
  "orig_nbformat": 4,
  "vscode": {
   "interpreter": {
    "hash": "13081b603aa6a013995035d320af2c1f15789dc4224cd169330b49e0b23c4e97"
   }
  }
 },
 "nbformat": 4,
 "nbformat_minor": 2
}

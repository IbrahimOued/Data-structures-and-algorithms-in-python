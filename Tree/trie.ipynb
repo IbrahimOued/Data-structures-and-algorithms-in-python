{
 "cells": [
  {
   "cell_type": "markdown",
   "metadata": {},
   "source": [
    "# Trie"
   ]
  },
  {
   "cell_type": "markdown",
   "metadata": {},
   "source": [
    "## What is a Trie"
   ]
  },
  {
   "cell_type": "markdown",
   "metadata": {},
   "source": [
    "It's a tree based data structure that organiwes information in a hierarchy. While most of other structures are designed to manipulate generative data, Trie is often used with strings.\n",
    "\n",
    "Properties:\n",
    "* It is typically used to store or search strings in a space and time efficiency way\n",
    "* Any node in trie can store non repetitive multiple characters.\n",
    "* Every node stores link of the next character of the string\n",
    "* Every node keeps track of *'end of string'*\n",
    "\n",
    "Let's look at theses properties one by one. Basically when we work with strings, our main goal is to make the search operations as efficient as possible and to do that Trie is the ideal data structure.\n",
    "Let's see one example here:\n",
    "\n",
    "                                             AB\n",
    "                                           /    \\\n",
    "                                          I      AIM\n",
    "                                        /       / | \\\n",
    "                                      RT       R  L  .\n",
    "                                     /   \\    /   |\n",
    "                                    .     .  .    .\n",
    "\n",
    "Here the works in the Trie are respectively: **AIR, AIT, BAIR, BIL, BM**"
   ]
  },
  {
   "cell_type": "markdown",
   "metadata": {},
   "source": [
    "## Why do we need Trie?\n",
    "\n",
    "To solve many standard problems in efficient way.\n",
    "\n",
    "* Spelling checker\n",
    "* Auto completion"
   ]
  },
  {
   "cell_type": "markdown",
   "metadata": {},
   "source": [
    "## Common operations"
   ]
  },
  {
   "cell_type": "markdown",
   "metadata": {},
   "source": [
    "### Creation of Trie"
   ]
  },
  {
   "cell_type": "code",
   "execution_count": 25,
   "metadata": {},
   "outputs": [],
   "source": [
    "class TrieNode:\n",
    "    def __init__(self):\n",
    "        self.children = {} # dict because we need to link children to their children\n",
    "        self.is_word = False # end of string\n",
    "\n",
    "class Trie:\n",
    "    def __init__(self):\n",
    "        self.root = TrieNode()\n",
    "\n",
    "    # O(m) time | O(m) space\n",
    "    def insert_string(self, word):\n",
    "        current_node = self.root\n",
    "        for i in word:\n",
    "            character = i\n",
    "            node = current_node.children.get(character)\n",
    "            if node is None:\n",
    "                node = TrieNode()\n",
    "                current_node.children[character] = node\n",
    "                # current.children.update({character:node})\n",
    "            current_node = node\n",
    "        current_node.is_word = True\n",
    "        print('inserted:', word)\n",
    "\n",
    "    # O(m) time | O(1) space\n",
    "    def search_string(self, word):\n",
    "        current_node = self.root\n",
    "        for i in word:\n",
    "            node = current_node.children.get(i)\n",
    "            if node is None:\n",
    "                return False\n",
    "            current_node = node\n",
    "        if current_node.is_word == True:\n",
    "            return True\n",
    "        else:\n",
    "            return False\n",
    "\n",
    "new_trie = Trie()"
   ]
  },
  {
   "cell_type": "markdown",
   "metadata": {},
   "source": [
    "### Insert a string in a Trie"
   ]
  },
  {
   "cell_type": "markdown",
   "metadata": {},
   "source": [
    "When we want to insert a string in a Trie, we face 4 cases\n",
    "\n",
    "* Case 1: **A Trie is blank**\n",
    "Let's imagine, we want to insert *APP*\n",
    "  * First  we create a blank node\n",
    "  * Assign *A* to the blank node, we set *is_word* to Null to indicate that there are some characters left\n",
    "  * We create a new node with the character *P*. *A* is linked to *P* and we set *is_word* to Null here again\n",
    "  * Le last step is repeated with the $2^{nd}$ character *P* and *is_word* is set to Null\n",
    "  * Finally a last node with *is_word* set to True\n",
    "\n",
    "* Case 2: **New strings prefix is common to another strings prefix**\n",
    "Now let's imagine we want to insert *API*\n",
    "  * We can see that *A* and *P* are common characters to these 2 strings, it means that we won't insert *A* and *P* to the Trie because they already exists, we will insert *I* as it's the missing one\n",
    "  * We know that in one node we can insert multiple characters, so we will add *I* to the node, along with *P*\n",
    "  * We create a new blank to indicate that it's the end of the word and we set  *is_word* to True as the word API is formed.\n",
    "\n",
    "* Case 3: **New strings prefix is already present as complete string**\n",
    "Let's add *APIS* to the previous *Trie*. We see that *API* is a complete string, and we want to add *S* to it.\n",
    "  * We will set the blank node present a the end of the word already formed to *S*\n",
    "  * We create a new blank node linked to *S* and set the *is_word* to True\n",
    "\n",
    "* Case 4: String to be inserted is already present in the Trie. If the string exist we don't need to do anything.\n",
    "\n",
    "Let's create the insertion method in the above Trie class"
   ]
  },
  {
   "cell_type": "code",
   "execution_count": 26,
   "metadata": {},
   "outputs": [
    {
     "name": "stdout",
     "output_type": "stream",
     "text": [
      "inserted: APP\n",
      "inserted: APPL\n"
     ]
    }
   ],
   "source": [
    "new_trie.insert_string('APP')\n",
    "new_trie.insert_string('APPL')"
   ]
  },
  {
   "cell_type": "markdown",
   "metadata": {},
   "source": [
    "### Search a string in a Trie\n",
    "\n",
    "* Case 1: **String does not exist in a Trie**\n",
    "For example, we want to search *BCD* in the Trie.\n",
    "\n",
    "                                        A\n",
    "                                       /\n",
    "                                      P\n",
    "                                     /\n",
    "                                    I\n",
    "                                     \\\n",
    "                                       .\n",
    "\n",
    "  * The fist thing to do is that we'll take the fist character *B* and we compare it with the root, *A* in our case. So it doesn't exist in this Trie. return false\n",
    "\n",
    "* Case 2: **String exist in a Trie**\n",
    "*API*\n",
    "  * We take the first character *A* and compare it with the root, *A* in our case. So it exist in this Trie.\n",
    "  * We continue to the next node, we have *P* and *P*\n",
    "  * And the next node is we have *I* and *I*, it means that all characters are present in the Trie but not that the word exist in this Trie, because we have to check if the next character is the end of string or not.\n",
    "  * Here we have an end of string, so we return True as the string exist in the Trie.\n",
    "* Case 3: **String is a prefix of another string, but it does not exist in a Trie**\n",
    "*AP*\n",
    "  * As usual we take the fist character and compare it with the root, *A* and root *A* in our case\n",
    "  * Same thing with the second character\n",
    "  * All the characters exist but we should not forget the last step, checking if the last node is the end of string or not\n",
    "  * Here the next node is not the end of string so *AP* doesn't exist in the Trie over here, it's just a prefix for *API* string."
   ]
  },
  {
   "cell_type": "markdown",
   "metadata": {},
   "source": [
    "Let's create search method in the above Trie class"
   ]
  },
  {
   "cell_type": "code",
   "execution_count": 27,
   "metadata": {},
   "outputs": [
    {
     "name": "stdout",
     "output_type": "stream",
     "text": [
      "True\n"
     ]
    }
   ],
   "source": [
    "print(new_trie.search_string('APP'))"
   ]
  },
  {
   "cell_type": "markdown",
   "metadata": {},
   "source": [
    "### Delete a string from Trie\n",
    "\n",
    "* Case 1: Some other prefix of string is same as the one that we want to delete. (API, APPLE)\n",
    "```markdown\n",
    "                                                A\n",
    "                                              /\n",
    "                                            P\n",
    "                                          /   \\\n",
    "                                        I       P\n",
    "                                         \\        \\\n",
    "                                           .        L\n",
    "                                                      \\\n",
    "                                                        E\n",
    "                                                          \\\n",
    "                                                            .\n",
    "```\n",
    "We can clearly see that the $2$ strings share the same prefix *AP* here, in this situation we have to be very careful and important point is **deletion of any string from Trie always strart from the LEAF NODE** then continue up to the root.\n",
    "  * So the first step is to check if this string is in this Trie or not\n",
    "  * After finding that the string is located in the Trie, we start from the last node and go up one by one, every time we check if there is any node which depends on this node over here: (leaf node is *'.'*)\n",
    "    * If there's any, we simply delete it continue upwards. (*'.'* and*I*)\n",
    "    * If there's one it means that we cannot delete it (*P*).\n",
    "  * At this point we have successfully deleted *API* from the Trie."
   ]
  },
  {
   "cell_type": "markdown",
   "metadata": {},
   "source": [
    "* Case 2: The string is a prefix of another string (*API, APIS*)\n",
    "```markdown\n",
    "                                                A\n",
    "                                              /\n",
    "                                            P\n",
    "                                          /   \\\n",
    "                                        I       P\n",
    "                                         \\        \\\n",
    "                                           S.        L\n",
    "                                             \\         \\\n",
    "                                               .        E\n",
    "                                                          \\\n",
    "                                                            .\n",
    "```\n",
    "Here if we want to delete *API* we see that there's another string which depends on *API* so we have a problem, here we won't have to delete the string, we'll just **update the is_word to False** so that we won't recognise it as a complete string and it will just serve as a prefix for other strings.\n",
    "  * The fist step here if we want to delete *API* is to go to the root where we see that *A* exists then we continue to the *P* it also exists we continue to the *I* and it finishes there so the next node will be and end of string node.\n",
    "  * To remove *API* here we just have to remove the end of string by setting*is_word* to *False*\n",
    "\n",
    "* Case 3: Other string is a prefix of this string (*APIS, AP*)\n",
    "```python\n",
    "                                                A\n",
    "                                              /\n",
    "                                            P\n",
    "                                          /\n",
    "                                        I. \n",
    "                                         \\ \n",
    "                                           S\n",
    "                                             \\\n",
    "                                               .\n",
    "```\n",
    "Here we want to delete *APIS* but there is another string *API* which serves a preffix for the string. As always we start from the leaf node but before that we will check if the string *APIS* exists in the Trie or not.\n",
    "* we start from the last node and go up one by one, every time we check if there is any node which depends on this node over here: (leaf node is *'.'*)\n",
    "    * If there's any, we simply delete it continue upwards. (*'.'* and*S*)\n",
    "    * We reach a node with *I* and *is_word* set to *True* it means that the parent of this node is the end of string here in other words *AP* is a complete string here\n",
    "    * We know that when we are indicating end of string we just need a blank node so we don't need *I* here so we can simply remove it\n",
    "\n",
    "\n",
    "* Case 4: Not any node depends on this string (*K*)\n",
    "```python\n",
    "                                        AK\n",
    "                                      /    \\\n",
    "                                    p        .\n",
    "                                  /\n",
    "                                I.\n",
    "                                  \\\n",
    "                                    S\n",
    "                                      \\\n",
    "                                        .\n",
    "```\n",
    "* If we want to delete *K* here we have to check if there is any node that depend on it so go to the child node and check it\n",
    "* We can see that there's no link from *K* to the other nodes it's next node is the end of string node so we can simply remove it\n",
    "* The next step we see that we have to characters but we are only looking to delete *K* so we put the value of *K* to null"
   ]
  },
  {
   "cell_type": "code",
   "execution_count": 28,
   "metadata": {},
   "outputs": [],
   "source": [
    "def delete_string(root, word, index):\n",
    "    char = word[index]\n",
    "    current_node = root.children.get(char)\n",
    "    can_be_deleted = False\n",
    "\n",
    "    # 1st case\n",
    "    if len(current_node.children) > 1:\n",
    "       delete_string(current_node, word, index + 1)\n",
    "       return False\n",
    "    \n",
    "    # 2nd case\n",
    "    if index == len(word) - 1:\n",
    "        if len(current_node.children) >= 1:\n",
    "            current_node.is_word = False\n",
    "            return False\n",
    "        else:\n",
    "            root.children.pop(char)\n",
    "            return True\n",
    "    # 3rd case\n",
    "    if current_node.is_word == True:\n",
    "        delete_string(current_node, word, index + 1)\n",
    "        return False\n",
    "\n",
    "    # 4th case\n",
    "    can_be_deleted = delete_string(current_node, word, index + 1)\n",
    "    if can_be_deleted == True:\n",
    "        root.children.pop(char)\n",
    "        return True\n",
    "    else:\n",
    "        return False"
   ]
  },
  {
   "cell_type": "code",
   "execution_count": 29,
   "metadata": {},
   "outputs": [
    {
     "name": "stdout",
     "output_type": "stream",
     "text": [
      "False\n"
     ]
    }
   ],
   "source": [
    "delete_string(new_trie.root, 'APP', 0)\n",
    "print(new_trie.search_string('APP'))"
   ]
  },
  {
   "cell_type": "markdown",
   "metadata": {},
   "source": [
    "### Practical use of Trie\n",
    "\n",
    "* Auto completion\n",
    "* Spelling checker"
   ]
  }
 ],
 "metadata": {
  "kernelspec": {
   "display_name": "Python 3.10.5 64-bit",
   "language": "python",
   "name": "python3"
  },
  "language_info": {
   "codemirror_mode": {
    "name": "ipython",
    "version": 3
   },
   "file_extension": ".py",
   "mimetype": "text/x-python",
   "name": "python",
   "nbconvert_exporter": "python",
   "pygments_lexer": "ipython3",
   "version": "3.10.5"
  },
  "orig_nbformat": 4,
  "vscode": {
   "interpreter": {
    "hash": "13081b603aa6a013995035d320af2c1f15789dc4224cd169330b49e0b23c4e97"
   }
  }
 },
 "nbformat": 4,
 "nbformat_minor": 2
}

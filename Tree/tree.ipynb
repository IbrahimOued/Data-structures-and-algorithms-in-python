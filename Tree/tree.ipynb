{
 "cells": [
  {
   "cell_type": "markdown",
   "metadata": {},
   "source": [
    "# Tree"
   ]
  },
  {
   "cell_type": "markdown",
   "metadata": {},
   "source": [
    "## Tree terminology"
   ]
  },
  {
   "cell_type": "markdown",
   "metadata": {},
   "source": [
    "* **Root**: The top-most node in the tree.\n",
    "* **Edge**: A link between parent and child\n",
    "* **Leaf**: A node with no children\n",
    "* **Sibling**: Children of the same parent\n",
    "* **Ancestor**: Parent, grandparent, etc.\n",
    "* **Depth of node**: A length of the path from the root to the node\n",
    "* **Height of node**: A length of the path from the node to the deepest node\n",
    "* **Depth of tree**: Depth of root node\n",
    "* **Height of tree**: Height of root node"
   ]
  },
  {
   "cell_type": "markdown",
   "metadata": {},
   "source": [
    "### Create tree class"
   ]
  },
  {
   "cell_type": "code",
   "execution_count": 78,
   "metadata": {},
   "outputs": [],
   "source": [
    "class TreeNode:\n",
    "    def __init__(self, data, children=None):\n",
    "        self.data = data\n",
    "        self.children = children or []\n",
    "\n",
    "    def __str__(self, level=0):\n",
    "        ret = \"\\t\" * level + repr(self.data) + \"\\n\"\n",
    "        for child in self.children:\n",
    "            ret += child.__str__(level + 1)\n",
    "        return ret\n",
    "\n",
    "    def add_child(self, node):\n",
    "        self.children.append(node)"
   ]
  },
  {
   "cell_type": "code",
   "execution_count": 79,
   "metadata": {},
   "outputs": [],
   "source": [
    "custom_tree = TreeNode(\"Drinks\")\n",
    "cold = TreeNode(\"Cold\")\n",
    "hot = TreeNode(\"Hot\")"
   ]
  },
  {
   "cell_type": "code",
   "execution_count": 80,
   "metadata": {},
   "outputs": [
    {
     "name": "stdout",
     "output_type": "stream",
     "text": [
      "'Drinks'\n",
      "\t'Cold'\n",
      "\t'Hot'\n",
      "\n"
     ]
    }
   ],
   "source": [
    "custom_tree.add_child(cold)\n",
    "custom_tree.add_child(hot)\n",
    "print(custom_tree)"
   ]
  },
  {
   "cell_type": "code",
   "execution_count": 81,
   "metadata": {},
   "outputs": [
    {
     "name": "stdout",
     "output_type": "stream",
     "text": [
      "'Drinks'\n",
      "\t'Cold'\n",
      "\t\t'Cola'\n",
      "\t\t'Fanta'\n",
      "\t'Hot'\n",
      "\t\t'Tea'\n",
      "\t\t'Coffee'\n",
      "\n"
     ]
    }
   ],
   "source": [
    "tea = TreeNode(\"Tea\")\n",
    "coffee = TreeNode(\"Coffee\")\n",
    "cola = TreeNode(\"Cola\")\n",
    "fanta = TreeNode(\"Fanta\")\n",
    "\n",
    "cold.add_child(cola)\n",
    "cold.add_child(fanta)\n",
    "hot.add_child(tea)\n",
    "hot.add_child(coffee)\n",
    "print(custom_tree)"
   ]
  },
  {
   "cell_type": "markdown",
   "metadata": {},
   "source": [
    "## Binary Tree"
   ]
  },
  {
   "cell_type": "markdown",
   "metadata": {},
   "source": [
    "* Binary trees are the data structures in which ***each node has at most two children***, often referred to as ***left and right children***.\n",
    "* Binary tree is a family of data structure (BST, Heap Tree, AVL, Red black tree, syntax tree, etc.)\n",
    "\n",
    "#### Why binary tree?\n",
    "* Binary trees are prerequisite for more advanced trees like **BST**, **Heap Tree**, **AVL**, **Red black tree**\n",
    "* **Huffman coding problem**, **Heap priority problem** and **expression parsong problems** can be solved efficiently using binary trees"
   ]
  },
  {
   "cell_type": "markdown",
   "metadata": {},
   "source": [
    "### Types of Binary trees\n",
    "\n",
    "* **Full binary tree**: A binary tree in which every node has 0 or 2 children, none of them have 1 child\n",
    "* **Perfect Binary tree**: A binary tree in which every non leaf node has exactly two children and all leaf node are on the same level\n",
    "* **Complete binary tree**: A binary tree in which every level, except possibly the last, is completely filled, and all nodes are as far left as possible\n",
    "* **Balance binary tree**: A binary tree in which all the leaf nodes are located at the same distance from the root"
   ]
  },
  {
   "cell_type": "markdown",
   "metadata": {},
   "source": [
    "### Binary tree using Linked List"
   ]
  },
  {
   "cell_type": "code",
   "execution_count": 82,
   "metadata": {},
   "outputs": [],
   "source": [
    "class BTreeNode:\n",
    "    def __init__(self, data):\n",
    "        self.data = data\n",
    "        self.left = None\n",
    "        self.right = None\n",
    "\n",
    "new_binary_tree = BTreeNode(\"Drinks\")\n",
    "left_child = BTreeNode(\"Hot\")\n",
    "tea = BTreeNode(\"Tea\")\n",
    "coffee = BTreeNode(\"Coffee\")\n",
    "left_child.left = tea\n",
    "left_child.right = coffee\n",
    "right_child = BTreeNode(\"Cold\")\n",
    "new_binary_tree.left = left_child\n",
    "new_binary_tree.right = right_child"
   ]
  },
  {
   "cell_type": "code",
   "execution_count": 83,
   "metadata": {},
   "outputs": [
    {
     "name": "stdout",
     "output_type": "stream",
     "text": [
      "Drinks\n",
      "Hot\n",
      "Tea\n",
      "Coffee\n",
      "Cold\n"
     ]
    }
   ],
   "source": [
    "def preorder_traversal(node):\n",
    "    if node:\n",
    "        print(node.data)\n",
    "        preorder_traversal(node.left)\n",
    "        preorder_traversal(node.right)\n",
    "\n",
    "\n",
    "preorder_traversal(new_binary_tree)"
   ]
  },
  {
   "cell_type": "code",
   "execution_count": 84,
   "metadata": {},
   "outputs": [
    {
     "name": "stdout",
     "output_type": "stream",
     "text": [
      "Tea\n",
      "Hot\n",
      "Coffee\n",
      "Drinks\n",
      "Cold\n"
     ]
    }
   ],
   "source": [
    "def inorder_traversal(node):\n",
    "    if node:\n",
    "        inorder_traversal(node.left)\n",
    "        print(node.data)\n",
    "        inorder_traversal(node.right)\n",
    "\n",
    "inorder_traversal(new_binary_tree)"
   ]
  },
  {
   "cell_type": "code",
   "execution_count": 85,
   "metadata": {},
   "outputs": [
    {
     "name": "stdout",
     "output_type": "stream",
     "text": [
      "Tea\n",
      "Coffee\n",
      "Hot\n",
      "Cold\n",
      "Drinks\n"
     ]
    }
   ],
   "source": [
    "def postorder_traversal(node):\n",
    "    if node:\n",
    "        postorder_traversal(node.left)\n",
    "        postorder_traversal(node.right)\n",
    "        print(node.data)\n",
    "        \n",
    "postorder_traversal(new_binary_tree)"
   ]
  },
  {
   "cell_type": "code",
   "execution_count": 86,
   "metadata": {},
   "outputs": [
    {
     "name": "stdout",
     "output_type": "stream",
     "text": [
      "Drinks\n",
      "Hot\n",
      "Cold\n",
      "Tea\n",
      "Coffee\n"
     ]
    }
   ],
   "source": [
    "class LinkedListNode:\n",
    "    def __init__(self, value):\n",
    "        self.value = value\n",
    "        self.next = None\n",
    "\n",
    "    def __str__(self):\n",
    "        return str(self.value)\n",
    "\n",
    "class LinkedList:\n",
    "    def __init__(self, head=None, tail=None):\n",
    "        self.head = head\n",
    "        self.tail = tail\n",
    "\n",
    "class Queue:\n",
    "    def __init__(self):\n",
    "        self.linked_list = LinkedList()\n",
    "        self.size = 0\n",
    "\n",
    "    def enqueue(self, item):\n",
    "        newNode = LinkedListNode(item)\n",
    "        if self.linked_list.head is None:\n",
    "            self.linked_list.head = newNode\n",
    "            self.linked_list.tail = newNode\n",
    "        else:\n",
    "            self.linked_list.tail.next = newNode\n",
    "            self.linked_list.tail = newNode\n",
    "        self.size += 1\n",
    "\n",
    "    def is_empty(self):\n",
    "        return self.linked_list.head is None\n",
    "\n",
    "    def dequeue(self):\n",
    "        if self.is_empty():\n",
    "            return None\n",
    "        else:\n",
    "            tempNode = self.linked_list.head\n",
    "            if self.linked_list.head == self.linked_list.tail:\n",
    "                self.linked_list.head = None\n",
    "                self.linked_list.tail = None\n",
    "            else:\n",
    "                self.linked_list.head = self.linked_list.head.next\n",
    "                self.size -= 1\n",
    "        return tempNode\n",
    "\n",
    "    def peek(self):\n",
    "        if self.is_empty():\n",
    "            return None\n",
    "        else:\n",
    "            return self.linked_list.head\n",
    "\n",
    "def level_order_traversal(node):\n",
    "    if not node:\n",
    "        return\n",
    "    else:\n",
    "        queue = Queue()\n",
    "        queue.enqueue(node)\n",
    "        while not queue.is_empty():\n",
    "            current_node = queue.dequeue()\n",
    "            print(current_node.value.data)\n",
    "            if current_node.value.left:\n",
    "                queue.enqueue(current_node.value.left)\n",
    "            if current_node.value.right:\n",
    "                queue.enqueue(current_node.value.right)\n",
    "\n",
    "\n",
    "level_order_traversal(new_binary_tree)"
   ]
  },
  {
   "cell_type": "markdown",
   "metadata": {},
   "source": [
    "### Search for a node in a binary tree"
   ]
  },
  {
   "cell_type": "markdown",
   "metadata": {},
   "source": [
    "The idea is to traverse the binary tree and check if the node is present in the tree or not.\n",
    "The question is which traversal method to use.\n",
    "In this case we will use **Level order traversal** because all other traversal methods use **stack** but **Level order traversal** uses **queue** and we know that **queue** performs better than **stack**."
   ]
  },
  {
   "cell_type": "code",
   "execution_count": 87,
   "metadata": {},
   "outputs": [
    {
     "data": {
      "text/plain": [
       "False"
      ]
     },
     "execution_count": 87,
     "metadata": {},
     "output_type": "execute_result"
    }
   ],
   "source": [
    "def searchBT(root, node):\n",
    "    if root is None:\n",
    "        return False\n",
    "    else:\n",
    "        queue = Queue()\n",
    "        queue.enqueue(root)\n",
    "        while not queue.is_empty():\n",
    "            temp = queue.dequeue()\n",
    "            if temp.value.data == node:\n",
    "                return True\n",
    "            if temp.value.left:\n",
    "                queue.enqueue(temp.value.left)\n",
    "            if temp.value.right:\n",
    "                queue.enqueue(temp.value.right)\n",
    "        return False\n",
    "\n",
    "searchBT(new_binary_tree, \"Fanta\")"
   ]
  },
  {
   "cell_type": "markdown",
   "metadata": {},
   "source": [
    "### Insert a node in a binary tree\n",
    "There are two option for us\n",
    "* **A root node is blank** : It's a blank tree\n",
    "* **The tree exists and we have to look for a first vacant place**\n",
    "\n",
    "In the first option if there is no root, we simply create a root and assign the value to it.\n",
    "\n",
    "For the second case, we should traverse (level order) the root and look for the first vacant place.\n",
    "The insert order always goes from left to right."
   ]
  },
  {
   "cell_type": "code",
   "execution_count": 88,
   "metadata": {},
   "outputs": [],
   "source": [
    "def insert_node(root, node):\n",
    "    if root is None:\n",
    "        root = node\n",
    "    else:\n",
    "        queue = Queue()\n",
    "        queue.enqueue(root)\n",
    "        while not queue.is_empty():\n",
    "            temp = queue.dequeue()\n",
    "            if temp.value.left is None:\n",
    "                temp.value.left = node\n",
    "                return\n",
    "            elif temp.value.right is None:\n",
    "                temp.value.right = node\n",
    "                return\n",
    "            else:\n",
    "                queue.enqueue(temp.value.left)\n",
    "                queue.enqueue(temp.value.right)"
   ]
  },
  {
   "cell_type": "code",
   "execution_count": 89,
   "metadata": {},
   "outputs": [
    {
     "name": "stdout",
     "output_type": "stream",
     "text": [
      "Drinks\n",
      "Hot\n",
      "Cold\n",
      "Tea\n",
      "Coffee\n",
      "Cola\n"
     ]
    }
   ],
   "source": [
    "new_node = BTreeNode(\"Cola\")\n",
    "insert_node(new_binary_tree, new_node)\n",
    "level_order_traversal(new_binary_tree)"
   ]
  },
  {
   "cell_type": "markdown",
   "metadata": {},
   "source": [
    "### Delete a node from a binary tree\n",
    "\n",
    "Here we have two options as well\n",
    "* **The value exists**\n",
    "* **The element exists but we need to delete the deepest node**\n",
    "\n",
    "In the deletion process we will switch values of the last element in the tree while traversing it using level order and the node that we want to delete."
   ]
  },
  {
   "cell_type": "code",
   "execution_count": 90,
   "metadata": {},
   "outputs": [
    {
     "name": "stdout",
     "output_type": "stream",
     "text": [
      "Tea has been deleted\n",
      "Drinks\n",
      "Hot\n",
      "Cold\n",
      "Cola\n",
      "Coffee\n"
     ]
    }
   ],
   "source": [
    "# 1 The deepest node retrieval method\n",
    "def get_deepest_node(root):\n",
    "    if not root:\n",
    "        return\n",
    "    else:\n",
    "        queue = Queue()\n",
    "        queue.enqueue(root)\n",
    "        while not queue.is_empty():\n",
    "            deepest_node = queue.dequeue()\n",
    "            if deepest_node.value.left:\n",
    "                queue.enqueue(deepest_node.value.left)\n",
    "            if deepest_node.value.right:\n",
    "                queue.enqueue(deepest_node.value.right)\n",
    "        return deepest_node.value\n",
    "\n",
    "# 2 Delete the deepest node\n",
    "def delete_deepest_node(root, node):\n",
    "    if not root:\n",
    "        return\n",
    "    else:\n",
    "        queue = Queue()\n",
    "        queue.enqueue(root)\n",
    "        while not queue.is_empty():\n",
    "            temp = queue.dequeue()\n",
    "            if temp.value is node:\n",
    "                temp.value = None\n",
    "                return\n",
    "            if temp.value.left:\n",
    "                if temp.value.left is node:\n",
    "                    temp.value.left = None\n",
    "                    return\n",
    "                else:\n",
    "                    queue.enqueue(temp.value.left)\n",
    "            if temp.value.right:\n",
    "                if temp.value.right is node:\n",
    "                    return\n",
    "                else:\n",
    "                    queue.enqueue(temp.value.right)\n",
    "\n",
    "# new_node = get_deepest_node(new_binary_tree)\n",
    "# print(new_node.data)\n",
    "# delete_deepest_node(new_binary_tree, new_node)\n",
    "\n",
    "# level_order_traversal(new_binary_tree)\n",
    "\n",
    "def delete_node_binary_tree(root, node):\n",
    "    if not root:\n",
    "        return\n",
    "    else:\n",
    "        queue = Queue()\n",
    "        queue.enqueue(root)\n",
    "        while not queue.is_empty():\n",
    "            temp = queue.dequeue()\n",
    "            if temp.value.data is node:\n",
    "                deepest_node = get_deepest_node(root)\n",
    "                temp.value.data = deepest_node.data\n",
    "                delete_deepest_node(root, deepest_node)\n",
    "                return f\"{node} has been deleted\"\n",
    "            if temp.value.left:\n",
    "                queue.enqueue(temp.value.left)\n",
    "            if temp.value.right:\n",
    "                queue.enqueue(temp.value.right)\n",
    "        return f\"{node} has not been found\"\n",
    "\n",
    "print(delete_node_binary_tree(new_binary_tree, \"Tea\"))\n",
    "level_order_traversal(new_binary_tree)"
   ]
  },
  {
   "cell_type": "markdown",
   "metadata": {},
   "source": [
    "### Delete the entire binary tree"
   ]
  },
  {
   "cell_type": "markdown",
   "metadata": {},
   "source": [
    "To delete the entire binary tree, we can simply set the root to None along with the left and right child."
   ]
  },
  {
   "cell_type": "code",
   "execution_count": 91,
   "metadata": {},
   "outputs": [],
   "source": [
    "def delete_binary_tree(root):\n",
    "    root.data = None\n",
    "    root.left = None\n",
    "    root.right = None\n",
    "    return \"Binary tree has been deleted\""
   ]
  },
  {
   "cell_type": "markdown",
   "metadata": {},
   "source": [
    "## Implementation of Tree using python list"
   ]
  },
  {
   "cell_type": "markdown",
   "metadata": {},
   "source": [
    "Before doing this, let's quickly recap how a queue works using python list"
   ]
  },
  {
   "cell_type": "markdown",
   "metadata": {},
   "source": [
    "In typical array representation of a tree, if **a node is stored at index** $i$ , \n",
    "\n",
    "it’s **left child** can be found at \n",
    "\n",
    "$2 \\times i + 1$\n",
    "\n",
    "Its **right child** can be found at\n",
    "\n",
    "$2 \\times i + 2$"
   ]
  },
  {
   "cell_type": "markdown",
   "metadata": {},
   "source": [
    "We will left the first index of the list as it will our life easier for mathematical calculations.\n",
    "\n",
    "                            N1\n",
    "                           /  \\\n",
    "                          N2   N3\n",
    "                         / \\   / \\\n",
    "                        N4 N5 N6  N7\n",
    "\n",
    "|    0     |   1   |   2   |   3   |   4   |   5   |   6   |   7   |   8   |\n",
    "| :------: | :---: | :---: | :---: | :---: | :---: | :---: | :---: | :---: |\n",
    "| $\\times$ | $N_1$ | $N_2$ | $N_3$ | $N_4$ | $N_5$ | $N_6$ | $N_7$ | $N_8$ |\n",
    "\n",
    "The root node will be inserted at the index $1$ and based on this we will calculate left and right regarding the following formulas:\n",
    "\n",
    "$left~child = cell[2 \\times x] \\rArr x = 1,~cell[2 \\times 1 = 2]$\n",
    "\n",
    "$right~child = cell[2 \\times x + 1] \\rArr x = 1,~cell[2 \\times 1 + 1 = 3]$"
   ]
  },
  {
   "cell_type": "markdown",
   "metadata": {},
   "source": [
    "### Create a list binary tree"
   ]
  },
  {
   "cell_type": "code",
   "execution_count": 1,
   "metadata": {},
   "outputs": [],
   "source": [
    "class ListBinaryTree:\n",
    "    def __init__(self, size):\n",
    "        self.custom_list = size * [None]\n",
    "        self.last_used_index = 0\n",
    "        self.size = size"
   ]
  },
  {
   "cell_type": "markdown",
   "metadata": {},
   "source": [
    "### Insert a node in a list binary tree"
   ]
  },
  {
   "cell_type": "markdown",
   "metadata": {},
   "source": [
    "We need to face 2 options:\n",
    "* **The tree is full** return a message saying the tree is full\n",
    "* We have to look for a first vacant place"
   ]
  },
  {
   "cell_type": "code",
   "execution_count": 93,
   "metadata": {},
   "outputs": [],
   "source": [
    "class ListBinaryTree:\n",
    "    def __init__(self, size):\n",
    "        self.custom_list = size * [None]\n",
    "        self.last_used_index = 0\n",
    "        self.size = size\n",
    "\n",
    "    def insert_node(self, value):\n",
    "        if self.last_used_index + 1 == self.size:\n",
    "            return \"The list is full\"\n",
    "        else:\n",
    "            self.custom_list[self.last_used_index + 1] = value\n",
    "            self.last_used_index += 1\n",
    "            return \"Node has been inserted\""
   ]
  },
  {
   "cell_type": "markdown",
   "metadata": {},
   "source": [
    "### Searching for a node in List Binary Tree\n",
    "\n",
    "We still use level order traversal"
   ]
  },
  {
   "cell_type": "code",
   "execution_count": 94,
   "metadata": {},
   "outputs": [],
   "source": [
    "class ListBinaryTree:\n",
    "    def __init__(self, size):\n",
    "        self.custom_list = size * [None]\n",
    "        self.last_used_index = 0\n",
    "        self.size = size\n",
    "\n",
    "    def insert_node(self, value):\n",
    "        if self.last_used_index + 1 == self.size:\n",
    "            return \"The list is full\"\n",
    "        else:\n",
    "            self.custom_list[self.last_used_index + 1] = value\n",
    "            self.last_used_index += 1\n",
    "            return \"Node has been inserted\"\n",
    "\n",
    "    def search_node(self, value):\n",
    "        for i in range(len(self.custom_list)):\n",
    "            if self.custom_list[i] == value:\n",
    "                return f\"{value} has been found\"\n",
    "        return f\"{value} has not been found\""
   ]
  },
  {
   "cell_type": "markdown",
   "metadata": {},
   "source": [
    "### Let's see preorder, inorder and postorder traversal"
   ]
  },
  {
   "cell_type": "code",
   "execution_count": 95,
   "metadata": {},
   "outputs": [
    {
     "name": "stdout",
     "output_type": "stream",
     "text": [
      "Node has been inserted\n",
      "Node has been inserted\n",
      "Node has been inserted\n",
      "Node has been inserted\n",
      "Node has been inserted\n",
      "Tea has been found\n",
      "Tea\n",
      "Coffee\n",
      "Hot\n",
      "Cold\n",
      "Drinks\n"
     ]
    }
   ],
   "source": [
    "class ListBinaryTree:\n",
    "    def __init__(self, size):\n",
    "        self.custom_list = size * [None]\n",
    "        self.last_used_index = 0\n",
    "        self.size = size\n",
    "\n",
    "    def insert_node(self, value):\n",
    "        if self.last_used_index + 1 == self.size:\n",
    "            return \"The list is full\"\n",
    "        else:\n",
    "            self.custom_list[self.last_used_index + 1] = value\n",
    "            self.last_used_index += 1\n",
    "            return \"Node has been inserted\"\n",
    "\n",
    "    def search_node(self, value):\n",
    "        for i in range(len(self.custom_list)):\n",
    "            if self.custom_list[i] == value:\n",
    "                return f\"{value} has been found\"\n",
    "        return f\"{value} has not been found\"\n",
    "\n",
    "    # Preorder traversal\n",
    "    def preorder_traversal(self, index):\n",
    "        if index > self.last_used_index:\n",
    "            return\n",
    "        print(self.custom_list[index])\n",
    "        self.preorder_traversal(index * 2)\n",
    "        self.preorder_traversal(index * 2 + 1)\n",
    "\n",
    "    # Inorder traversal\n",
    "    def inorder_traversal(self, index):\n",
    "        if index > self.last_used_index:\n",
    "            return\n",
    "        self.inorder_traversal(index * 2)\n",
    "        print(self.custom_list[index])\n",
    "        self.inorder_traversal(index * 2 + 1)\n",
    "\n",
    "    # Postorder traversal\n",
    "    def postorder_traversal(self, index):\n",
    "        if index > self.last_used_index:\n",
    "            return\n",
    "        self.postorder_traversal(index * 2)\n",
    "        self.postorder_traversal(index * 2 + 1)\n",
    "        print(self.custom_list[index])\n",
    "\n",
    "    # Level order traversal\n",
    "    def level_order_traversal(self, index):\n",
    "        for i in range(index, self.last_used_index + 1):\n",
    "            print(self.custom_list[i])\n",
    "\n",
    "    # Delete node\n",
    "    def delete_node(self, value):\n",
    "        if self.last_used_index == 0:\n",
    "            return \"Any node to delete\"\n",
    "        for i in range(1, len(self.custom_list) + 1):\n",
    "            if self.custom_list[i] == value:\n",
    "                self.custom_list[i] = self.custom_list[self.last_used_index]\n",
    "                self.custom_list[self.last_used_index] = None\n",
    "                return f\"{value} has been deleted\"\n",
    "        return f\"{value} has not been found\"\n",
    "    \n",
    "    def delete_list_binary_tree(self):\n",
    "        self.custom_list = None\n",
    "        return \"List binary tree has been deleted\"\n",
    "\n",
    "new_bt = ListBinaryTree(8)\n",
    "print(new_bt.insert_node(\"Drinks\"))\n",
    "print(new_bt.insert_node(\"Hot\"))\n",
    "print(new_bt.insert_node(\"Cold\"))\n",
    "print(new_bt.insert_node(\"Tea\"))\n",
    "print(new_bt.insert_node(\"Coffee\"))\n",
    "print(new_bt.search_node(\"Tea\"))\n",
    "\n",
    "new_bt.postorder_traversal(1)"
   ]
  },
  {
   "cell_type": "markdown",
   "metadata": {},
   "source": [
    "### Delete a node from list binary tree"
   ]
  },
  {
   "cell_type": "code",
   "execution_count": 96,
   "metadata": {},
   "outputs": [
    {
     "name": "stdout",
     "output_type": "stream",
     "text": [
      "Tea has been deleted\n",
      "Coffee\n",
      "None\n",
      "Hot\n",
      "Cold\n",
      "Drinks\n"
     ]
    }
   ],
   "source": [
    "print(new_bt.delete_node(\"Tea\"))\n",
    "new_bt.postorder_traversal(1)"
   ]
  },
  {
   "cell_type": "markdown",
   "metadata": {},
   "source": [
    "### Delete the entire binary tree"
   ]
  },
  {
   "cell_type": "markdown",
   "metadata": {},
   "source": [
    "In case of list we should update the python list to $None$"
   ]
  },
  {
   "cell_type": "code",
   "execution_count": 97,
   "metadata": {},
   "outputs": [
    {
     "data": {
      "text/plain": [
       "'List binary tree has been deleted'"
      ]
     },
     "execution_count": 97,
     "metadata": {},
     "output_type": "execute_result"
    }
   ],
   "source": [
    "new_bt.delete_list_binary_tree()"
   ]
  }
 ],
 "metadata": {
  "kernelspec": {
   "display_name": "Python 3.10.5 64-bit",
   "language": "python",
   "name": "python3"
  },
  "language_info": {
   "codemirror_mode": {
    "name": "ipython",
    "version": 3
   },
   "file_extension": ".py",
   "mimetype": "text/x-python",
   "name": "python",
   "nbconvert_exporter": "python",
   "pygments_lexer": "ipython3",
   "version": "3.10.5"
  },
  "orig_nbformat": 4,
  "vscode": {
   "interpreter": {
    "hash": "13081b603aa6a013995035d320af2c1f15789dc4224cd169330b49e0b23c4e97"
   }
  }
 },
 "nbformat": 4,
 "nbformat_minor": 2
}

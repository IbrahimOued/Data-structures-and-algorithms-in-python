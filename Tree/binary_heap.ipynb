{
 "cells": [
  {
   "cell_type": "markdown",
   "metadata": {},
   "source": [
    "# Binary heap"
   ]
  },
  {
   "cell_type": "markdown",
   "metadata": {},
   "source": [
    "## What is a binary heap?\n",
    "A binary heap is a binary tree with the following properties\n",
    "* A binary heap is either **Min Heap** or **Max Heap**. In a\n",
    "  * Min Heap, **the key at root must be minimum among all keys present in Binary Heap**. The same property must be recursively true for all keys present in Binary Heap.\n",
    "  * Max Heap, **the key at root must be maximum among all keys present in Binary Heap**. The same property must be recursively true for all keys present in Binary Heap.\n",
    "* It's a complete tree (**all levels are completely filled except possibly the last level** and the **last level has all keys *as left as possible***). This property of Binary Heap **makes them suitable to be stored in an array**."
   ]
  },
  {
   "cell_type": "markdown",
   "metadata": {},
   "source": [
    "                                    5\n",
    "                                   / \\\n",
    "                                 10   20\n",
    "                                / \\   / \\\n",
    "                              30  40 50 60\n",
    "                             / \\\n",
    "                           70   80"
   ]
  },
  {
   "cell_type": "markdown",
   "metadata": {},
   "source": [
    "Because of these properties, it becomes an ideal candidate for *array* and *list* implementation in python, because in the case of *fixed size* array we typically want the **maximum number of cells to be filled** and we don't want cells to be empty cause they occupy space in memory, since it's a complete tree it will ensure that most of array will be filled."
   ]
  },
  {
   "cell_type": "markdown",
   "metadata": {},
   "source": [
    "### Why do we need a binary heap?"
   ]
  },
  {
   "cell_type": "markdown",
   "metadata": {},
   "source": [
    "Find the minimum or maximum number among a set of numbers in logN time. And also we want to make sure that inserting additional numbers does not take more than $\\Omicron(logn)$ time."
   ]
  },
  {
   "cell_type": "markdown",
   "metadata": {},
   "source": [
    "Possible solution:\n",
    "\n",
    "* Store the numbers in a sorted array.\n",
    "  * Find minimum $\\Omicron(1)$\n",
    "  * Insertion $\\Omicron(n)$\n",
    "* Store the numbers in a linked list in sorted manner\n",
    "  * Insertion $\\Omicron(n)$"
   ]
  },
  {
   "cell_type": "markdown",
   "metadata": {},
   "source": [
    "The only solution left is *binary heap*\n",
    "* We can find our minimum or maximum in a $\\Omicron(logn)$ time complexity"
   ]
  },
  {
   "cell_type": "markdown",
   "metadata": {},
   "source": [
    "### Practical Use\n",
    "\n",
    "* **Prim's algorithm**\n",
    "* **Heap Sort**\n",
    "* **Priority Queue**"
   ]
  },
  {
   "cell_type": "markdown",
   "metadata": {},
   "source": [
    "There are two types of binary heaps:\n",
    "* Min Heap : The value of each node is less than or equal to the value of both its children.\n",
    "\n",
    "```markdown\n",
    "                                    5\n",
    "                                   / \\\n",
    "                                 10   20\n",
    "                                / \\   / \\\n",
    "                               30  40 50 60\n",
    "                              / \\\n",
    "                             70  80\n",
    "```\n",
    "\n",
    "* Max Heap : The value of each node is greater than the value of both its children.\n",
    "```markdown\n",
    "\n",
    "                                    80\n",
    "                                   /  \\\n",
    "                                  70   60\n",
    "                                 / \\   / \\\n",
    "                                50  40 30 20\n",
    "                                / \\\n",
    "                               5  10\n",
    "```"
   ]
  },
  {
   "cell_type": "markdown",
   "metadata": {},
   "source": [
    "### Common operations on Binary heap"
   ]
  },
  {
   "cell_type": "markdown",
   "metadata": {},
   "source": [
    "#### Creation of Binary Heap"
   ]
  },
  {
   "cell_type": "markdown",
   "metadata": {},
   "source": [
    "We can implement binary heap using:\n",
    "* Array implementation\n",
    "* Regerence/pointer implementation\n",
    "\n",
    "There is no difference between these 2 implementation but here we'll use the array base implementation is the best fit for binary heap implementation.\n"
   ]
  },
  {
   "cell_type": "markdown",
   "metadata": {},
   "source": [
    "* Initialize fixed size list"
   ]
  },
  {
   "cell_type": "code",
   "execution_count": 9,
   "metadata": {},
   "outputs": [],
   "source": [
    "class Heap:\n",
    "    def __init__(self, size):\n",
    "        self.custom_list = (size + 1) * [None] # Ititialize the list with None\n",
    "        self.heap_size = 0\n",
    "        self.max_size = size + 1 # We put +1 because we won't use the oth cell"
   ]
  },
  {
   "cell_type": "markdown",
   "metadata": {},
   "source": [
    "#### Peak of Binary Heap\n",
    "\n",
    "The peek of the list is the root of the heap. Root is always located at the index $1$ so is our *peek*. So we just have to return the cell with index $1$."
   ]
  },
  {
   "cell_type": "code",
   "execution_count": 10,
   "metadata": {},
   "outputs": [],
   "source": [
    "def peek(root):\n",
    "    if not root:\n",
    "        return None\n",
    "    else:\n",
    "        return root.custom_list[1]"
   ]
  },
  {
   "cell_type": "markdown",
   "metadata": {},
   "source": [
    "### Size of heap\n",
    "\n",
    "Return the numver of filled cells and not the size of the whole list."
   ]
  },
  {
   "cell_type": "code",
   "execution_count": 11,
   "metadata": {},
   "outputs": [],
   "source": [
    "def size_of_heap(root):\n",
    "    if not root:\n",
    "        return\n",
    "    else:\n",
    "        return root.heap_size"
   ]
  },
  {
   "cell_type": "code",
   "execution_count": 12,
   "metadata": {},
   "outputs": [],
   "source": [
    "def level_order_traversal(root):\n",
    "    if not root:\n",
    "        return None\n",
    "    else:\n",
    "        for i in range(1, root.heap_size + 1):\n",
    "            print(root.custom_list[i])"
   ]
  },
  {
   "cell_type": "markdown",
   "metadata": {},
   "source": [
    "#### Insertion of node in binary heap\n",
    "\n",
    "We'll go with this binary heap:\n",
    "\n",
    "                                    5\n",
    "                                   / \\\n",
    "                                 10   20\n",
    "                                / \\   / \\\n",
    "                              30  40 50 60\n",
    "\n",
    "|    0     |  1  |  2   |  3   |  4   |  5   |  6   |  7   |  8  |\n",
    "| :------: | :-: | :--: | :--: | :--: | :--: | :--: | :--: | :-: |\n",
    "| $\\times$ | $5$ | $10$ | $20$ | $30$ | $40$ | $50$ | $60$ |     |\n",
    "\n",
    "We want to add $1$ in the binary heap:\n",
    "\n",
    "We first need to find the $1^{st}$ unused cell and according to the property of binary heap, it should be *a complete tree* but in the last level we *can have nodes as left as possible*\n",
    "After inserting $1$ our binary heap will be\n",
    "\n",
    "                                    5\n",
    "                                   / \\\n",
    "                                 10   20\n",
    "                                / \\   / \\\n",
    "                              30  40 50 60\n",
    "                             /\n",
    "                            1\n",
    "\n",
    "We see that we have a problem as we are violating the property of binary heap which says that the **the root is always smaller than the left and right children**. We need to make adjustement to conform to the property of binary heap.                   \n",
    "\n",
    "We will swith the value of $1$ with the value of $30$\n",
    "\n",
    "                                    5\n",
    "                                   / \\\n",
    "                                 10   20\n",
    "                                / \\   / \\\n",
    "                               1  40 50 60\n",
    "                             /\n",
    "                           30\n",
    "                           \n",
    "We still have the same issue so we need to continue the adjustment until conforming to the property of binary heap\n",
    "\n",
    "                                    1\n",
    "                                   / \\\n",
    "                                  5   20\n",
    "                                / \\   / \\\n",
    "                              10  40 50 60\n",
    "                             /\n",
    "                            30"
   ]
  },
  {
   "cell_type": "markdown",
   "metadata": {},
   "source": [
    "Let's first create a method to handle the adjustement in the binary heap:"
   ]
  },
  {
   "cell_type": "code",
   "execution_count": 13,
   "metadata": {},
   "outputs": [],
   "source": [
    "def heapify_tree_insert(root, index, heap_type): # index is the index of the node we want to do adjustment on\n",
    "    parent_index = index // 2\n",
    "    if index <= 1:\n",
    "        return\n",
    "    elif heap_type == 'max':\n",
    "        if root.custom_list[index] > root.custom_list[parent_index]:\n",
    "            # Swap the parent and the child\n",
    "            # we could have use a temp variable to store the parent and then swap them\n",
    "            root.custom_list[index], root.custom_list[parent_index] = root.custom_list[parent_index], root.custom_list[index]\n",
    "        heapify_tree_insert(root, parent_index, heap_type)\n",
    "    elif heap_type == 'min':\n",
    "        if root.custom_list[index] < root.custom_list[parent_index]:\n",
    "            root.custom_list[index], root.custom_list[parent_index] = root.custom_list[parent_index], root.custom_list[index]\n",
    "        heapify_tree_insert(root, parent_index, heap_type)\n",
    "\n",
    "def insert_node(root, node, heap_type):\n",
    "    if root.heap_size + 1 == root.max_size:\n",
    "        return f'Heap is full'\n",
    "    root.custom_list[root.heap_size + 1] = node\n",
    "    root.heap_size += 1\n",
    "    heapify_tree_insert(root, root.heap_size, heap_type)"
   ]
  },
  {
   "cell_type": "markdown",
   "metadata": {},
   "source": [
    "The first thing to do is finding the parent index of the index we want to adjust. To find the parent we'll do $parent_{index} = \\frac{index}{2}$ as we were doing $child_{index} = 2 \\times index$ while creating the binary heap."
   ]
  },
  {
   "cell_type": "markdown",
   "metadata": {},
   "source": [
    "#### Extract a node from Binary Heap"
   ]
  },
  {
   "cell_type": "markdown",
   "metadata": {},
   "source": [
    "Let's keep in mind that the only element that can be extracted from heap is the **root node**. Once the root has been extracted another element has to be promoted as root.\n",
    "\n",
    "Let's continue with this example:\n",
    "\n",
    "                                5\n",
    "                               / \\\n",
    "                             10   20\n",
    "                            / \\   / \\\n",
    "                          30  40 50  60\n",
    "                         /\n",
    "                       80\n",
    "The element that can be extracted is $5$ after extracting it, we wont't have a root node to fix this situation let's make some adjustement to set a new root node\n",
    "\n",
    "* First we will look for the last element in the binary heap, here $80$ and then replace this element with the root node\n",
    "* After doing that we have a problem of violationg binary heap property and to solve it we need to promote one of the chilfren of the new root node\n",
    "  * When we face a minimum heap, we select the smaller child, $10$ in our example.\n",
    "  * When we face a maximum heap, it will the the biggest child\n",
    "* We repreat the swapping of the smallest child (or biggest) if needed to make the heap respect the binary heap property"
   ]
  },
  {
   "cell_type": "code",
   "execution_count": 14,
   "metadata": {},
   "outputs": [
    {
     "name": "stdout",
     "output_type": "stream",
     "text": [
      "1\n",
      "3\n",
      "4\n",
      "7\n"
     ]
    }
   ],
   "source": [
    "def heapify_tree_extract(root, index, heap_type): # index is the index of the node we want to do adjustment on\n",
    "    left_index = index * 2\n",
    "    right_index = (index * 2) + 1\n",
    "    swap_child = 0\n",
    "    if root.heap_size < left_index:\n",
    "        return\n",
    "    elif root.heap_size == left_index:\n",
    "        if heap_type == 'min':\n",
    "            if root.custom_list[index] > root.custom_list[left_index]:\n",
    "                root.custom_list[index], root.custom_list[left_index] = root.custom_list[left_index], root.custom_list[index]\n",
    "            return\n",
    "        else:\n",
    "            if root.custom_list[index] < root.custom_list[left_index]:\n",
    "                root.custom_list[index], root.custom_list[left_index] = root.custom_list[left_index], root.custom_list[index]\n",
    "    else:\n",
    "        if heap_type == 'min':\n",
    "            if root.custom_list[left_index] < root.custom_list[right_index]:\n",
    "                swap_child = left_index\n",
    "            else:\n",
    "                swap_child = right_index\n",
    "            if root.custom_list[index] == root.custom_list[swap_child]:\n",
    "                root.custom_list[index], root.custom_list[swap_child] = root.custom_list[swap_child], root.custom_list[index]\n",
    "        heapify_tree_extract(root, swap_child, heap_type)\n",
    "\n",
    "def extrat_node(root, heap_type):\n",
    "    if root.heap_size == 0:\n",
    "        return\n",
    "    else:\n",
    "        extrated_node = root.custom_list[1]\n",
    "        root.custom_list[1] = root.custom_list[root.heap_size]\n",
    "        root.custom_list[root.heap_size] = None\n",
    "        root.heap_size -= 1\n",
    "        heapify_tree_extract(root, 1, heap_type)\n",
    "        return extrated_node\n",
    "\n",
    "new_binary_heap = Heap(5)\n",
    "insert_node(new_binary_heap, 7, 'min')\n",
    "insert_node(new_binary_heap, 4, 'min')\n",
    "insert_node(new_binary_heap, 3, 'min')\n",
    "insert_node(new_binary_heap, 1, 'min')\n",
    "level_order_traversal(new_binary_heap)\n"
   ]
  },
  {
   "cell_type": "code",
   "execution_count": 15,
   "metadata": {},
   "outputs": [
    {
     "name": "stdout",
     "output_type": "stream",
     "text": [
      "%s has been removed 1\n",
      "7\n",
      "3\n",
      "4\n"
     ]
    }
   ],
   "source": [
    "print('%s has been removed', extrat_node(new_binary_heap, 'min'))\n",
    "level_order_traversal(new_binary_heap)"
   ]
  },
  {
   "cell_type": "markdown",
   "metadata": {},
   "source": [
    "#### Delete a binary tree"
   ]
  },
  {
   "cell_type": "code",
   "execution_count": 16,
   "metadata": {},
   "outputs": [],
   "source": [
    "def delete_full_bh(root):\n",
    "    root.custom_list = None"
   ]
  }
 ],
 "metadata": {
  "interpreter": {
   "hash": "e19b789d2e1a40b374af42d6e08329b73a3a17a465fd66a9e9bd0b59e1d0d200"
  },
  "kernelspec": {
   "display_name": "Python 3.9.12 ('zindi')",
   "language": "python",
   "name": "python3"
  },
  "language_info": {
   "codemirror_mode": {
    "name": "ipython",
    "version": 3
   },
   "file_extension": ".py",
   "mimetype": "text/x-python",
   "name": "python",
   "nbconvert_exporter": "python",
   "pygments_lexer": "ipython3",
   "version": "3.9.12"
  },
  "orig_nbformat": 4
 },
 "nbformat": 4,
 "nbformat_minor": 2
}

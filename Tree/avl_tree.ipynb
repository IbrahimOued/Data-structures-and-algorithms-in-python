{
 "cells": [
  {
   "cell_type": "markdown",
   "metadata": {},
   "source": [
    "# AVL Tree"
   ]
  },
  {
   "cell_type": "markdown",
   "metadata": {},
   "source": [
    "## What is AVL tree\n",
    "\n",
    "An AVL tree is a self-balancing **Binary Search Tree** where the **difference between heights of left and right subtrees cannot be more than $1$ for all nodes**.\n",
    "We can see that AVL is a type of BST and all the rules of BST are applicable to it.\n",
    "\n",
    "                            70\n",
    "                          /    \\\n",
    "                        50      90\n",
    "                       /       /  \\\n",
    "                      30      80  100\n",
    "                     /  \\                    \n",
    "                    20  40\n",
    "\n",
    "The mecahnism is very simple, it used **height balancing** now let's take this example to fully understand this mechanism:\n",
    "\n",
    "* Starting from the root\n",
    "\n",
    "$Height of left subtree = 3$\n",
    "\n",
    "$Height of right subtree = 2$\n",
    "\n",
    "$difference = 1 \\rarr $ this node is balanced\n",
    "\n",
    "* We continue to the next node $90$\n",
    "\n",
    "$Height of left subtree = 1$\n",
    "\n",
    "$Height of right subtree = 1$\n",
    "\n",
    "$difference = 0  \\rarr $ this node is balanced\n",
    "\n",
    "* We continue to the next node $50$\n",
    "\n",
    "$Height of left subtree = 2$\n",
    "\n",
    "$Height of right subtree = 0$\n",
    "\n",
    "$difference = 2  \\rarr $ this node is unbalanced\n",
    "\n",
    "Now the question here will be : Is there any way to rebalance and conform with the specs of AVL tree? The answer is yes by doing **rotation** every time there is a difference more than $1$ between height of left subtree and height of right subtree."
   ]
  },
  {
   "cell_type": "markdown",
   "metadata": {},
   "source": [
    "### Why do we need AVL tree?\n",
    "\n",
    "Let's take for example the following values $10, 20, 30, 40, 50, 60, 70$ if we need to insert them inside a BST we'll get:\n",
    "\n",
    "                                10\n",
    "                                 \\\n",
    "                                  20\n",
    "                                    \\\n",
    "                                     30\n",
    "                                       \\\n",
    "                                        40\n",
    "                                          \\\n",
    "                                           50\n",
    "                                            \\\n",
    "                                             60\n",
    "                                               \\\n",
    "                                               70\n",
    " To search the value $60$ the time complexity will be $\\Omicron(n)$ we know that in case of BST the time complexity is $\\Omicron(logn)$ so the reason for that is that the height of this tree is too much.\n",
    "\n",
    "After balancing the same BST we will get"
   ]
  },
  {
   "cell_type": "markdown",
   "metadata": {},
   "source": [
    "                                    40\n",
    "                                  /    \\\n",
    "                                20      60\n",
    "                               /  \\    /  \\\n",
    "                             10    30  50  70\n",
    "\n"
   ]
  },
  {
   "cell_type": "markdown",
   "metadata": {},
   "source": [
    "This BST has the same nodes, the only difference is the smaller height of tree. We still keep our $\\Omicron(logn)$ time complexity.\n",
    "AVL solve the performance of disbalancing by using rotation."
   ]
  },
  {
   "cell_type": "markdown",
   "metadata": {},
   "source": [
    "### Common operations n AVL trees"
   ]
  },
  {
   "cell_type": "markdown",
   "metadata": {},
   "source": [
    "#### Creation of AVL trees"
   ]
  },
  {
   "cell_type": "code",
   "execution_count": 16,
   "metadata": {},
   "outputs": [],
   "source": [
    "class AVLNode:\n",
    "    def __init__(self, data):\n",
    "        self.data = data\n",
    "        self.left = None\n",
    "        self.right = None\n",
    "        self.height = 1 # This property will be useful to check if the tree is balanced or not.\n",
    "\n",
    "\n",
    "class LinkedListNode:\n",
    "    def __init__(self, value):\n",
    "        self.value = value\n",
    "        self.next = None\n",
    "\n",
    "    def __str__(self):\n",
    "        return str(self.value)\n",
    "\n",
    "class LinkedList:\n",
    "    def __init__(self, head=None, tail=None):\n",
    "        self.head = head\n",
    "        self.tail = tail\n",
    "\n",
    "class Queue:\n",
    "    def __init__(self):\n",
    "        self.linked_list = LinkedList()\n",
    "        self.size = 0\n",
    "\n",
    "    def enqueue(self, item):\n",
    "        newNode = LinkedListNode(item)\n",
    "        if self.linked_list.head is None:\n",
    "            self.linked_list.head = newNode\n",
    "            self.linked_list.tail = newNode\n",
    "        else:\n",
    "            self.linked_list.tail.next = newNode\n",
    "            self.linked_list.tail = newNode\n",
    "        self.size += 1\n",
    "\n",
    "    def is_empty(self):\n",
    "        return self.linked_list.head is None\n",
    "\n",
    "    def dequeue(self):\n",
    "        if self.is_empty():\n",
    "            return None\n",
    "        else:\n",
    "            tempNode = self.linked_list.head\n",
    "            if self.linked_list.head == self.linked_list.tail:\n",
    "                self.linked_list.head = None\n",
    "                self.linked_list.tail = None\n",
    "            else:\n",
    "                self.linked_list.head = self.linked_list.head.next\n",
    "                self.size -= 1\n",
    "        return tempNode\n",
    "\n",
    "    def peek(self):\n",
    "        if self.is_empty():\n",
    "            return None\n",
    "        else:\n",
    "            return self.linked_list.head\n",
    "\n",
    "def level_order_traversal(node):\n",
    "    if not node:\n",
    "        return\n",
    "    else:\n",
    "        queue = Queue()\n",
    "        queue.enqueue(node)\n",
    "        while not queue.is_empty():\n",
    "            current_node = queue.dequeue()\n",
    "            print(current_node.value.data)\n",
    "            if current_node.value.left:\n",
    "                queue.enqueue(current_node.value.left)\n",
    "            if current_node.value.right:\n",
    "                queue.enqueue(current_node.value.right)"
   ]
  },
  {
   "cell_type": "markdown",
   "metadata": {},
   "source": [
    "for basic (operations check section)"
   ]
  },
  {
   "cell_type": "markdown",
   "metadata": {},
   "source": [
    "## Node insertion part will be split in differents parts to cover all the conditions\n",
    "\n",
    "When we insert a node in any tree we face 2 cases\n",
    "\n",
    "* Rotation is required : How do we know if the rotation is required or not? Rotation is required when the tree is disparsed, left subtree height and right subree height differes more than $1$.\n",
    "* Rotation is not required: When the rotation is not required the insertion is the same as in a BST.\n",
    "\n",
    "When rotation is required we have for cases:\n",
    "\n",
    "* LL Left Left condition\n",
    "* LR Left-Right condition\n",
    "* RF Right Right condition\n",
    "* RL Right-Left condition\n",
    "\n",
    "We will discull all of them one by one"
   ]
  },
  {
   "cell_type": "markdown",
   "metadata": {},
   "source": [
    "### LL Left Left condition"
   ]
  },
  {
   "cell_type": "markdown",
   "metadata": {},
   "source": [
    "Here we need to keep in mind that everytime we face *left left condition* we need to do a rotation to the right (**right rotation**).\n",
    "After inserting $10$ we get the following tree:\n",
    "```markdown\n",
    "\n",
    "                        70\n",
    "                      /    \\\n",
    "                    50      90\n",
    "                   /  \\     /  \\\n",
    "                  30   60  80   100\n",
    "     left        /\n",
    "                20\n",
    "     left      /\n",
    "             10\n",
    "\n",
    "                          gives after a right rotation\n",
    "                          \n",
    "                                        \n",
    "                        70\n",
    "                      /    \\\n",
    "                    50      90\n",
    "                   /  \\     /  \\\n",
    "                  20   60  80   100\n",
    "                 /  \\\n",
    "                10  30            \n",
    "```"
   ]
  },
  {
   "cell_type": "markdown",
   "metadata": {},
   "source": [
    "Another example we want to add $20$\n",
    "\n",
    "                            70\n",
    "                          /    \\\n",
    "                        50      90\n",
    "                       /  \\                    \n",
    "                      30  60\n",
    "\n",
    "```markdown\n",
    "\n",
    "                            70\n",
    "                          /    \\\n",
    "                        50      90\n",
    "                       /  \\                    \n",
    "                      30  60\n",
    "                     /\n",
    "                    20\n",
    "                          gives after a right rotation\n",
    "                          \n",
    "                                        \n",
    "                            50\n",
    "                          /    \\\n",
    "                        30      70\n",
    "                       /       /   \\                    \n",
    "                      20      60    90\n",
    "```\n",
    "So after finding the disbalanced node, we need to find the condition, which implies looking for the grandchild node.\n",
    "Here we have 2 grandchildren node but we should always select the grandchild wich has a **greater height** value. The path to this grandchild node will then be *left left* which means it's a **left left condition** so we must do a *right rotation*."
   ]
  },
  {
   "cell_type": "markdown",
   "metadata": {},
   "source": [
    "Let's see the algorithm of *Left Left* condition:\n",
    "\n",
    "    \n",
    "```py\n",
    "rotate_right(disbalanced_node)\n",
    "    new_root = disbalanced_node.left_child\n",
    "    disbalanced_node.left_child = new_root.left_child.right_child\n",
    "    new_root.right_child = disbalanced_node\n",
    "    update height of disbalanced_node and new_root\n",
    "    return new_root\n",
    "```\n"
   ]
  },
  {
   "cell_type": "markdown",
   "metadata": {},
   "source": [
    "                 30                       20  \n",
    "                /            new_root =  /                          20              \n",
    "              20                        10                         /  \\\n",
    "             /                                      new_root =    10  30\n",
    "            10        disbalanced_node =  30\n",
    "                                                "
   ]
  },
  {
   "cell_type": "markdown",
   "metadata": {},
   "source": [
    "### LR Left Right condition"
   ]
  },
  {
   "cell_type": "markdown",
   "metadata": {},
   "source": [
    "After inserting $25$ we got\n",
    "\n",
    "\n",
    "                        70\n",
    "                      /    \\\n",
    "                    50      90\n",
    "                   /  \\     /  \\\n",
    "                  30   60  80   100\n",
    "                 /\n",
    "                20\n",
    "                  \\\n",
    "                   25"
   ]
  },
  {
   "cell_type": "markdown",
   "metadata": {},
   "source": [
    "Following the grandchild of the disbalanced node we have a *left right* path to do which leads to a **left right condition**. Now the question is which type of rotation we need to do. The answer is we must **first do left rotation, then right rotation**.\n",
    "* We will do ***left roation*** to the ***left child*** of the unbalanced node (20 in our case)\n",
    "When we do left rotation :\n",
    "  * We move the **right child** to the **place of its parent** and  **parent** is move to the **left child** of the previoulsy **moved node**\n",
    "\n",
    "After *left rotation* we get\n",
    "\n",
    "                            70\n",
    "                          /    \\\n",
    "                        50      90\n",
    "                       /  \\     /  \\\n",
    "                      30   60  80   100\n",
    "                     /\n",
    "                    25\n",
    "                   /\n",
    "                  20\n",
    "                  \n",
    "* We see that we are still facing and unbalanced tree. To fix this problem we'll then do a ***right rotation*** as explained previously\n",
    "\n",
    "After doing a ***right rotation*** we get:\n",
    "\n",
    "                            70\n",
    "                          /    \\\n",
    "                        50      90\n",
    "                       /  \\     /  \\\n",
    "                      25   60  80   100\n",
    "                     /  \\\n",
    "                    20   30"
   ]
  },
  {
   "cell_type": "markdown",
   "metadata": {},
   "source": [
    "Let's see the algorithm of *Left Right condition*:\n",
    "\n",
    "    \n",
    "```py\n",
    "rotate_left(disbalanced_node)\n",
    "    new_root = disbalanced_node.right_child\n",
    "    disbalanced_node.right_child = disbalanced_node.right_child.left_child\n",
    "    new_root.left_child = disbalanced_node\n",
    "    update height of disbalanced_node and new_root\n",
    "    return new_root\n",
    "\n",
    "rotate_right(disbalanced_node)\n",
    "    new_root = disbalanced_node.left_child\n",
    "    disbalanced_node.left_child = new_root.left_child.right_child\n",
    "    new_root.right_child = disbalanced_node\n",
    "    update height of disbalanced_node and new_root\n",
    "    return new_root\n",
    "```"
   ]
  },
  {
   "cell_type": "markdown",
   "metadata": {},
   "source": [
    " * $1^{st} step$\n",
    " ```markdown\n",
    "                 30                         \n",
    "                /            new_root =  20                                     \n",
    "              10                                                            30\n",
    "                \\                                                          /\n",
    "                 20     disbalanced_node = 10         disbalanced_node = 20\n",
    "                                                                        /\n",
    "                                      20                              10\n",
    "                        new_root =   /\n",
    "                                    10\n",
    " ```"
   ]
  },
  {
   "cell_type": "markdown",
   "metadata": {},
   "source": [
    "* $2^{nd} step$\n",
    "\n",
    "```markdown\n",
    "\n",
    "        30                        20\n",
    "       /            new_root =   /                                   20\n",
    "      20                       10                       new_root =  /  \\\n",
    "     /                                                             10   30\n",
    "    10              \n",
    "    \n",
    "                     disbalanced_node = 30\n",
    "```        "
   ]
  },
  {
   "cell_type": "markdown",
   "metadata": {},
   "source": [
    "### RR Right Right condition\n",
    "As the name implies, it's opposed to the *left left condition*. Here we're in a case where we want to insert the value $70$ to the tree."
   ]
  },
  {
   "cell_type": "markdown",
   "metadata": {},
   "source": [
    "                            50                              50\n",
    "                           /  \\                            /  \\   \n",
    "                          40   60         Will give       40   60 \n",
    "                                 \\                               \\   right\n",
    "                                  65                              65\n",
    "                                                                    \\   right     \n",
    "                                                                     70"
   ]
  },
  {
   "cell_type": "markdown",
   "metadata": {},
   "source": [
    "We take the same process as before:\n",
    "1. We check starting from the lead node until we find the disbalanced node\n",
    "2. Once it's found, we look for the path to the grandchild, here the path will be ***right right*** this means that we are facing a ***right right condition*** to make it balance we need to do **left rotation** which will give after rotation\n",
    "\n",
    "                               50\n",
    "                              /  \\   \n",
    "                             40   65 \n",
    "                                 /  \\   \n",
    "                                60   70\n",
    "\n",
    "\n",
    "Another example: We want to add $75$ to the following tree\n",
    "\n",
    "\n",
    "               50                          50 \n",
    "              /  \\                        /  \\\n",
    "            40    65     will give       40   65\n",
    "                 /  \\                        /  \\\n",
    "                60   70                     60   70\n",
    "                                                   \\\n",
    "                                                    75\n",
    "We spotted $50$ as the *debalanced node* and after doing a *left rotation* we'll obtain:\n",
    "\n",
    "                                    65\n",
    "                                   /  \\\n",
    "                                 50    70\n",
    "                                /  \\     \\\n",
    "                              40    60    75"
   ]
  },
  {
   "cell_type": "markdown",
   "metadata": {},
   "source": [
    "Let's see the algorithm of *right right condition*:\n",
    "\n",
    "    \n",
    "```py\n",
    "rotate_left(disbalanced_node)\n",
    "    new_root = disbalanced_node.right_child\n",
    "    disbalanced_node.right_child = new_root.right_child.left_child\n",
    "    new_root.left_child = disbalanced_node\n",
    "    update height of disbalanced_node and new_root\n",
    "    return new_root\n",
    "```\n",
    "\n"
   ]
  },
  {
   "cell_type": "markdown",
   "metadata": {},
   "source": [
    "         30                              40  \n",
    "           \\                 new_root =    \\                         40              \n",
    "            40                              50                      /  \\\n",
    "              \\                                      new_root =    30  50\n",
    "               50        disbalanced_node =  30\n",
    "                                                "
   ]
  },
  {
   "cell_type": "markdown",
   "metadata": {},
   "source": [
    "### Right Left condition"
   ]
  },
  {
   "cell_type": "markdown",
   "metadata": {},
   "source": [
    "After inserting $65$ we got\n",
    "\n",
    "\n",
    "                        50\n",
    "                      /    \\\n",
    "                    40      60\n",
    "                              \\\n",
    "                              70\n",
    "                              /\n",
    "                            65"
   ]
  },
  {
   "cell_type": "markdown",
   "metadata": {},
   "source": [
    "Here we can clearly see that the disbalanced node is $60$ after that we can look forward:\n",
    "* We'll try to identify the condition here, the path to the grandchild is *right left* so it's a *right left condition*\n",
    "* After that we'll do a *right rotation* which will give\n",
    "\n",
    "                        50\n",
    "                      /    \\\n",
    "                    40      60\n",
    "                              \\\n",
    "                               65\n",
    "                                 \\\n",
    "                                  70\n",
    "\n",
    "* We'll then be in a situation of a *right right* condition, we can simply do a *left rotation* and obtain\n",
    "\n",
    "                        50\n",
    "                      /    \\\n",
    "                    40      65\n",
    "                           /  \\\n",
    "                         60    70\n",
    "                                  \n"
   ]
  },
  {
   "cell_type": "markdown",
   "metadata": {},
   "source": [
    "Let's see the algorithm of *Left Right condition*:\n",
    "\n",
    "    \n",
    "```py\n",
    "rotate_right(disbalanced_node)\n",
    "    new_root = disbalanced_node.left_child\n",
    "    disbalanced_node.left_child = new_root.left_child.right_child\n",
    "    new_root.right_child = disbalanced_node\n",
    "    update height of disbalanced_node and new_root\n",
    "    return new_root\n",
    "    \n",
    "rotate_left(disbalanced_node)\n",
    "    new_root = disbalanced_node.right_child\n",
    "    disbalanced_node.right_child = disbalanced_node.right_child.left_child\n",
    "    new_root.left_child = disbalanced_node\n",
    "    update height of disbalanced_node and new_root\n",
    "    return new_root\n",
    "```"
   ]
  },
  {
   "cell_type": "markdown",
   "metadata": {},
   "source": [
    " * $1^{st} step$\n",
    " ```markdown\n",
    "                 30                         \n",
    "                   \\           new_root =  35                                     \n",
    "                    40                                                   30\n",
    "                   /                                                       \\\n",
    "                 35     disbalanced_node = 40         disbalanced_node =    35\n",
    "                                                                              \\\n",
    "                                      35                                       40\n",
    "                        new_root =      \\\n",
    "                                         40\n",
    " ```"
   ]
  },
  {
   "cell_type": "markdown",
   "metadata": {},
   "source": [
    "* $2^{nd} step$\n",
    "\n",
    "```markdown\n",
    "\n",
    "    30                       35\n",
    "      \\           new_root =   \\                                      35\n",
    "       35                       40                       new_root =  /  \\\n",
    "         \\                                                         30    40\n",
    "          40           \n",
    "    \n",
    "                     disbalanced_node = 30\n",
    "```        "
   ]
  },
  {
   "cell_type": "markdown",
   "metadata": {},
   "source": [
    "### Insert a node in AVL Tree (all together)\n",
    "\n",
    "1. Case 1 : Rotation is not required\n",
    "2. Case 2 : Rotation is required\n",
    "   * Left left condition LL\n",
    "   * Left Right condition LR\n",
    "   * Right Right condition RR\n",
    "   * Right Left condition RL\n",
    "\n",
    "We have these numbers to to inserted $30, 25, 35, 20, 15, 5, 10, 50, 60, 70, 75$\n",
    "\n",
    "Try to insert them in an AVL tree"
   ]
  },
  {
   "cell_type": "code",
   "execution_count": 17,
   "metadata": {},
   "outputs": [
    {
     "name": "stdout",
     "output_type": "stream",
     "text": [
      "10\n",
      "5\n",
      "15\n",
      "20\n"
     ]
    }
   ],
   "source": [
    "def get_height(root_node):\n",
    "    if not root_node:\n",
    "        return 0\n",
    "    else:\n",
    "        return root_node.height\n",
    "\n",
    "def right_rotate(disbalanced_node):\n",
    "    new_root = disbalanced_node.left\n",
    "    disbalanced_node.left = disbalanced_node.left.right\n",
    "    new_root.right = disbalanced_node\n",
    "    disbalanced_node.heigth = 1 + max(get_height(disbalanced_node.left), get_height(disbalanced_node.right))\n",
    "    new_root.height = 1 + max(get_height(new_root.left), get_height(new_root.right))\n",
    "    return new_root\n",
    "\n",
    "def left_rotate(disbalanced_node):\n",
    "    new_root = disbalanced_node.right\n",
    "    disbalanced_node.right = disbalanced_node.right.left\n",
    "    new_root.left = disbalanced_node\n",
    "    disbalanced_node.heigth = 1 + max(get_height(disbalanced_node.left), get_height(disbalanced_node))\n",
    "    new_root.height = 1 + max(get_height(new_root.left), get_height(new_root.right))\n",
    "    return new_root\n",
    "\n",
    "def get_balance(root_node):\n",
    "    if not root_node:\n",
    "        return 0\n",
    "    return get_height(root_node.left) - get_height(root_node.right)\n",
    "\n",
    "# O(logn) time complexity\n",
    "# O(logn) space complexity\n",
    "def insert_node(root_node, data):\n",
    "    if not root_node:\n",
    "        return AVLNode(data)\n",
    "    elif data < root_node.data:\n",
    "        root_node.left = insert_node(root_node.left, data)\n",
    "    else:\n",
    "        root_node.right = insert_node(root_node.right, data)\n",
    "    \n",
    "    root_node.height = 1 + max(get_height(root_node.left), get_height(root_node.right))\n",
    "    balance = get_balance(root_node)\n",
    "    # Left left\n",
    "    if balance > 1 and data < root_node.left.data:\n",
    "        return right_rotate(root_node)\n",
    "    # Left right\n",
    "    if balance > 1 and data > root_node.left.data:\n",
    "        root_node.left = left_rotate(root_node.left)\n",
    "        return right_rotate(root_node)\n",
    "    # Right right\n",
    "    if balance < -1 and data > root_node.right.data:\n",
    "        return left_rotate(root_node)\n",
    "    # Right left\n",
    "    if balance < -1 and data < root_node.right.data:\n",
    "        root_node.right = right_rotate(root_node.right)\n",
    "        return left_rotate(root_node)\n",
    "    return root_node\n",
    "\n",
    "new_avl = AVLNode(5)\n",
    "new_avl = insert_node(new_avl, 10)\n",
    "new_avl = insert_node(new_avl, 15)\n",
    "new_avl = insert_node(new_avl, 20)\n",
    "\n",
    "level_order_traversal(new_avl)"
   ]
  },
  {
   "cell_type": "markdown",
   "metadata": {},
   "source": [
    "### Delete a node from AVL tree\n",
    "\n",
    "* Case 1 : The tree does not exist\n",
    "* Case 2 : Rotation is not required\n",
    "* Case 3 : Rotation is required (LL, LR, RR, RL)"
   ]
  },
  {
   "cell_type": "code",
   "execution_count": 18,
   "metadata": {},
   "outputs": [
    {
     "name": "stdout",
     "output_type": "stream",
     "text": [
      "10\n",
      "15\n"
     ]
    }
   ],
   "source": [
    "def get_minimum_node(root_node):\n",
    "    if root_node is None or root_node.left is None:\n",
    "        return root_node\n",
    "    return get_minimum_node(root_node.left)\n",
    "\n",
    "# O(logn) time complexity\n",
    "# O(logn) space complexity\n",
    "def delete_node(root_node, data):\n",
    "    if not root_node:\n",
    "        return root_node\n",
    "    elif data < root_node.data:\n",
    "        root_node.left = delete_node(root_node.left, data)\n",
    "    elif data > root_node.data:\n",
    "        root_node.right = delete_node(root_node.right, data)\n",
    "    else:\n",
    "        if root_node.left is None:\n",
    "            temp = root_node.right\n",
    "            root_node = None\n",
    "            return temp\n",
    "        elif root_node.right is None:\n",
    "            temp = root_node.left\n",
    "            root_node = None\n",
    "            return temp\n",
    "\n",
    "        temp = get_minimum_node(root_node.right)\n",
    "        root_node.data = temp.data\n",
    "        root_node.right = delete_node(root_node.right, temp.data)\n",
    "\n",
    "    balance = get_balance(root_node)\n",
    "    # Left left\n",
    "    if balance > 1 and get_balance(root_node.left) >= 0:\n",
    "        return right_rotate(root_node)\n",
    "    # Right Right\n",
    "    if balance < -1 and get_balance(root_node.right) <= 0:\n",
    "        return left_rotate(root_node)\n",
    "    # Left right\n",
    "    if balance > 1 and get_balance(root_node.left) < 0:\n",
    "        root_node.left = left_rotate(root_node.left)\n",
    "        return right_rotate(root_node)\n",
    "    if balance < -1 and get_balance(root_node.right):\n",
    "        root_node.right = right_rotate(root_node.right)\n",
    "        return left_rotate(root_node)\n",
    "    \n",
    "new_avl = delete_node(new_avl, 5)\n",
    "new_avl = delete_node(new_avl, 20)\n",
    "\n",
    "level_order_traversal(new_avl)"
   ]
  },
  {
   "cell_type": "markdown",
   "metadata": {},
   "source": [
    "### Delete and entire AVL Tree\n",
    "\n",
    "```python\n",
    "root_node.data = None\n",
    "root_node.left = None\n",
    "root_node.roght = None\n",
    "```\n",
    "will make it, all the others nodes will be **available for garbage collection**"
   ]
  },
  {
   "cell_type": "code",
   "execution_count": 19,
   "metadata": {},
   "outputs": [],
   "source": [
    "def delete_avl_tre(root_node):\n",
    "    root_node.data = None \n",
    "    root_node.right = None\n",
    "    root_node.left = None\n",
    "\n",
    "delete_avl_tre(new_avl)"
   ]
  },
  {
   "cell_type": "code",
   "execution_count": 20,
   "metadata": {},
   "outputs": [
    {
     "name": "stdout",
     "output_type": "stream",
     "text": [
      "None\n"
     ]
    }
   ],
   "source": [
    "level_order_traversal(new_avl)"
   ]
  }
 ],
 "metadata": {
  "kernelspec": {
   "display_name": "Python 3.10.5 64-bit",
   "language": "python",
   "name": "python3"
  },
  "language_info": {
   "codemirror_mode": {
    "name": "ipython",
    "version": 3
   },
   "file_extension": ".py",
   "mimetype": "text/x-python",
   "name": "python",
   "nbconvert_exporter": "python",
   "pygments_lexer": "ipython3",
   "version": "3.10.5"
  },
  "orig_nbformat": 4,
  "vscode": {
   "interpreter": {
    "hash": "13081b603aa6a013995035d320af2c1f15789dc4224cd169330b49e0b23c4e97"
   }
  }
 },
 "nbformat": 4,
 "nbformat_minor": 2
}

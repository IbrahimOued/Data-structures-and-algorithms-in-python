{
 "cells": [
  {
   "cell_type": "markdown",
   "metadata": {},
   "source": [
    "## Linear search\n",
    "\n",
    "It is also known as sequential search. Here we search elements one by one.\n",
    "\n",
    "Linear search pseudo code\n",
    "\n",
    "* Create function with 2 parameters which are an array and a value\n",
    "* Loop through the array and check if the current array element is equal to the value\n",
    "* If it is return the index at which the element is found\n",
    "* If the value is never found return -1"
   ]
  },
  {
   "cell_type": "code",
   "execution_count": 1,
   "metadata": {},
   "outputs": [
    {
     "name": "stdout",
     "output_type": "stream",
     "text": [
      "4\n"
     ]
    }
   ],
   "source": [
    "def linear_search(arr, val):\n",
    "    for i in range(len(arr)):\n",
    "        if arr[i] == val:\n",
    "            return i\n",
    "    return -1\n",
    "\n",
    "print(linear_search([1,2,3,4,5], 5))"
   ]
  },
  {
   "cell_type": "markdown",
   "metadata": {},
   "source": [
    "## Binary search (recherche dichotomique)\n",
    "\n",
    "* Binary search is faster than linear search\n",
    "* Half of the remaining elements can be elimiated at a time, instead of eliminating them one by one\n",
    "* **Binary search only works for sorted arrays**\n",
    "\n",
    "Binary search pseudocode\n",
    "* Create function with 2 parameters which are sorted array and a value\n",
    "* Create 2 pointers: A left pointer at the start of teh array and a right pointer at the end of the array\n",
    "* Based on left and right pointers calculate middle pointer\n",
    "* While mioddle is not equal to the value and start <= end loop:\n",
    "  * If the middle is greater than the value move the right pointer down\n",
    "  * If the middle is less than the value move the left pointer up\n",
    "* If the value is never found return -1"
   ]
  },
  {
   "cell_type": "code",
   "execution_count": 2,
   "metadata": {},
   "outputs": [
    {
     "name": "stdout",
     "output_type": "stream",
     "text": [
      "3\n"
     ]
    }
   ],
   "source": [
    "def binary_search(sorted_arr, val):\n",
    "    low = 0                     # low is the lower bound of the array\n",
    "    high = len(sorted_arr) - 1  # high is the upper bound of the array\n",
    "    while low <= high:\n",
    "        mid = (low + high) // 2\n",
    "        if sorted_arr[mid] == val:\n",
    "            return mid\n",
    "        elif sorted_arr[mid] < val:\n",
    "            low = mid + 1\n",
    "        else:\n",
    "            high = mid - 1\n",
    "    return -1\n",
    "\n",
    "arr = [8, 9, 12, 15, 17, 19, 20, 21, 28]\n",
    "print(binary_search(arr, 15))"
   ]
  },
  {
   "cell_type": "markdown",
   "metadata": {},
   "source": [
    "### Binary search time complexity"
   ]
  },
  {
   "cell_type": "markdown",
   "metadata": {},
   "source": [
    "* Worst and average case: $\\Omicron(log n)$\n",
    "* Best case: $\\Omicron(1)$"
   ]
  }
 ],
 "metadata": {
  "interpreter": {
   "hash": "e19b789d2e1a40b374af42d6e08329b73a3a17a465fd66a9e9bd0b59e1d0d200"
  },
  "kernelspec": {
   "display_name": "Python 3.9.12 ('zindi')",
   "language": "python",
   "name": "python3"
  },
  "language_info": {
   "codemirror_mode": {
    "name": "ipython",
    "version": 3
   },
   "file_extension": ".py",
   "mimetype": "text/x-python",
   "name": "python",
   "nbconvert_exporter": "python",
   "pygments_lexer": "ipython3",
   "version": "3.9.12"
  },
  "orig_nbformat": 4
 },
 "nbformat": 4,
 "nbformat_minor": 2
}

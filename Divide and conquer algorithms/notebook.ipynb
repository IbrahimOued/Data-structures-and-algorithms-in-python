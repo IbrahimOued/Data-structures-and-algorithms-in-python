{
 "cells": [
  {
   "cell_type": "markdown",
   "metadata": {},
   "source": [
    "# Divide and conquer algorithm"
   ]
  },
  {
   "cell_type": "markdown",
   "metadata": {},
   "source": [
    "Divide and conquer is an algorithm design paradigm which works by **recursively breaking down a problem into subproblems of similar type**, until these become enough to be solved directly. The solutions in the subproblems are then combined to give a solution to the original problem."
   ]
  },
  {
   "cell_type": "markdown",
   "metadata": {},
   "source": [
    "The main property of divide and conquer is\n",
    "\n",
    "* **Optimal substructure**: If any problem's overall optimal solution can be constructed from the optimal solutions of its subproblem then this problem has optimal substructure\n",
    "\n",
    "Exemple : $fib(n) = fib(n-1) + fib(n-2)$"
   ]
  },
  {
   "cell_type": "markdown",
   "metadata": {},
   "source": [
    "### Why we need it?"
   ]
  },
  {
   "cell_type": "markdown",
   "metadata": {},
   "source": [
    "It is very effective when the problem has optimal substructure property."
   ]
  },
  {
   "cell_type": "markdown",
   "metadata": {},
   "source": [
    "### Common divide and conquer algorithms\n",
    "\n",
    "* Merge sort\n",
    "* Quick sort"
   ]
  },
  {
   "cell_type": "markdown",
   "metadata": {},
   "source": [
    "### Fibonacci series"
   ]
  },
  {
   "cell_type": "markdown",
   "metadata": {},
   "source": [
    "$fib(n) = fib(n-1) + fib(n-2)$"
   ]
  },
  {
   "cell_type": "code",
   "execution_count": 7,
   "metadata": {},
   "outputs": [
    {
     "data": {
      "text/plain": [
       "3"
      ]
     },
     "execution_count": 7,
     "metadata": {},
     "output_type": "execute_result"
    }
   ],
   "source": [
    "def fibonacci(n):\n",
    "    if n == 1:\n",
    "        return 0 \n",
    "    if n == 2:\n",
    "        return 1\n",
    "    else:\n",
    "        return fibonacci(n-1) + fibonacci(n-2)\n",
    "\n",
    "fibonacci(5)"
   ]
  },
  {
   "cell_type": "markdown",
   "metadata": {},
   "source": [
    "### Number factor\n",
    "\n",
    "Given $N$, find the number of ways to express $N$ as a sum of $1$, $3$ and $4$\n",
    "\n",
    "Exemple 1:\n",
    "* $N = 4$\n",
    "* Number of ways = $4$\n",
    "* Explanation: There are $4$ ways we can express $N$, $\\{4\\}, \\{1, 3\\}, \\{3, 1\\}, \\{1, 1, 1, 1\\}$"
   ]
  },
  {
   "cell_type": "code",
   "execution_count": 8,
   "metadata": {},
   "outputs": [
    {
     "name": "stdout",
     "output_type": "stream",
     "text": [
      "6\n"
     ]
    }
   ],
   "source": [
    "def number_factor(n):\n",
    "    if n in [0, 1, 2]:\n",
    "        return 1\n",
    "    elif n == 3:\n",
    "        return 2\n",
    "    else:\n",
    "        sub_p1 = number_factor(n-1)\n",
    "        sub_p2 = number_factor(n-3)\n",
    "        sub_p3 = number_factor(n-4)\n",
    "        return sub_p1+sub_p2+sub_p3\n",
    "\n",
    "print(number_factor(5))"
   ]
  },
  {
   "cell_type": "markdown",
   "metadata": {},
   "source": [
    "### House robber"
   ]
  },
  {
   "cell_type": "markdown",
   "metadata": {},
   "source": [
    "- Given $N$ number of houses along the street with some amount of money\n",
    "- Adjacent houses cannot be stolen\n",
    "- Find the maximum amount that can be stolen"
   ]
  },
  {
   "cell_type": "markdown",
   "metadata": {},
   "source": [
    "Exemple:\n",
    "\n",
    "H1:6    H2:7    H3:1    H4:30   H5:8    H6:2    H7:4\n",
    "\n",
    "Answer:\n",
    "* Max amount = $41$\n",
    "* Houses that are stolen = 7, 30, 4"
   ]
  },
  {
   "cell_type": "markdown",
   "metadata": {},
   "source": [
    "First thing to check is:\n",
    "* Does the problem follow the *optimal substructure* property or not : According to it, we can break the problem into smaller subproblems and by solving and combining the solutions of the subproblems we get the final answer.\n",
    "* If we steal from the $1^{st}$ house we have to skip the $2^{nd}$ house so the left options are the 5 houses after. The subproblem can be written as follows:\n",
    "\n",
    "$option 1 = 6 + f(5)$\n",
    "* We skip the $1^{st}$ house so the houses left are 6 starting from the $2^{nd}$ house\n",
    "\n",
    "$option 2 = 0 + f(6)$\n",
    "* We take the $max(option1, option2)$"
   ]
  },
  {
   "cell_type": "markdown",
   "metadata": {},
   "source": [
    "The pseudo code is as follow:\n",
    "```py\n",
    "max_value_house(houses, current_house):\n",
    "    if current_house > length of houses\n",
    "        return 0\n",
    "    else:\n",
    "        steal_fist_house = current_house + max_value_house(houses, current_house + 2)\n",
    "        skip_first_house = max_value_house(houses, current_house + 1)\n",
    "        return max(steal_first_house, skip_first_house)\n",
    "```"
   ]
  },
  {
   "cell_type": "markdown",
   "metadata": {},
   "source": [
    "And the implementation is as follows"
   ]
  },
  {
   "cell_type": "code",
   "execution_count": 9,
   "metadata": {},
   "outputs": [
    {
     "name": "stdout",
     "output_type": "stream",
     "text": [
      "41\n"
     ]
    }
   ],
   "source": [
    "def house_robber(houses, current_index):\n",
    "    if current_index >= len(houses):\n",
    "        return 0\n",
    "    else:\n",
    "        steal_first_house = houses[current_index] + house_robber(houses, current_index+2)\n",
    "        skip_first_house = house_robber(houses, current_index+1)\n",
    "        return max(steal_first_house, skip_first_house)\n",
    "\n",
    "houses = [6, 7, 1, 30, 8, 2, 4]\n",
    "print(house_robber(houses, 0))"
   ]
  },
  {
   "cell_type": "markdown",
   "metadata": {},
   "source": [
    "### Convert string"
   ]
  },
  {
   "cell_type": "markdown",
   "metadata": {},
   "source": [
    "- S1 and S2 are given strings\n",
    "- Convert S2 to S2 using delete, insert or replace operations\n",
    "- Find the minimum count of edit operations"
   ]
  },
  {
   "cell_type": "markdown",
   "metadata": {},
   "source": [
    "Exemple 1:\n",
    "* S1 = \"catch\"\n",
    "* S2 = \"carch\"\n",
    "* Output = 1\n",
    "* Explanation: Replace \"r\" with \"t\"\n",
    "\n",
    "Exemple 2:\n",
    "* S1 = \"table\"\n",
    "* S2 = \"tbres\"\n",
    "* Output: 3\n",
    "* Explanation: insert \"a\" to second position, replace \"r\" with \"l\" and delete \"s\""
   ]
  },
  {
   "cell_type": "markdown",
   "metadata": {},
   "source": [
    "Pseudo-code\n",
    "\n",
    "```python\n",
    "find_min_operation(s1, s2, index_1, index_2):\n",
    "if index_1 == len(s1):\n",
    "    return len(s2)-index_2\n",
    "if index_2 == len(s2):\n",
    "    return len(s1)-index_1\n",
    "if s1[index_1] == s2[index_2]:\n",
    "    return find_min_operation(s1, s2, index_1 + 1, index_2 + 1)\n",
    "else:\n",
    "    delete_op = 1 + find_min_operation(s1, s2, index_1, index_2+1)\n",
    "    insert_op = 1 + find_min_operation(s1, s2, index_1+1, index_2)\n",
    "    replace_op = 1 + find_min_operation(s1, s2, index_1+1, index_2+1)\n",
    "    return min(delete_op, insert_op, replace_op)\n",
    "\n",
    "```"
   ]
  },
  {
   "cell_type": "markdown",
   "metadata": {},
   "source": [
    "The implementation"
   ]
  },
  {
   "cell_type": "code",
   "execution_count": 10,
   "metadata": {},
   "outputs": [
    {
     "data": {
      "text/plain": [
       "4"
      ]
     },
     "execution_count": 10,
     "metadata": {},
     "output_type": "execute_result"
    }
   ],
   "source": [
    "def find_min_operation(s1, s2, index_1, index_2):\n",
    "    if index_1 == len(s1):\n",
    "        return len(s2) - index_2\n",
    "\n",
    "    if index_2 == len(s2):\n",
    "        return len(s1) - index_1\n",
    "    if s1[index_1] == s2[index_2]:\n",
    "        return find_min_operation(s1, s2, index_1 + 1, index_2 + 1)\n",
    "    else:\n",
    "        delete_op = 1 + find_min_operation(s1, s2, index_1, index_2 + 1)\n",
    "        insert_op = 1 + find_min_operation(s1, s2, index_1 + 1, index_2)\n",
    "        replace_op = 1 + find_min_operation(s1, s2, index_1 + 1, index_2 + 1)\n",
    "        return min(delete_op, insert_op, replace_op)\n",
    "\n",
    "\n",
    "s1 = \"table\"\n",
    "s2 = \"tbrltt\"\n",
    "\n",
    "find_min_operation(s1, s2, 0, 0)\n",
    "    "
   ]
  },
  {
   "cell_type": "markdown",
   "metadata": {},
   "source": [
    "### Zero One knapsack problem"
   ]
  },
  {
   "cell_type": "markdown",
   "metadata": {},
   "source": [
    "- Given the weights and profit of N items\n",
    "- Find the maximum profit within given capacity of C\n",
    "- Items cannot be broken"
   ]
  },
  {
   "cell_type": "markdown",
   "metadata": {},
   "source": [
    "The pseudo-code is as follows\n",
    "\n",
    "```python\n",
    "zero_one_knapsack(items, capacity, current_index):\n",
    "if capacity <= 0 or current_index < 0 or current_index > len(profits):\n",
    "    return 0\n",
    "elif current_item_weight <= capacity:\n",
    "    profit_1 = current_item_profit + zero_one_knapsack(items, capacity - current_item_weight, next_item)\n",
    "    profit_2 = zero_one_knapsack(items, capacity - current_item_weight, next_item)\n",
    "    return max(profit_1, profit_2)\n",
    "else:\n",
    "    return 0\n",
    "```"
   ]
  },
  {
   "cell_type": "markdown",
   "metadata": {},
   "source": [
    "The implementation is as follows"
   ]
  },
  {
   "cell_type": "code",
   "execution_count": 11,
   "metadata": {},
   "outputs": [
    {
     "data": {
      "text/plain": [
       "98"
      ]
     },
     "execution_count": 11,
     "metadata": {},
     "output_type": "execute_result"
    }
   ],
   "source": [
    "class Item:\n",
    "    def __init__(self, profit, weight) -> None:\n",
    "        self.profit = profit\n",
    "        self.weight = weight\n",
    "\n",
    "def zero_one_knapsack(items, capacity, current_index):\n",
    "    if capacity <= 0 or current_index < 0 or current_index >= len(items):\n",
    "        return 0\n",
    "    elif items[current_index].weight <= capacity:\n",
    "        profit_1 = items[current_index].profit + zero_one_knapsack(items, capacity - items[current_index].weight, current_index+1)\n",
    "        profit_2 = zero_one_knapsack(items, capacity, current_index+1)\n",
    "        return max(profit_1, profit_2)\n",
    "    else:\n",
    "        return 0\n",
    "\n",
    "mango = Item(31, 3)\n",
    "apple = Item(26, 1)\n",
    "orange = Item(17, 2)\n",
    "banana = Item(72, 5)\n",
    "\n",
    "items = [mango, apple, orange, banana]\n",
    "\n",
    "zero_one_knapsack(items, 7, 0)\n",
    "    "
   ]
  },
  {
   "cell_type": "markdown",
   "metadata": {},
   "source": [
    "### Longest Common sequence problem"
   ]
  },
  {
   "cell_type": "markdown",
   "metadata": {},
   "source": [
    "- S1 and S2 are given strings\n",
    "- Find the length of the longest subsequence which is common to both strings\n",
    "- Subsequence a sequence that can be driven from another sequence by deleting some elemenbts without changing the order of them"
   ]
  },
  {
   "cell_type": "markdown",
   "metadata": {},
   "source": [
    "ABCDE\n",
    "\n",
    "One of the subsequence of (3) of ABCDE is ACE, or ADE, ACB. You can note that here we are not changing the order of elements, we are just deleting some element from the original string.\n",
    "\n",
    "Subsequence of (4) can be ABCE or ABDE"
   ]
  },
  {
   "cell_type": "markdown",
   "metadata": {},
   "source": [
    "Exemple\n",
    "\n",
    "S1 = \"elephant\"\n",
    "S2 = \"erepat\"\n",
    "Output = 5\n",
    "Longest string : \"eepat\"\n",
    "\n",
    "Subproblems:\n",
    "* Option 1 = $1 + f(2, 8 : 2, 7)$\n",
    "* Option 2 = $0 + f(3, 8: 2, 7)$\n",
    "* Option 3 = $0 + f(2, 8: 3, 7)$\n",
    "\n",
    "$max(option 1, option 2, option 3)$"
   ]
  },
  {
   "cell_type": "markdown",
   "metadata": {},
   "source": [
    "Here is the pseudo code\n",
    "\n",
    "```py\n",
    "find_CLS(s1, s2, index_1, index_2):\n",
    "if index_1 == len(s1) or index_2 == len(s2):\n",
    "    return 0\n",
    "if s1[index_1] == s2[index2]:\n",
    "    return 1 + find_CLS(s1, s2, index_1+1, index_2+1)\n",
    "else:\n",
    "    option_1 = find_CLS(s1, s2, index_1, index_2+1)\n",
    "    option_2 = find_CLS(s1, s2, index_1+1, index_2)\n",
    "    return max(option_1, option_2)\n",
    "```"
   ]
  },
  {
   "cell_type": "markdown",
   "metadata": {},
   "source": [
    "Here is the implementation if python"
   ]
  },
  {
   "cell_type": "code",
   "execution_count": 12,
   "metadata": {},
   "outputs": [
    {
     "name": "stdout",
     "output_type": "stream",
     "text": [
      "5\n"
     ]
    }
   ],
   "source": [
    "def find_CLS(s1, s2, index_1, index_2):\n",
    "    if index_1 == len(s1) or index_2 == len(s2):\n",
    "        return 0\n",
    "    if s1[index_1] == s2[index_2]:\n",
    "        return 1 + find_CLS(s1, s2, index_1+1, index_2+1)\n",
    "    else:\n",
    "        option_1 = find_CLS(s1, s2, index_1, index_2+1)\n",
    "        option_2 = find_CLS(s1, s2, index_1+1, index_2)\n",
    "        return max(option_1, option_2)\n",
    "\n",
    "\n",
    "print(find_CLS(\"elephat\", \"eretpat\", 0, 0))"
   ]
  },
  {
   "cell_type": "markdown",
   "metadata": {},
   "source": [
    "### Longest palindromic subsequence (LPS)"
   ]
  },
  {
   "cell_type": "markdown",
   "metadata": {},
   "source": [
    "* S is a given string\n",
    "* Find the longest palindromic subsequence (LPS)\n",
    "* Subsequence a sequence that can be driven from another sequence by deleting some elemenbts without changing the order of them\n",
    "* Palindrome is a string that can be read the same backward as we as forward"
   ]
  },
  {
   "cell_type": "markdown",
   "metadata": {},
   "source": [
    "MADAM\n",
    "\n",
    "Exemple 1\n",
    "* S = \"ELRMENMET\"\n",
    "* Output = 5\n",
    "* LPS = \"EMEME\""
   ]
  },
  {
   "cell_type": "markdown",
   "metadata": {},
   "source": [
    "Subproblems:\n",
    "\n",
    "Option 1 = $2 + f(2, 8)$\n",
    "Option 2 = $0 + f(1, 8)$\n",
    "Option 3 = $0 + f(2, 9)$\n",
    "\n",
    "The pseudo code looks like this\n",
    "\n",
    "```python\n",
    "find_LPS(s, start_index, end_index):\n",
    "if start_index > end_index:\n",
    "    return 0\n",
    "if s[start_index] == s[end_index]:\n",
    "    return 2 + find_LPS(s, start_index+1, end_index-1)\n",
    "\n",
    "else:\n",
    "    option_1 = find_LPS(s, start_index, end_index-1)\n",
    "    option_2 = find_LPS(s, start_index+1, end_index)\n",
    "    return max(option_1, option_2)\n",
    "\n",
    "```"
   ]
  },
  {
   "cell_type": "markdown",
   "metadata": {},
   "source": [
    "The implementation looks like"
   ]
  },
  {
   "cell_type": "code",
   "execution_count": 18,
   "metadata": {},
   "outputs": [
    {
     "data": {
      "text/plain": [
       "5"
      ]
     },
     "execution_count": 18,
     "metadata": {},
     "output_type": "execute_result"
    }
   ],
   "source": [
    "def find_LPS(s, start_index, end_index):\n",
    "    if start_index > end_index:\n",
    "        return 0\n",
    "    elif start_index == end_index:\n",
    "        return 1\n",
    "    elif s[start_index] == s[end_index]:\n",
    "        return 2 + find_LPS(s, start_index+1, end_index-1)\n",
    "    else:\n",
    "        option_1 = find_LPS(s, start_index, end_index-1)\n",
    "        option_2 = find_LPS(s, start_index+1, end_index)\n",
    "        return max(option_1, option_2)\n",
    "\n",
    "find_LPS(\"ELRMENMET\", 0, 8)"
   ]
  },
  {
   "cell_type": "markdown",
   "metadata": {},
   "source": [
    "### Minimum cost to reach the last cell"
   ]
  },
  {
   "cell_type": "markdown",
   "metadata": {},
   "source": [
    "  * 2D matrix is given\n",
    "  * Each cell has a cost associated with it for accessing\n",
    "  * We need to start from $(0, 0)$ cell and go till $(n-1, n-1)$ cell\n",
    "  * We can go only to right or down cell from current cell\n",
    "  * Find the way in which the cost is minumum"
   ]
  },
  {
   "cell_type": "markdown",
   "metadata": {},
   "source": [
    "Exemple:\n",
    "\n",
    "$\n",
    "\n",
    "\n",
    "$\n",
    "\n",
    "Subproblems:\n",
    "\n",
    "option 1 = $y + 9 + 3 \\rarr f(4, 3)$\\\n",
    "option 2 = $z + 7 + 3 \\rarr f(3, 4)$\n",
    "\n",
    "$min(option 1, option 2)$"
   ]
  },
  {
   "cell_type": "markdown",
   "metadata": {},
   "source": [
    "Here's the algorithm"
   ]
  },
  {
   "cell_type": "markdown",
   "metadata": {},
   "source": [
    "```py\n",
    "find_min_cost(twoDArray, row, col):\n",
    "if row == -1 or col == -1:\n",
    "    return inf\n",
    "if row == 0 and col == 0:\n",
    "    return twoDArray[row][col]\n",
    "else:\n",
    "    option_1 = find_min_cost[twoDArray, row-1, col]\n",
    "    option_2 = find_min_cost[twoDArray, row, col-1]\n",
    "    return cost[row][col] + min[option_1][option_2]\n",
    "```"
   ]
  },
  {
   "cell_type": "markdown",
   "metadata": {},
   "source": [
    "Let's implement that"
   ]
  },
  {
   "cell_type": "code",
   "execution_count": 25,
   "metadata": {},
   "outputs": [
    {
     "data": {
      "text/plain": [
       "36"
      ]
     },
     "execution_count": 25,
     "metadata": {},
     "output_type": "execute_result"
    }
   ],
   "source": [
    "def find_min_cost(twoDArray, row, col):\n",
    "    if row == -1 or col == -1:\n",
    "        return float(\"inf\")\n",
    "    elif row == 0 and col == 0:\n",
    "        return twoDArray[0][0]\n",
    "    else:\n",
    "        option_1 = find_min_cost(twoDArray, row-1, col)\n",
    "        option_2 = find_min_cost(twoDArray, row, col-1)\n",
    "        return twoDArray[row][col] + min(option_1, option_2)\n",
    "\n",
    "twoDList = [[4, 7, 8, 6, 4],\n",
    "            [6, 7, 3, 9, 2],\n",
    "            [3, 8, 1, 2, 4],\n",
    "            [7, 1, 7, 3, 7],\n",
    "            [2, 9, 8, 9, 3]]\n",
    "\n",
    "\n",
    "find_min_cost(twoDList, 4, 4)"
   ]
  },
  {
   "cell_type": "markdown",
   "metadata": {},
   "source": [
    "### Number of paths to reach the last cell with given cost\n",
    "\n",
    "* 2D matric is given\n",
    "* Each cell has a cost associated with it for accessing\n",
    "* We need to start from $(0, 0)$ cell and go till $(n-1, n-1)$ cell\n",
    "* We can go only right or down cell from current cell\n",
    "* We are given total cost to reach the last cell\n",
    "* Find the number of ways to reach end of matrix with given \"total cost\"\n"
   ]
  },
  {
   "cell_type": "markdown",
   "metadata": {},
   "source": [
    "Subproblems:\n",
    "\n",
    "$Option 1 = y + 2 = 22 \\rarr f(3, 4, 22)$\\\n",
    "$Option 2 = z + 6 = 22 \\rarr f(4, 3, 22)$\n",
    "\n",
    "$sum(option 1, option 2)$"
   ]
  },
  {
   "cell_type": "markdown",
   "metadata": {},
   "source": [
    "The pseudo code is as follows\n",
    "\n",
    "```python\n",
    "number_of_path(twoDArray, row, col, cost):\n",
    "    if cost < 0:\n",
    "        return 0\n",
    "    elif row == 0 and col == 0:\n",
    "        if twoDArray[0][0] - cost == 0:\n",
    "            return 1\n",
    "        else:\n",
    "            return 0\n",
    "    elif row == 0:\n",
    "        return number_of_path(twoDArray, 0, col-1, cost - twoDArray[row][col])\n",
    "    elif col == 0:\n",
    "        return number_of_path(twoDArray, row-1, 0, cost - twoDArray[row][col])\n",
    "    else:\n",
    "        option_1 = number_of_path(twoDArray, row-1, col, cost-twoDArray[row][col])\n",
    "        option_2 = number_of_path(twoDArray, row, col-1, cost-twoDArray[row][col])\n",
    "        return option_1 + option_2\n",
    "```"
   ]
  },
  {
   "cell_type": "markdown",
   "metadata": {},
   "source": [
    "Let's implement that"
   ]
  },
  {
   "cell_type": "code",
   "execution_count": 18,
   "metadata": {},
   "outputs": [
    {
     "data": {
      "text/plain": [
       "2"
      ]
     },
     "execution_count": 18,
     "metadata": {},
     "output_type": "execute_result"
    }
   ],
   "source": [
    "def number_of_path(twoDArray, row, col, cost):\n",
    "    if cost < 0:\n",
    "        return 0\n",
    "    elif row == 0 and col == 0:\n",
    "        if twoDArray[0][0] - cost == 0:\n",
    "            return 1\n",
    "        else:\n",
    "            return 0\n",
    "    elif row == 0:\n",
    "        return number_of_path(twoDArray, 0, col-1, cost - twoDArray[row][col])\n",
    "    elif col == 0:\n",
    "        return number_of_path(twoDArray, row-1, 0, cost - twoDArray[row][col])\n",
    "    else:\n",
    "        option_1 = number_of_path(twoDArray, row-1, col, cost-twoDArray[row][col])\n",
    "        option_2 = number_of_path(twoDArray, row, col-1, cost-twoDArray[row][col])\n",
    "        return option_1 + option_2\n",
    "\n",
    "twoDList = [[4, 7, 1, 6],\n",
    "            [5, 7, 3, 9],\n",
    "            [3, 2, 1, 2],\n",
    "            [7, 1, 6, 3]]\n",
    "\n",
    "\n",
    "number_of_path(twoDList, 3, 3, 25)"
   ]
  }
 ],
 "metadata": {
  "kernelspec": {
   "display_name": "Python 3.10.5 64-bit",
   "language": "python",
   "name": "python3"
  },
  "language_info": {
   "codemirror_mode": {
    "name": "ipython",
    "version": 3
   },
   "file_extension": ".py",
   "mimetype": "text/x-python",
   "name": "python",
   "nbconvert_exporter": "python",
   "pygments_lexer": "ipython3",
   "version": "3.10.5"
  },
  "orig_nbformat": 4,
  "vscode": {
   "interpreter": {
    "hash": "13081b603aa6a013995035d320af2c1f15789dc4224cd169330b49e0b23c4e97"
   }
  }
 },
 "nbformat": 4,
 "nbformat_minor": 2
}

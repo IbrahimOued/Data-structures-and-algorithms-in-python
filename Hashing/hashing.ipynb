{
 "cells": [
  {
   "cell_type": "markdown",
   "metadata": {},
   "source": [
    "# Hashing"
   ]
  },
  {
   "cell_type": "markdown",
   "metadata": {},
   "source": [
    "## Waht is hashing?\n",
    "\n",
    "By definition it is a method of sorting and indexing data. The idea behind hashing is to allow large amounts of data to be indexted using keys commonly created by formulas.\n",
    "\n",
    "Let's explain this definition by using real example, we assume that we have 3 strings and we want to sort them in an efficient way:\n",
    "\n",
    "- Apple\n",
    "- Applicatioon\n",
    "- Appmillers\n",
    "  If we want to sort them using hashing\n",
    "\n",
    "1. the fist step is that we are changing these strings into number by using some magical function, the conversion through our magic function will give\n",
    "\n",
    "- Apple $\\rarr$ 18\n",
    "- Applicatioon $\\rarr$ 20\n",
    "- Appmillers $\\rarr$ 22\n",
    "  The question here is how do we convert them? What is the magical function used here? And how does it work?\n",
    "\n",
    "2. The next step is that we have to store this number into some data structure. Let's store it inside and array or list. \n",
    "\n",
    "|  0  |  1  | $\\dots$ |  18   | 19  |     20      | 21  |     22     | 23  |\n",
    "| :-: | :-: | :-----: | :---: | :-: | :---------: | :-: | :--------: | :-: |\n",
    "|     |     | $\\dots$ | Apple |     | Application |     | Appmillers |     |\n"
   ]
  },
  {
   "cell_type": "markdown",
   "metadata": {},
   "source": [
    "### Why hashing?"
   ]
  },
  {
   "cell_type": "markdown",
   "metadata": {},
   "source": [
    "It is time efficient in case of SEARCH operation. It hase $\\Omicron(1)$ time complexity and where there's a lot of collision $\\Omicron(n)$ time complexity."
   ]
  },
  {
   "cell_type": "markdown",
   "metadata": {},
   "source": [
    "### Hashing terminology\n",
    "\n",
    "* **Hash function**: It is a function that can be used to map of arbitrary size to data of fixed size. (Our **magic function**)\n",
    "* **Key**: Input data given by a user (**Apple, Application, Appmillers**)\n",
    "* **Hash value**: A value that is returned by hash function (**18, 20, 22**)\n",
    "* **Hash table**: It is a data structure which implements an associative array abstract data type, a structure that can *map keys to values.* (**the array in our exemple**)\n",
    "* **Collision**: A collision occures when two different keys to a hash function produce the same output (*hash value*)"
   ]
  },
  {
   "cell_type": "markdown",
   "metadata": {},
   "source": [
    "### Hash functions"
   ]
  },
  {
   "cell_type": "markdown",
   "metadata": {},
   "source": [
    "#### $1^{st}$ case with an integer key"
   ]
  },
  {
   "cell_type": "markdown",
   "metadata": {},
   "source": [
    "#### Mod function"
   ]
  },
  {
   "cell_type": "markdown",
   "metadata": {},
   "source": [
    "```python\n",
    "def mod(number, cell_number):\n",
    "    return number % cell_number\n",
    "```\n",
    "\n"
   ]
  },
  {
   "cell_type": "markdown",
   "metadata": {},
   "source": [
    "Let's insert $400$ into our hash table\n",
    "\n",
    "We'll call \n",
    "\n",
    "`mod(400, 24)` $\\rarr$ 16\n",
    "\n",
    "`mod(700, 24)` $\\rarr$ 4\n",
    "\n",
    "|  0  |  1  | $\\dots$ |   4   |  5  | $\\dots$ | 16  | $\\dots$ | 23  |\n",
    "| :-: | :-: | :-----: | :---: | :-: | :-----: | :-: | :-----: | :-: |\n",
    "|     |     | $\\dots$ | $700$ |     | $\\dots$ |  $400$   | $\\dots$ |     |\n"
   ]
  },
  {
   "cell_type": "markdown",
   "metadata": {},
   "source": [
    "### $2^{nd}$ case with a string key"
   ]
  },
  {
   "cell_type": "markdown",
   "metadata": {},
   "source": [
    "#### ASCII function"
   ]
  },
  {
   "cell_type": "markdown",
   "metadata": {},
   "source": [
    "Here we will use ASCII values of strings to convert them to the number.\n",
    "\n",
    "```python\n",
    "\n",
    "def mode_ascii(stringm, cell_number):\n",
    "    return sum([ord(char) for char in string]) % cell_number\n",
    "```\n",
    "Let's insert\n",
    "\n",
    "`mode_ascii(\"ABC\", 24)`\n",
    "\n",
    "From the ASCII table list we have:\n",
    "\n",
    "A $\\rarr$ 65\n",
    "\n",
    "B $\\rarr$ 66\n",
    "\n",
    "C $\\rarr$ 67\n",
    "\n",
    "$65+66+67 = 198$\n",
    "\n",
    "$\\frac{198}{24} = 8$ and $6$ is the remainder\n",
    "\n",
    "\n",
    "|  0  |  1  | $\\dots$ |   6   |  7  | $\\dots$ | 16  | $\\dots$ | 23  |\n",
    "| :-: | :-: | :-----: | :---: | :-: | :-----: | :-: | :-----: | :-: |\n",
    "|     |     | $\\dots$ | *ABC* |     | $\\dots$ |     | $\\dots$ |     |"
   ]
  },
  {
   "cell_type": "markdown",
   "metadata": {},
   "source": [
    "These are simpler version of hash function, but in the real world hash function are more complex.\n",
    "\n",
    "To choose a good hash function we need to define what defines a good hash function.Let's see some characteristics of good hash functions:\n",
    "\n",
    "* **It distributed hash values uniformly accross hash tables**\n",
    "* **It has to use all input data**"
   ]
  },
  {
   "cell_type": "markdown",
   "metadata": {},
   "source": [
    "### Collision resolution techniques\n",
    "\n",
    "Let's say we have these strings : _ABCD, EFGH, IJKL_ and we want to insert them into in the following hash table:\n",
    "Let's say when we apply hash function on these strings everytime we get the same index\n",
    "\n",
    "_ABCD_ $\\rarr$ $2$\n",
    "\n",
    "_EFGH_ $\\rarr$ $2$\n",
    "\n",
    "|  0  |               |\n",
    "| :-: | :-----------: |\n",
    "|  1  |               |\n",
    "|  2  | _ABCD_ / EFGH (Collision here) |\n",
    "|  3  |               |\n",
    "|  4  |               |\n",
    "|  5  |               |\n",
    "|  6  |               |\n",
    "|  7  |               |\n",
    "|  8  |               |\n",
    "|  9  |               |\n",
    "| 10  |               |\n",
    "| 11  |               |\n",
    "| 12  |               |\n",
    "| 13  |               |\n",
    "| 14  |               |\n",
    "| 15  |               |\n"
   ]
  },
  {
   "cell_type": "markdown",
   "metadata": {},
   "source": [
    "\n",
    "Resolution Techniques:\n",
    "* Direct Chaining\n",
    "* Open Addressing\n",
    "  * Linear Probing\n",
    "  * Quadratic Probing\n",
    "  * Double Hashing"
   ]
  },
  {
   "cell_type": "markdown",
   "metadata": {},
   "source": [
    "### Direct chaining"
   ]
  },
  {
   "cell_type": "markdown",
   "metadata": {},
   "source": [
    "Implements the buckets as **linked list**. Colliding elements are **stored in this lists**.\n",
    "\n",
    "It means every cell in the hash table will **store a reference to a linked list**"
   ]
  },
  {
   "cell_type": "markdown",
   "metadata": {},
   "source": [
    "### Open addressing"
   ]
  },
  {
   "cell_type": "markdown",
   "metadata": {},
   "source": [
    "Colliding elements are store in **other vacant buckets**. During storage and lookup these are found through so called probing."
   ]
  },
  {
   "cell_type": "markdown",
   "metadata": {},
   "source": [
    "#### Linear probing"
   ]
  },
  {
   "cell_type": "markdown",
   "metadata": {},
   "source": [
    "It places new key into **closes following empty cell**"
   ]
  },
  {
   "cell_type": "markdown",
   "metadata": {},
   "source": [
    "#### Quadratic probing"
   ]
  },
  {
   "cell_type": "markdown",
   "metadata": {},
   "source": [
    "Adding arbitrary polynomial to the index unitl and empty cell is found"
   ]
  },
  {
   "cell_type": "markdown",
   "metadata": {},
   "source": [
    "#### Double hashing"
   ]
  },
  {
   "cell_type": "markdown",
   "metadata": {},
   "source": [
    "Interval between probes is computed by another hash function"
   ]
  },
  {
   "cell_type": "markdown",
   "metadata": {},
   "source": [
    "### Hash table is full"
   ]
  },
  {
   "cell_type": "markdown",
   "metadata": {},
   "source": [
    "#### Direct chaining\n",
    "This situation will never happen."
   ]
  },
  {
   "cell_type": "markdown",
   "metadata": {},
   "source": [
    "#### Open addressing"
   ]
  },
  {
   "cell_type": "markdown",
   "metadata": {},
   "source": [
    "Create $2\\times$ size of current hash table and **recall hashing for current keys**"
   ]
  },
  {
   "cell_type": "markdown",
   "metadata": {},
   "source": [
    "We need to take in account that when we are creating a new hash table it affects the performance because we need to call hash function for all the strings one more time to insert in the new hash table, it will be $\\Omicron(n)$ time complexity."
   ]
  },
  {
   "cell_type": "markdown",
   "metadata": {},
   "source": [
    "### Pros and cons of collision resolution techniques"
   ]
  },
  {
   "cell_type": "markdown",
   "metadata": {},
   "source": [
    "#### Direct chaining\n",
    "\n",
    "* Hash table never gets full\n",
    "* Huge linked list causes performance leaks(Time complexity for search operation becomes $\\Omicron(n)$)\n",
    "\n",
    "#### Open addressing\n",
    "* Easy to implement\n",
    "* When hash table is full, creation of new hash table affects performance (Time complexity for search operation becomes $\\Omicron(n)$)\n",
    "\n",
    "To summarize, the decision to use direct chaining or open addressing is based on the following factors:\n",
    "\n",
    "* If the input size is known, we always use ***\"Open addressing\"***\n",
    "* If we perform **deletion operation frequently** we use ***\"Direct chaining\"***"
   ]
  },
  {
   "cell_type": "markdown",
   "metadata": {},
   "source": [
    "### Pros and cons of hashing\n",
    "\n",
    "On average insertion/deletion/search operarions take $\\Omicron(1)$ time complexity\n",
    "\n",
    "When hash function is not good enough insertion/deletion/search operations take $\\Omicron(n)$ time complexity"
   ]
  },
  {
   "cell_type": "markdown",
   "metadata": {},
   "source": [
    "| Operations | Array/Python list |  Linked list  |       Tree       |           Hashing           |\n",
    "| :--------: | :---------------: | :-----------: | :--------------: | :-------------------------: |\n",
    "| Insertion  |   $\\Omicron(n)$   | $\\Omicron(n)$ | $\\Omicron(logn)$ | $\\Omicron(1)$/$\\Omicron(n)$ |\n",
    "|  Deletion  |   $\\Omicron(n)$   | $\\Omicron(n)$ | $\\Omicron(logn)$ | $\\Omicron(1)$/$\\Omicron(n)$ |\n",
    "|   Search   |   $\\Omicron(n)$   | $\\Omicron(n)$ | $\\Omicron(logn)$ | $\\Omicron(1)$/$\\Omicron(n)$ |\n"
   ]
  }
 ],
 "metadata": {
  "interpreter": {
   "hash": "e19b789d2e1a40b374af42d6e08329b73a3a17a465fd66a9e9bd0b59e1d0d200"
  },
  "kernelspec": {
   "display_name": "Python 3.9.12 ('zindi')",
   "language": "python",
   "name": "python3"
  },
  "language_info": {
   "name": "python",
   "version": "3.9.12"
  },
  "orig_nbformat": 4
 },
 "nbformat": 4,
 "nbformat_minor": 2
}

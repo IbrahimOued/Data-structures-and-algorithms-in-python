{
 "cells": [
  {
   "cell_type": "markdown",
   "metadata": {},
   "source": [
    "# Array"
   ]
  },
  {
   "cell_type": "markdown",
   "metadata": {},
   "source": [
    "### *Find the missing number in an integer array of 1 to 100.*"
   ]
  },
  {
   "cell_type": "code",
   "execution_count": 12,
   "metadata": {},
   "outputs": [],
   "source": [
    "def findMissing(arr):\n",
    "    arr.sort()\n",
    "    for i in range(len(arr)):\n",
    "        if(arr[i] + 1 != arr[i + 1]):\n",
    "            return arr[i] + 1"
   ]
  },
  {
   "cell_type": "code",
   "execution_count": 13,
   "metadata": {},
   "outputs": [],
   "source": [
    "def optimalFindMissing(arr):\n",
    "    n = len(arr)\n",
    "    total = (n + 1) * (n + 2) / 2\n",
    "    return total - sum(arr)"
   ]
  },
  {
   "cell_type": "code",
   "execution_count": 14,
   "metadata": {},
   "outputs": [],
   "source": [
    "arr = [x for x in range(1, 100)]\n",
    "from random import randint\n",
    "rand_index = randint(0, 99)\n",
    "del arr[rand_index]"
   ]
  },
  {
   "cell_type": "code",
   "execution_count": 15,
   "metadata": {},
   "outputs": [
    {
     "data": {
      "text/plain": [
       "97"
      ]
     },
     "execution_count": 15,
     "metadata": {},
     "output_type": "execute_result"
    }
   ],
   "source": [
    "rand_index"
   ]
  },
  {
   "cell_type": "code",
   "execution_count": 16,
   "metadata": {},
   "outputs": [
    {
     "data": {
      "text/plain": [
       "98"
      ]
     },
     "execution_count": 16,
     "metadata": {},
     "output_type": "execute_result"
    }
   ],
   "source": [
    "findMissing(arr)"
   ]
  },
  {
   "cell_type": "code",
   "execution_count": 17,
   "metadata": {},
   "outputs": [
    {
     "data": {
      "text/plain": [
       "98.0"
      ]
     },
     "execution_count": 17,
     "metadata": {},
     "output_type": "execute_result"
    }
   ],
   "source": [
    "optimalFindMissing(arr)"
   ]
  },
  {
   "cell_type": "code",
   "execution_count": 18,
   "metadata": {},
   "outputs": [
    {
     "name": "stdout",
     "output_type": "stream",
     "text": [
      "[1, 2, 3, 4, 5, 6, 7, 8, 9, 10, 11, 12, 13, 14, 15, 16, 17, 18, 19, 20, 21, 22, 23, 24, 25, 26, 27, 28, 29, 30, 31, 32, 33, 34, 35, 36, 37, 38, 39, 40, 41, 42, 43, 44, 45, 46, 47, 48, 49, 50, 51, 52, 53, 54, 55, 56, 57, 58, 59, 60, 61, 62, 63, 64, 65, 66, 67, 68, 69, 70, 71, 72, 73, 74, 75, 76, 77, 78, 79, 80, 81, 82, 83, 84, 85, 86, 87, 88, 89, 90, 91, 92, 93, 94, 95, 96, 97, 99]\n"
     ]
    }
   ],
   "source": [
    "print(arr)"
   ]
  },
  {
   "cell_type": "markdown",
   "metadata": {},
   "source": [
    "### *Write a program to find all pairs of integers whose sum is equal to a given number.*"
   ]
  },
  {
   "cell_type": "code",
   "execution_count": 24,
   "metadata": {},
   "outputs": [
    {
     "data": {
      "text/plain": [
       "[[1, 5], [2, 4], [2, 4]]"
      ]
     },
     "execution_count": 24,
     "metadata": {},
     "output_type": "execute_result"
    }
   ],
   "source": [
    "def findPairs(arr, k):\n",
    "    # Write your code here\n",
    "    arr.sort()\n",
    "    pairs = []\n",
    "    for i in range(len(arr)):\n",
    "        for j in range(i+1, len(arr)):\n",
    "            if arr[i] == arr[j]:\n",
    "                continue\n",
    "            if arr[i] + arr[j] == k:\n",
    "                pairs.append([arr[i], arr[j]])\n",
    "    return pairs\n",
    "\n",
    "myList = [1, 2, 3, 2, 3, 4, 5, 6]\n",
    "findPairs(myList, 6)\n"
   ]
  },
  {
   "cell_type": "markdown",
   "metadata": {},
   "source": [
    "### *How to check if an array contains a number in Python*\n",
    "\n",
    "```python\n",
    "def findElement(arr, k):\n",
    "    for i in len(k):\n",
    "        if arr[i] == k\n",
    "            print(arr[i])\n",
    "        else:\n",
    "            return \"Element doesn't exist\"\n",
    "\n",
    "```"
   ]
  },
  {
   "cell_type": "code",
   "execution_count": 33,
   "metadata": {},
   "outputs": [
    {
     "name": "stdout",
     "output_type": "stream",
     "text": [
      "88\n"
     ]
    }
   ],
   "source": [
    "def findElement(arr, k):\n",
    "    for i in range(len(arr)):\n",
    "        if arr[i] == k:\n",
    "            print(arr[i])\n",
    "\n",
    "import numpy as np\n",
    "arr = np.array([2, 10, 8, 88, 4, 1])\n",
    "\n",
    "findElement(arr, 88)"
   ]
  },
  {
   "cell_type": "markdown",
   "metadata": {},
   "source": [
    "### *How to find maxumum product of two integers in the array where all elements are positive*\n",
    "\n",
    "```python\n",
    "def maxProduct(arr):\n",
    "    # Initialize the max product at 0\n",
    "    max = 0\n",
    "    # Initialize a and b\n",
    "    a = 0\n",
    "    b = 0\n",
    "    # Loop the array the 1st time\n",
    "    for i in range(len(arr))\n",
    "        # Loop again the array a 2nd time\n",
    "        for j in range(arr):\n",
    "            # for each i we'll multiply by j\n",
    "            if sum < arr[i] * arr[j]:\n",
    "                a = arr[i]\n",
    "                b = arr[j]\n",
    "                sum = arr[i] * arr[j]\n",
    "                # if the product is > the max product we'll the the new elements\n",
    "    return sum, a, b\n",
    "    # return the max product and the elements\n",
    "\n",
    "mylist = np.array([1, 20, 30, 44, ,5, 56, 57, 8, 9, 10, 31, 12, 13, 14, 35, 16, 27, 58, 19, 21])\n",
    "```"
   ]
  },
  {
   "cell_type": "code",
   "execution_count": 45,
   "metadata": {},
   "outputs": [
    {
     "name": "stdout",
     "output_type": "stream",
     "text": [
      "57 x 58 = 3306\n"
     ]
    }
   ],
   "source": [
    "def maxProduct(arr):\n",
    "    # Initialize the max product at 0\n",
    "    maximum = 0\n",
    "    # Initialize a and b\n",
    "    a = 0\n",
    "    b = 0\n",
    "    # Loop the array the 1st time\n",
    "    for i in range(len(arr)):\n",
    "        # Loop again the array a 2nd time\n",
    "        for j in range(i+1, len(arr)):\n",
    "            # for each i we'll multiply by j\n",
    "            if maximum < arr[i] * arr[j]:\n",
    "                a = arr[i]\n",
    "                b = arr[j]\n",
    "                maximum = arr[i] * arr[j]\n",
    "                # if the product is > the max product we'll the the new elements\n",
    "    return maximum, a, b\n",
    "    # return the max product and the elements\n",
    "\n",
    "mylist = np.array([1, 20, 30, 44, 5, 56, 57, 8, 9, 10, 31, 12, 13, 14, 35, 16, 27, 58, 19, 21])\n",
    "\n",
    "maximum, a, b = maxProduct(mylist)\n",
    "\n",
    "print(\"{} x {} = {}\".format(a, b, maximum))"
   ]
  },
  {
   "cell_type": "markdown",
   "metadata": {},
   "source": [
    "### *Is unique: Implement an algorithm to determine if  list has all unique characters, using python list*\n",
    "\n",
    "```python\n",
    "def findRepetition(arr):\n",
    "    # create an empty list\n",
    "    visited = []\n",
    "    # loop the array\n",
    "    for i in range(len(arr)):\n",
    "        # check if the elements has already been seen\n",
    "        if arr[i] in visited:\n",
    "            # if not seen add it to the visited list\n",
    "            visited.append(arr[i])\n",
    "            # if seen return false\n",
    "        else: return False\n",
    "    return True\n",
    "\n",
    "```"
   ]
  },
  {
   "cell_type": "code",
   "execution_count": 54,
   "metadata": {},
   "outputs": [
    {
     "data": {
      "text/plain": [
       "True"
      ]
     },
     "execution_count": 54,
     "metadata": {},
     "output_type": "execute_result"
    }
   ],
   "source": [
    "def findRepetition(arr):\n",
    "    # create an empty list\n",
    "    visited = []\n",
    "    # loop the array\n",
    "    for i in range(len(arr)):\n",
    "        # check if the elements has already been seen\n",
    "        if arr[i] in visited:\n",
    "            # if seen return false\n",
    "            print(arr[i])\n",
    "            return False \n",
    "            # if not seen add it to the visited list\n",
    "        else: visited.append(arr[i])\n",
    "    return True\n",
    "\n",
    "mylist = np.array([1, 2, 4])\n",
    "\n",
    "findRepetition(mylist)"
   ]
  },
  {
   "cell_type": "markdown",
   "metadata": {},
   "source": [
    "### *Permutation*\n",
    "\n",
    "```python\n",
    "def permutation(l1, l2):\n",
    "    if len(l1) != len(l2):\n",
    "        return False\n",
    "    l1.sort()\n",
    "    l2.sort()\n",
    "\n",
    "    if l1 == l2:\n",
    "        return True\n",
    "    else:\n",
    "        return False\n",
    "```\n"
   ]
  },
  {
   "cell_type": "code",
   "execution_count": 55,
   "metadata": {},
   "outputs": [
    {
     "data": {
      "text/plain": [
       "True"
      ]
     },
     "execution_count": 55,
     "metadata": {},
     "output_type": "execute_result"
    }
   ],
   "source": [
    "def permutation(l1, l2):\n",
    "    if len(l1) != len(l2):\n",
    "        return False\n",
    "    l1.sort()\n",
    "    l2.sort()\n",
    "\n",
    "    if l1 == l2:\n",
    "        return True\n",
    "    else:\n",
    "        return False\n",
    "\n",
    "l1 = [1, 2 ,3 ,4]\n",
    "l2 = [4, 3 ,2 ,1]\n",
    "\n",
    "permutation(l1, l2)"
   ]
  },
  {
   "cell_type": "markdown",
   "metadata": {},
   "source": [
    "### *Given an image represented by a $n \\times n$ matrix write a method to rotate the image by 90deg*"
   ]
  },
  {
   "cell_type": "code",
   "execution_count": 20,
   "metadata": {},
   "outputs": [],
   "source": [
    "def rotateMatrix(mat):\n",
    "    n = len(mat)\n",
    "    for layer in range(n//2):\n",
    "        first = layer\n",
    "        last = n - layer - 1\n",
    "        for i in range(first, last):\n",
    "            # Save the top element\n",
    "            top = mat[layer][i]\n",
    "            # Move left element to top\n",
    "            mat[layer][i] = mat[-i-1][layer]\n",
    "            # Move button element to left\n",
    "            mat[-i-1][layer] = mat[-layer-1][-i-1]\n",
    "            # Move right button\n",
    "            mat[-layer-1][-i-1] = mat[i][-layer-1]\n",
    "            # Move to the right\n",
    "            mat[i][-layer-1] = top\n",
    "    return mat"
   ]
  },
  {
   "cell_type": "code",
   "execution_count": 21,
   "metadata": {},
   "outputs": [
    {
     "data": {
      "text/plain": [
       "array([[ 1,  2,  3,  4],\n",
       "       [ 5,  6,  7,  8],\n",
       "       [ 9, 10, 11, 12],\n",
       "       [13, 14, 15, 16]])"
      ]
     },
     "execution_count": 21,
     "metadata": {},
     "output_type": "execute_result"
    }
   ],
   "source": [
    "import numpy as np\n",
    "mat = np.array([[1, 2, 3, 4], [5, 6, 7, 8], [9, 10, 11, 12], [13, 14, 15, 16]])\n",
    "mat"
   ]
  },
  {
   "cell_type": "code",
   "execution_count": 22,
   "metadata": {},
   "outputs": [
    {
     "data": {
      "text/plain": [
       "array([[13,  9,  5,  1],\n",
       "       [14, 10,  6,  2],\n",
       "       [15, 11,  7,  3],\n",
       "       [16, 12,  8,  4]])"
      ]
     },
     "execution_count": 22,
     "metadata": {},
     "output_type": "execute_result"
    }
   ],
   "source": [
    "rotateMatrix(mat)"
   ]
  }
 ],
 "metadata": {
  "kernelspec": {
   "display_name": "Python 3.10.5 64-bit",
   "language": "python",
   "name": "python3"
  },
  "language_info": {
   "codemirror_mode": {
    "name": "ipython",
    "version": 3
   },
   "file_extension": ".py",
   "mimetype": "text/x-python",
   "name": "python",
   "nbconvert_exporter": "python",
   "pygments_lexer": "ipython3",
   "version": "3.10.5"
  },
  "orig_nbformat": 4,
  "vscode": {
   "interpreter": {
    "hash": "13081b603aa6a013995035d320af2c1f15789dc4224cd169330b49e0b23c4e97"
   }
  }
 },
 "nbformat": 4,
 "nbformat_minor": 2
}

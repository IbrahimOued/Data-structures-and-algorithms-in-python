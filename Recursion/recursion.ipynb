{
 "cells": [
  {
   "cell_type": "markdown",
   "metadata": {},
   "source": [
    "# Recursion"
   ]
  },
  {
   "cell_type": "markdown",
   "metadata": {},
   "source": [
    "## Definition:\n",
    "\n",
    "Recursion = a way of solving a problem by having a function calling itself \n",
    "\n",
    "## Properties\n",
    "* Performing the same operation multiple time with different inputs\n",
    "* In every step we try smaller inputs to make the problem smaller\n",
    "* Base condition is needed to stop the recursion, otherwise infinite loop will occur"
   ]
  },
  {
   "cell_type": "markdown",
   "metadata": {},
   "source": [
    "## Why recursion\n",
    "\n",
    "1. Recursive thinking is really important in programming and it helps you break down big problems into smaller ones and easier to use\n",
    "   * When to choose recursion?\n",
    "   A good hint here is that **when you can divide the problem into similar sub problems then you can use recursion**\n",
    "   * *Design an algorithm to compute $nth$...*\n",
    "   * *Write an algorithm to compute the n...$*\n",
    "   * *Implement a method to compute all*\n",
    "     * Those are good candidates\n",
    "   * Practice\n",
    "\n",
    "2. The prominent usage of recursion in data structures like **trees** and **graphs**\n",
    "3. Interviews\n",
    "4. It is used in many algorithms (**divide and conquer**, **greedy and dynamic programming**)"
   ]
  },
  {
   "cell_type": "markdown",
   "metadata": {},
   "source": [
    "## How does recursion work?\n",
    "\n",
    "1. A method calls itself\n",
    "2. Exit from infinite loop\n",
    "\n",
    "```python\n",
    "def recursionMethod(parameters):\n",
    "    if (exit from condition) satisfied:\n",
    "        return some value\n",
    "    else:\n",
    "        recursionMethod(modified parameters)\n",
    "```"
   ]
  },
  {
   "cell_type": "markdown",
   "metadata": {},
   "source": [
    "## Recursion vs iteration solutions\n",
    "\n",
    "### Recusion one\n",
    "\n",
    "```python\n",
    "def powerOfTwo(n):\n",
    "    if n == 0:\n",
    "        return 1\n",
    "    else:\n",
    "        power = powerOfTwo(n-1)\n",
    "        return power * 2\n",
    "```\n",
    "\n",
    "### Iterative one\n",
    "\n",
    "```python\n",
    "def powerOfTwo(n):\n",
    "    i = 0\n",
    "    power = 1\n",
    "    while i < n:\n",
    "        power = power * 2\n",
    "        i += 1\n",
    "    return power\n",
    "```\n",
    "\n",
    "This doesn't mean that recursion solutions are better than iterative ones. We use recursion solutions **when we know a problem can be divided in similar sub-problems**, and we **deal with data structures like trees and graph**, the use of recursion is more efficient.\n",
    "\n",
    "Here is a comparison\n",
    "\n",
    "| Points           | Recursion | Iteration |                                                                                                                                 |\n",
    "| :--------------- | :-------: | :-------: | :------------------------------------------------------------------------------------------------------------------------------ |\n",
    "| Space efficient? |    No     |    Yes    | No stack memory required in case of iteration                                                                                   |\n",
    "| Time efficient?  |    No     |    Yes    | In case of recursion system needs more time for pop and push elements to stack memory which makes recursion less time efficient |\n",
    "| Easy to code?    |    Yes    |    No     | We use recursion especially in the cases we know that a problem can be divided into similar sub problems                        |\n"
   ]
  },
  {
   "cell_type": "markdown",
   "metadata": {},
   "source": [
    "## When to use/avoid recursion?\n",
    "\n",
    "### When to use it?\n",
    "\n",
    "* When we can easily breakdown a problem into similar subproblem\n",
    "* When we fine with extra overhead (both time and space) that comes with it\n",
    "* When we need a quick working solution instead of efficient one\n",
    "* When traverse a tree\n",
    "* When we use **memoization** in recursion\n",
    "\n",
    "### When avoid it\n",
    "\n",
    "* If time and space complexity matters for us\n",
    "* Recursion uses more memory\n",
    "* Recursion can be slow if not implemented correctly"
   ]
  },
  {
   "cell_type": "markdown",
   "metadata": {},
   "source": [
    "## How to write recursive method in 3 steps\n",
    "\n",
    "Factorial case\n",
    "\n",
    "1.  **Step 1** : **Recursive case - the flow**\n",
    "\n",
    "We need to identify the recursive case. In our case the general of factorial function is like this :\n",
    "\n",
    "$n! = n * (n-1) * (n-2) * \\dots * 2 * 1  \\implies n! = n * (n-1)!  $\n",
    "The function of this step can be written as :\n",
    "\n",
    "```python\n",
    "def factorial(n):\n",
    "    return  n * factorial(n-1)\n",
    "```\n",
    "At this step the program is buggy and will crash because python will exceed the recursion limit that's why we need step 2.\n",
    "\n",
    "2. **Step 2** : **Base case - The stopping criteria**\n",
    "\n",
    "We need a base case to prevent the infinite loop, so here for the recursion function we have $0! = 1$ and $1! = 1$\n",
    "This results in our code to\n",
    "\n",
    "```python\n",
    "def factorial(n):\n",
    "    if n in (0, 1):\n",
    "        return 1\n",
    "    else:\n",
    "        return n * factorial(n-1)\n",
    "```\n",
    "\n",
    "3. **Step 3** : **Unintentional case - the constraint**\n",
    "\n",
    "If we give non positive value to the function then it will crash with the same error than at the step 1. To prevent this we need to add a constraint that the input must be positive.\n",
    "\n",
    "```python\n",
    "def factorial(n):\n",
    "    if n < 0:\n",
    "        return None\n",
    "    elif n in (0, 1):\n",
    "        return 1\n",
    "    else:\n",
    "        return n * factorial(n-1)\n",
    "```\n",
    "We've seen our 3 steps for writing recursive method, let's use it to give the fibonacci number."
   ]
  },
  {
   "cell_type": "markdown",
   "metadata": {},
   "source": [
    "## Fibonacci numbers - Recursion\n",
    "\n",
    "Fibonacci numbers are a sequence of numbers where each number is the sum of the two preceding numbers and the sequence starts from 1 to 0.\n",
    "\n",
    "$0, 1, 1, 2, 3, 5, 8, 13, 21, 34, 55, 89\\dots$\n",
    "\n",
    "```python"
   ]
  },
  {
   "cell_type": "markdown",
   "metadata": {},
   "source": [
    "```py\n",
    "def fibonacci(n):\n",
    "    if n < 0:\n",
    "        return None\n",
    "    if n in (0, 1, 2):\n",
    "        return n\n",
    "    else:\n",
    "        return fibonacci(n-1) + fibonacci(n-2)\n",
    "```"
   ]
  },
  {
   "cell_type": "markdown",
   "metadata": {},
   "source": [
    "## Interview questions\n",
    "\n",
    "### Question 1\n",
    "\n",
    "*How to find the sum of digits of a positive integer number using recursion?*\n",
    "\n",
    "step 1: Let's find the recusive case\n",
    "\n",
    "$10 = \\frac{10}{10} = 1$ and remainder $0$\n",
    "\n",
    "$54 = \\frac{54}{10} = 5$ and remainder $4$\n",
    "\n",
    "That's it for 2 digits, now with 3 digits we have\n",
    "$415 = \\frac{415}{10} = 41$ and remainder $5$ We'll then recalculate $41 = \\frac{41}{10} = 4$ and remainder $1$\n",
    "\n",
    "The recursion is $f(n) = n \\% 10 + \\frac{n}{10}$\n",
    "\n",
    "step 2: Base case will be $n \\lt 10$ as the digit will be unique\n",
    "\n",
    "\n",
    "step 3: Will be taking care of unintentional case like negative inputs\n",
    "\n",
    "The final result will be:\n",
    "\n",
    "```python\n",
    "def sumOfDigits(n):\n",
    "    assert n >= 0 and int(n) == n, \"Number should be positive\"\n",
    "    if n < 10:\n",
    "        return n\n",
    "    else:\n",
    "        return n % 10 + sumOfDigits(n // 10)\n",
    "```"
   ]
  },
  {
   "cell_type": "code",
   "execution_count": 5,
   "metadata": {},
   "outputs": [
    {
     "data": {
      "text/plain": [
       "23"
      ]
     },
     "execution_count": 5,
     "metadata": {},
     "output_type": "execute_result"
    }
   ],
   "source": [
    "def sumOfDigits(n):\n",
    "    # Should be positive Find the eventually the constraint case\n",
    "    assert n >= 0 and int(n) == n, \"Number should be positive\"\n",
    "    # Find the stoping criteria case\n",
    "    if n < 10:\n",
    "        return n\n",
    "    # Find the 1st step of the recursion, the general case\n",
    "    return n % 10 + sumOfDigits(n // 10) \n",
    "\n",
    "sumOfDigits(1994)"
   ]
  },
  {
   "cell_type": "markdown",
   "metadata": {},
   "source": [
    "### Question 2\n",
    "\n",
    "*How to calculate the power of a number using recursion?*\n",
    "    \n",
    "```python\n",
    "def power(x, n):\n",
    "    assert n >= 0 and int(n) == n, \"Power should be positive\"\n",
    "    if n == 0:\n",
    "        return 1\n",
    "    else:\n",
    "        return x ** power(x, n-1)\n",
    "```"
   ]
  },
  {
   "cell_type": "code",
   "execution_count": 6,
   "metadata": {},
   "outputs": [
    {
     "data": {
      "text/plain": [
       "16"
      ]
     },
     "execution_count": 6,
     "metadata": {},
     "output_type": "execute_result"
    }
   ],
   "source": [
    "def powerNumb(x, n):\n",
    "    assert n >= 0 and int(n) == n, \"Power number should be positive\"\n",
    "    if n == 0:\n",
    "        return 1\n",
    "    else:\n",
    "        return x * powerNumb(x, n-1)\n",
    "\n",
    "powerNumb(2, 4)"
   ]
  },
  {
   "cell_type": "markdown",
   "metadata": {},
   "source": [
    "### Question 3\n",
    "\n",
    "*How to find the greatest common divisor of two numbers using recursion?*\n",
    "\n",
    "the greatest common divisor of 2 numbers is the largest positive integer that divide the 2 number without remainder.\n",
    "\n",
    "```python\n",
    "def gcd(a, b):\n",
    "    assert int(a) == a and int(b) == b, \"The numbers must be integers only!\"\n",
    "    if a < 0:\n",
    "        a = -1 * a\n",
    "    if b < 0:\n",
    "        b = -1 * b\n",
    "    if b == 0:\n",
    "        return a\n",
    "    else:\n",
    "        return gcd(b, a % b)\n",
    "```"
   ]
  },
  {
   "cell_type": "code",
   "execution_count": 17,
   "metadata": {},
   "outputs": [
    {
     "data": {
      "text/plain": [
       "6"
      ]
     },
     "execution_count": 17,
     "metadata": {},
     "output_type": "execute_result"
    }
   ],
   "source": [
    "def gcd(a, b):\n",
    "    # The constraints, we should have both inputs positive\n",
    "    assert int(a) == a and int(b) == b, \"The numbers must be integers only!\"\n",
    "    # The stoping criteria\n",
    "    if a < 0:\n",
    "        a = -1 * a\n",
    "    if b < 0:\n",
    "        b = -1 * b\n",
    "    if b == 0:\n",
    "        return a\n",
    "    else:\n",
    "        # Find the general case\n",
    "        return gcd(b, a % b)\n",
    "\n",
    "gcd(48, 18)"
   ]
  },
  {
   "cell_type": "markdown",
   "metadata": {},
   "source": [
    "### Questions 4\n",
    "\n",
    "_How to convert a decimal number to binary number using recursion?_\n",
    "\n",
    "Step 1: Recursive case\n",
    "step a: Divide the number by 2\n",
    "step b: Get the integer quotient for the next iteration\n",
    "step c: Get the remainder for the binary digit\n",
    "step d: Repeat the steps until the quotient is equal to 0\n",
    "\n",
    "13 to binary\n",
    "\n",
    "|  Division by   | Quotient | Remainder |\n",
    "| :------------: | :------: | :-------: |\n",
    "| $\\frac{13}{2}$ |   $6$    |    $1$    |\n",
    "| $\\frac{6}{2}$  |   $3$    |    $0$    |\n",
    "| $\\frac{3}{2}$  |   $1$    |    $1$    |\n",
    "| $\\frac{1}{2}$  |   $0$    |    $1$    |\n",
    "\n",
    "will give $1101$\n",
    "\n",
    "Let's extract the recursion here, from the last result of the reminder we will have $1 \\times 10 + 0 = 10$ and the next above using this result will be $10 \\times 10 + 1 = 101$ etc.\n",
    "\n",
    "From the bottom to the top we will get $1010$ this way\n",
    "\n",
    "$101 \\times 10 + 0 = 1010$\n",
    "\n",
    "$10 \\times 10 + 1 = 101$\n",
    "\n",
    "$1 \\times 10 + 0 = 10$\n",
    "\n",
    "The recursion will be $f(n) = n \\% 2 + 10 * f(n)$\n",
    "\n",
    "```python\n",
    "def decimalToBinary(n):\n",
    "    assert n >= 0 and int(n) == n, \"Number should be positive\"\n",
    "    if n == 0:\n",
    "        return 0\n",
    "    else:\n",
    "        return n % 2 + 10 * decimalToBinary(n // 2)\n",
    "```\n"
   ]
  },
  {
   "cell_type": "code",
   "execution_count": 19,
   "metadata": {},
   "outputs": [
    {
     "data": {
      "text/plain": [
       "1101"
      ]
     },
     "execution_count": 19,
     "metadata": {},
     "output_type": "execute_result"
    }
   ],
   "source": [
    "def decimalToBinary(n):\n",
    "    assert n >= 0 and int(n) == n, \"Number should be positive\"\n",
    "    if n == 0:\n",
    "        return 0\n",
    "    else:\n",
    "        return n % 2 + 10 * decimalToBinary(n // 2)\n",
    "\n",
    "decimalToBinary(13)"
   ]
  }
 ],
 "metadata": {
  "kernelspec": {
   "display_name": "Python 3.10.5 64-bit",
   "language": "python",
   "name": "python3"
  },
  "language_info": {
   "codemirror_mode": {
    "name": "ipython",
    "version": 3
   },
   "file_extension": ".py",
   "mimetype": "text/x-python",
   "name": "python",
   "nbconvert_exporter": "python",
   "pygments_lexer": "ipython3",
   "version": "3.10.5"
  },
  "orig_nbformat": 4,
  "vscode": {
   "interpreter": {
    "hash": "13081b603aa6a013995035d320af2c1f15789dc4224cd169330b49e0b23c4e97"
   }
  }
 },
 "nbformat": 4,
 "nbformat_minor": 2
}

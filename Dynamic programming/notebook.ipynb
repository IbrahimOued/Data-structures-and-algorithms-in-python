{
 "cells": [
  {
   "cell_type": "markdown",
   "metadata": {},
   "source": [
    "# Dynamic programming\n",
    "\n",
    "**Dynamic programming (DP)** is an algorithmic technique for **solving an optimization problem by breaking it down into simpler subproblems and utilizing the fact that the optimal solution to the overall problem depends upon the optimal solution to its subproblems**"
   ]
  },
  {
   "cell_type": "markdown",
   "metadata": {},
   "source": [
    "Exemple : 1\n",
    "\n",
    "$1 + 1 + 1 + 1 + 1 + 1 + 1 = 7$\n",
    "\n",
    "If we are asking another question, we will simplty take the answer from the previous problem and add $2$\\\n",
    "$\\underbrace{1 + 1 + 1 + 1 + 1 + 1 + 1}_\\text{7} + 2 = 9$"
   ]
  },
  {
   "cell_type": "markdown",
   "metadata": {},
   "source": [
    "In realitity ***Dynamic Programming*** is an optimization of ***Divide and conquer*** algorithm"
   ]
  },
  {
   "cell_type": "markdown",
   "metadata": {},
   "source": [
    "There are two mains properties of Dynamic programming:\n",
    "\n",
    "### <u>**Optimal substructure**</u>\n",
    "\n",
    "If any problem's overall optimal solution **can be constructed from the optimal solution of its subproblem** then this problem has **optimal substructure**\n",
    "\n",
    "Example : $fib(n) = fib(n-1) + fib(n-2)$\n",
    "\n",
    "### <u>**Overlapping subproblem**</u>\n",
    "\n",
    "Subproblems are smaller version of the original problem. Any problem has overlapping subproblem if **finding its solution involves solving the same subproblem multiple times**\n",
    "\n",
    "                                     fib(4)\n",
    "                                   /        \\\n",
    "                              fib(3)         fib(2)\n",
    "                            /       \\        /    \\           \n",
    "                      fib(2)     fib(1)  fib(1)   fib(0)\n",
    "                    /       \\           \n",
    "              fib(1)      fib(0)"
   ]
  },
  {
   "cell_type": "markdown",
   "metadata": {},
   "source": [
    "Here we can observe that we have repetition of subproblems that means that there are overlapping subproblem."
   ]
  },
  {
   "cell_type": "markdown",
   "metadata": {},
   "source": [
    "Let's learn different methods of dynamic programming for solving problems"
   ]
  },
  {
   "cell_type": "markdown",
   "metadata": {},
   "source": [
    "### Top Down with Memoization\n",
    "\n",
    "Solve the bigger problem by recursively finding the solution to smaller subproblems. Whenever we solve sub problem, **we cache its result so that we don't end up solving it repeatedly if it's called multiple times**. This technique of storing the results of already solved subproblems is called <t style=\"color:yellow\">**Memoization**</t>."
   ]
  },
  {
   "cell_type": "markdown",
   "metadata": {},
   "source": [
    "Example: $0, 1, 1, 2, 3, 5, 8, 13, 21, 34, 55, \\dots$\n",
    "\n",
    "$fibonacci(n) = fibonacci(n-1) + fibonacci(n-2)$\n",
    "\n",
    "In the divide and conquer section we used the following algorithm \n",
    "\n",
    "```python\n",
    "fibonacci(n):\n",
    "    if n < 1 return error message\n",
    "    if n = 1 return 0\n",
    "    if n = 2 return 1\n",
    "    else:\n",
    "        return fibonacci(n-1) + fibonacci(n-2)\n",
    "```\n",
    "\n",
    "Time complexity $O(c^n)$\\\n",
    "Space complexity $O(n)$"
   ]
  },
  {
   "cell_type": "markdown",
   "metadata": {},
   "source": [
    "If we remove the repeated calculations in the fibonacci example, we can come up with the following algorithm\n",
    "\n",
    "```python\n",
    "fibonacci(n):\n",
    "    if n < 1 return error message\n",
    "    if n = 1 return 0\n",
    "    if n = 2 return 1\n",
    "    if not n in memo:\n",
    "        memo[n] = fibonacci(n-1, memo) + fibonacci(n-2, memo)\n",
    "    return memo[n]\n",
    "```\n",
    "Time complexity $O(n)$\\\n",
    "Space complexity $O(n)$"
   ]
  },
  {
   "cell_type": "markdown",
   "metadata": {},
   "source": [
    "Let's create fibonacci series using Memoization"
   ]
  },
  {
   "cell_type": "code",
   "execution_count": 27,
   "metadata": {},
   "outputs": [
    {
     "data": {
      "text/plain": [
       "5"
      ]
     },
     "execution_count": 27,
     "metadata": {},
     "output_type": "execute_result"
    }
   ],
   "source": [
    "def fiboMemo(n, memo):\n",
    "    if n == 1: return 0\n",
    "    if n == 2: return 1\n",
    "    if n not in memo:\n",
    "        memo[n] = fiboMemo(n-1, memo) + fiboMemo(n-2, memo)\n",
    "    return memo[n]\n",
    "\n",
    "myDict = {}\n",
    "fiboMemo(6, myDict)"
   ]
  },
  {
   "cell_type": "markdown",
   "metadata": {},
   "source": [
    "### Bottom up with Tabulation\n"
   ]
  },
  {
   "cell_type": "markdown",
   "metadata": {},
   "source": [
    "Tabulation is the opposite of the *top down* approach and *avoids recursion*. In this approach, we solve the problem **bottom up** (i.e by solving all the related subproblems first). This is done by filling up a table. Based on the results in the table, the solution to the top/original problem is then computed."
   ]
  },
  {
   "cell_type": "markdown",
   "metadata": {},
   "source": [
    "Example: $0, 1, 1, 2, 3, 5, 8, 13, 21, 34, 55, \\dots$\n",
    "\n",
    "$fibonacci(n) = fibonacci(n-1) + fibonacci(n-2)$\n",
    "\n",
    "By avoiding the recursion with this approach the efficiency of the algorithm improves significantly. Let's see the pseudo code\n",
    "\n",
    "```py\n",
    "fibonacci_tab(n):\n",
    "    tb = [0, 1]\n",
    "    for i in range(2, n+1):\n",
    "        tb.append(tb[i-1] + tb[i-2])\n",
    "    return tb[n-1]\n",
    "```\n",
    "Time complexity $O(n)$\\\n",
    "Space complexity $O(n)$"
   ]
  },
  {
   "cell_type": "markdown",
   "metadata": {},
   "source": [
    "The implementation in python"
   ]
  },
  {
   "cell_type": "code",
   "execution_count": 28,
   "metadata": {},
   "outputs": [
    {
     "data": {
      "text/plain": [
       "5"
      ]
     },
     "execution_count": 28,
     "metadata": {},
     "output_type": "execute_result"
    }
   ],
   "source": [
    "def fibonacci_tab(n):\n",
    "    tab = [0, 1]\n",
    "    for i in range(2, n+1):\n",
    "        tab.append(tab[i-1] + tab[i-2])\n",
    "    return tab[n-1]\n",
    "\n",
    "fibonacci_tab(6)"
   ]
  },
  {
   "cell_type": "markdown",
   "metadata": {},
   "source": [
    "| Problem           | Divide and conquer | Top down | Bottom up |\n",
    "| ----------------- | ------------------ | -------- | --------- |\n",
    "| Fibonacci numbers | $O(c^n)$           | $O(n)$   | $O(n)$    |\n"
   ]
  },
  {
   "cell_type": "markdown",
   "metadata": {},
   "source": [
    "|                 | Top down                                                               | Bottom up                          |\n",
    "| --------------- | ---------------------------------------------------------------------- | ---------------------------------- |\n",
    "| Ease            | Easy to come up with solution as it is extension of divide and conquer | Difficult to come up with solution |\n",
    "| Runtime         | Slow                                                                   | Fast                               |\n",
    "| Space efficency | Unnecessary use of stack space                                         | Stack is not used                  |\n",
    "| When to use     | Need a quick solution                                                  | Need an efficient solution         |\n"
   ]
  },
  {
   "cell_type": "markdown",
   "metadata": {},
   "source": [
    "### Number factor problem"
   ]
  },
  {
   "cell_type": "markdown",
   "metadata": {},
   "source": [
    "Given $N$, find the number of ways to express $N$ as a sum of $1$, $3$ and $4$\n",
    "\n",
    "Exemple 1:\n",
    "* $N = 4$\n",
    "* Number of ways = $4$\n",
    "* Explanation: There are $4$ ways we can express $N$, $\\{4\\}, \\{1, 3\\}, \\{3, 1\\}, \\{1, 1, 1, 1\\}$"
   ]
  },
  {
   "cell_type": "markdown",
   "metadata": {},
   "source": [
    "#### Top down\n",
    "\n",
    "Let's transform the divide and conquer algorithm used previously into a top down dynamic programming algorith. We will follow 4 steps:\n",
    "\n",
    "* **step 1**: We need to create an array/dic/list to store subproblems answers.\n",
    "* **step 2**: Before continuing to the recursion, we have to check if the problem is solved or not. If it's already solved we won't calculate it again we will just used the calculated answer from the dict\n",
    "* **step 3** : If we haven't solve the subproblem yet, we continue to the recursion and solve it after that we store its answer inside the dictionnary\n",
    "* **step 4**: We need to return the value from the dictionnary"
   ]
  },
  {
   "cell_type": "code",
   "execution_count": 29,
   "metadata": {},
   "outputs": [
    {
     "name": "stdout",
     "output_type": "stream",
     "text": [
      "6\n"
     ]
    }
   ],
   "source": [
    "def number_factor_top_down(n, dp): # STEP 1: We add the dict as parameter\n",
    "    if n in [0, 1, 2]:\n",
    "        return 1\n",
    "    elif n == 3:\n",
    "        return 2\n",
    "    elif n in dp: return dp[n]  # STEP 2: We take the calculated value from the dict\n",
    "    else:\n",
    "        sub_p1 = number_factor_top_down(n-1, dp)\n",
    "        sub_p2 = number_factor_top_down(n-3, dp)\n",
    "        sub_p3 = number_factor_top_down(n-4, dp)\n",
    "        dp[n] = sub_p1 + sub_p2 + sub_p3 # STEP 3: \n",
    "        # return sub_p1 + sub_p2 + sub_p3   # Not necessary anymore\n",
    "        return dp[n] # STEP 4: We return the value of the dictionnary\n",
    "\n",
    "mydict = {}\n",
    "print(number_factor_top_down(5, mydict))"
   ]
  },
  {
   "cell_type": "markdown",
   "metadata": {},
   "source": [
    "#### Bottom up"
   ]
  },
  {
   "cell_type": "markdown",
   "metadata": {},
   "source": [
    "The code looks like this:"
   ]
  },
  {
   "cell_type": "code",
   "execution_count": 35,
   "metadata": {},
   "outputs": [
    {
     "name": "stdout",
     "output_type": "stream",
     "text": [
      "64\n"
     ]
    }
   ],
   "source": [
    "def number_factor_bottom_up(n):\n",
    "    arr = [1, 1, 1, 2]\n",
    "    for i in range(4, n+1):\n",
    "        arr.append(arr[i-1] + arr[i-3] + arr[i-4])\n",
    "    return arr[n]\n",
    "\n",
    "print(number_factor_bottom_up(10))"
   ]
  },
  {
   "cell_type": "markdown",
   "metadata": {},
   "source": [
    "### House robber\n",
    "\n",
    "Given $N$ number of houses along the street with some amount of money\n",
    "- Adjacent houses cannot be stolen\n",
    "- Find the maximum amount that can be stolen"
   ]
  },
  {
   "cell_type": "markdown",
   "metadata": {},
   "source": [
    "#### Top down"
   ]
  },
  {
   "cell_type": "code",
   "execution_count": null,
   "metadata": {},
   "outputs": [
    {
     "name": "stdout",
     "output_type": "stream",
     "text": [
      "41\n"
     ]
    }
   ],
   "source": [
    "def house_robber_top_down(houses, current_index, arr):\n",
    "    if current_index >= len(houses):\n",
    "        return 0\n",
    "    elif houses[current_index] in arr: return arr[current_index]\n",
    "    else:\n",
    "        steal_first_house = houses[current_index] + house_robber_top_down(houses, current_index+2, arr)\n",
    "        skip_first_house = house_robber_top_down(houses, current_index+1, arr)\n",
    "        arr[current_index] = max(steal_first_house, skip_first_house)\n",
    "        return arr[current_index]\n",
    "\n",
    "mydict = {}\n",
    "houses = [6, 7, 1, 30, 8, 2, 4]\n",
    "print(house_robber_top_down(houses, 0, mydict))"
   ]
  },
  {
   "cell_type": "markdown",
   "metadata": {},
   "source": [
    "#### Bottom up"
   ]
  },
  {
   "cell_type": "markdown",
   "metadata": {},
   "source": [
    "We need to calculate the values of the next 2 houses after our list that's why we have\n",
    "```python\n",
    "arr = [0] * (len(houses) + 2)\n",
    "```\n",
    "We are going backward in order to calculate the subproblems"
   ]
  },
  {
   "cell_type": "code",
   "execution_count": null,
   "metadata": {},
   "outputs": [
    {
     "name": "stdout",
     "output_type": "stream",
     "text": [
      "41\n"
     ]
    }
   ],
   "source": [
    "def house_robber_bottom_up(houses, current_index):\n",
    "    arr = [0] * (len(houses) + 2)\n",
    "    for i in range(len(houses)-1, -1, -1):\n",
    "        arr[i] = max(houses[i] + arr[i+2], arr[i+1])\n",
    "    return arr[0]\n",
    "\n",
    "print(house_robber_bottom_up(houses, 0))"
   ]
  },
  {
   "cell_type": "markdown",
   "metadata": {},
   "source": [
    "### Convert one string to another one\n",
    "\n",
    "- S1 and S2 are given strings\n",
    "- Convert S2 to S2 using delete, insert or replace operations\n",
    "- Find the minimum count of edit operations"
   ]
  },
  {
   "cell_type": "markdown",
   "metadata": {},
   "source": [
    "Exemple 1:\n",
    "* S1 = \"catch\"\n",
    "* S2 = \"carch\"\n",
    "* Output = 1\n",
    "* Explanation: Replace \"r\" with \"t\"\n",
    "\n",
    "Exemple 2:\n",
    "* S1 = \"table\"\n",
    "* S2 = \"tbres\"\n",
    "* Output: 3\n",
    "* Explanation: insert \"a\" to second position, replace \"r\" with \"l\" and delete \"s\""
   ]
  },
  {
   "cell_type": "markdown",
   "metadata": {},
   "source": [
    "#### Top down"
   ]
  },
  {
   "cell_type": "code",
   "execution_count": 49,
   "metadata": {},
   "outputs": [
    {
     "data": {
      "text/plain": [
       "4"
      ]
     },
     "execution_count": 49,
     "metadata": {},
     "output_type": "execute_result"
    }
   ],
   "source": [
    "def find_min_operation(s1, s2, index_1, index_2, mydict):\n",
    "    if index_1 == len(s1):\n",
    "        return len(s2) - index_2\n",
    "\n",
    "    if index_2 == len(s2):\n",
    "        return len(s1) - index_1\n",
    "    if s1[index_1] == s2[index_2]:\n",
    "            return find_min_operation(s1, s2, index_1 + 1, index_2 + 1, mydict)\n",
    "    else:\n",
    "        dict_key = str(index_1) + str(index_2)\n",
    "        if dict_key not in mydict: \n",
    "            delete_op = 1 + find_min_operation(s1, s2, index_1, index_2 + 1, mydict)\n",
    "            insert_op = 1 + find_min_operation(s1, s2, index_1 + 1, index_2, mydict)\n",
    "            replace_op = 1 + find_min_operation(s1, s2, index_1 + 1, index_2 + 1, mydict)\n",
    "            mydict[dict_key] = min(delete_op, insert_op, replace_op)\n",
    "        return mydict[dict_key]\n",
    "\n",
    "\n",
    "s1 = \"table\"\n",
    "s2 = \"tbrltt\"\n",
    "\n",
    "mydict = {}\n",
    "find_min_operation(s1, s2, 0, 0, mydict)"
   ]
  },
  {
   "cell_type": "markdown",
   "metadata": {},
   "source": [
    "### Zero one knapsack problem\n",
    "\n",
    "- Given the weights and profit of N items\n",
    "- Find the maximum profit within given capacity of C\n",
    "- Items cannot be broken"
   ]
  },
  {
   "cell_type": "markdown",
   "metadata": {},
   "source": [
    "#### Top bottom"
   ]
  },
  {
   "cell_type": "code",
   "execution_count": 54,
   "metadata": {},
   "outputs": [
    {
     "data": {
      "text/plain": [
       "74"
      ]
     },
     "execution_count": 54,
     "metadata": {},
     "output_type": "execute_result"
    }
   ],
   "source": [
    "class Item:\n",
    "    def __init__(self, profit, weight) -> None:\n",
    "        self.profit = profit\n",
    "        self.weight = weight\n",
    "\n",
    "def zero_one_knapsack_top_bottom(items, capacity, current_index, mydict):\n",
    "    if capacity <= 0 or current_index < 0 or current_index >= len(items):\n",
    "        return 0\n",
    "    elif items[current_index].weight <= capacity:\n",
    "        if current_index not in mydict:\n",
    "            profit_1 = items[current_index].profit + zero_one_knapsack_top_bottom(items, capacity - items[current_index].weight, current_index+1, mydict)\n",
    "            profit_2 = zero_one_knapsack_top_bottom(items, capacity, current_index+1, mydict)\n",
    "            mydict[current_index] = max(profit_1, profit_2)\n",
    "        return mydict[current_index]\n",
    "    else:\n",
    "        return 0\n",
    "\n",
    "mango = Item(31, 3)\n",
    "apple = Item(26, 1)\n",
    "orange = Item(17, 2)\n",
    "banana = Item(72, 5)\n",
    "\n",
    "items = [mango, apple, orange, banana]\n",
    "mydict = {}\n",
    "\n",
    "zero_one_knapsack_top_bottom(items, 7, 0, mydict)"
   ]
  },
  {
   "cell_type": "markdown",
   "metadata": {},
   "source": [
    "#### Bottom up"
   ]
  },
  {
   "cell_type": "markdown",
   "metadata": {},
   "source": [
    "> [!IMPORTANT]\n",
    "> TO REFACTOR"
   ]
  },
  {
   "cell_type": "code",
   "execution_count": 55,
   "metadata": {},
   "outputs": [
    {
     "data": {
      "text/plain": [
       "98"
      ]
     },
     "execution_count": 55,
     "metadata": {},
     "output_type": "execute_result"
    }
   ],
   "source": [
    "class Item:\n",
    "    def __init__(self, profit, weight,) -> None:\n",
    "        self.profit = profit\n",
    "        self.weight = weight\n",
    "\n",
    "\n",
    "def zero_one_knapsack_bottom_up(profits, weights, capacity):\n",
    "    if capacity <= 0 or len(profits) == 0 or len(weights) != len(profits):\n",
    "        return 0\n",
    "    number_of_rows = len(profits) + 1\n",
    "    dp = [[0 for i in range(capacity + 2)] for j in range(number_of_rows)]\n",
    "    for row in range(number_of_rows-2, -1, -1):\n",
    "        for column in range(1, capacity+1):\n",
    "            profit_1 = 0\n",
    "            profit_2 = 0\n",
    "            if weights[row] <= column:\n",
    "                profit_1 = profits[row] + dp[row + 1][column - weights[row]]\n",
    "            profit_2 = dp[row + 1][column]\n",
    "            dp[row][column] = max(profit_1, profit_2)\n",
    "\n",
    "    return dp[0][capacity]\n",
    "\n",
    "\n",
    "mango = Item(31, 3)\n",
    "apple = Item(26, 1)\n",
    "orange = Item(17, 2)\n",
    "banana = Item(72, 5)\n",
    "\n",
    "profits = [31, 26, 17, 72]\n",
    "weights = [3, 1, 2, 5]\n",
    "\n",
    "items = [mango, apple, orange, banana]\n",
    "\n",
    "zero_one_knapsack_bottom_up(profits, weights, 7)\n"
   ]
  }
 ],
 "metadata": {
  "kernelspec": {
   "display_name": "Python 3.10.5 64-bit",
   "language": "python",
   "name": "python3"
  },
  "language_info": {
   "codemirror_mode": {
    "name": "ipython",
    "version": 3
   },
   "file_extension": ".py",
   "mimetype": "text/x-python",
   "name": "python",
   "nbconvert_exporter": "python",
   "pygments_lexer": "ipython3",
   "version": "3.10.5"
  },
  "orig_nbformat": 4,
  "vscode": {
   "interpreter": {
    "hash": "13081b603aa6a013995035d320af2c1f15789dc4224cd169330b49e0b23c4e97"
   }
  }
 },
 "nbformat": 4,
 "nbformat_minor": 2
}

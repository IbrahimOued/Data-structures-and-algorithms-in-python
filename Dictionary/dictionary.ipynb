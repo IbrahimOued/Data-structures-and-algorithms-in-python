{
 "cells": [
  {
   "cell_type": "markdown",
   "metadata": {},
   "source": [
    "# Dictionary"
   ]
  },
  {
   "cell_type": "markdown",
   "metadata": {},
   "source": [
    "(conf studied book)"
   ]
  }
 ],
 "metadata": {
  "interpreter": {
   "hash": "1f32b5421a8ff0d42a48b815bf19042393e35e155696c5aece5a8e7cb1002b7b"
  },
  "kernelspec": {
   "display_name": "Python 3.9.12 ('Zindi')",
   "language": "python",
   "name": "python3"
  },
  "language_info": {
   "name": "python",
   "version": "3.9.12"
  },
  "orig_nbformat": 4
 },
 "nbformat": 4,
 "nbformat_minor": 2
}

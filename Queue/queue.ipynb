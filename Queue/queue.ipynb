{
 "cells": [
  {
   "cell_type": "markdown",
   "metadata": {},
   "source": [
    "# Queue"
   ]
  },
  {
   "cell_type": "markdown",
   "metadata": {},
   "source": [
    "Implementation\n",
    "\n",
    "1. Python list\n",
    "   * Queue without capacity\n",
    "   * Queue with capacity (Circular Queue)\n",
    "2. Linked list"
   ]
  },
  {
   "cell_type": "markdown",
   "metadata": {},
   "source": [
    "Create Queue without capacity (Python list)"
   ]
  },
  {
   "cell_type": "markdown",
   "metadata": {},
   "source": [
    "```python\n",
    "class Queue:\n",
    "    def __init__(self):\n",
    "        self.items = []\n",
    "\n",
    "    def __str__(self):\n",
    "        values = [str(item) for item in self.items]\n",
    "        return ' '.join(values)\n",
    "\n",
    "    def enqueue(self, item):\n",
    "        self.items.append(item)\n",
    "\n",
    "    def dequeue(self):\n",
    "        if not self.is_empty():\n",
    "            return self.items.pop(0)\n",
    "        else:\n",
    "            return None\n",
    "\n",
    "    def is_empty(self):\n",
    "        return self.items == []\n",
    "    \n",
    "    def peek(self):\n",
    "        if not self.is_empty():\n",
    "            return self.items[0]\n",
    "        else:\n",
    "            return None\n",
    "\n",
    "    def dequeue_all(self):\n",
    "        while not self.is_empty():\n",
    "            self.dequeue()\n",
    "```"
   ]
  },
  {
   "cell_type": "markdown",
   "metadata": {},
   "source": [
    "Create a queue with fixed size (Circular Queue)\n",
    "\n",
    "```python\n",
    "class Queue:\n",
    "    def __init__(self, capacity):\n",
    "        self.items = []\n",
    "        self.capacity = capacity\n",
    "\n",
    "    def __str__(self):\n",
    "        values = [str(item) for item in self.items]\n",
    "        return ' '.join(values)\n",
    "\n",
    "    def enqueue(self, item):\n",
    "        if len(self.items) == self.capacity:\n",
    "            self.items.pop(0)\n",
    "        self.items.append(item)\n",
    "\n",
    "    def dequeue(self):\n",
    "        if not self.is_empty():\n",
    "            return self.items.pop(0)\n",
    "        else:\n",
    "            return None\n",
    "\n",
    "    def is_empty(self):\n",
    "        return self.items == []\n",
    "    \n",
    "    def peek(self):\n",
    "        if not self.is_empty():\n",
    "            return self.items[0]\n",
    "        else:\n",
    "            return None\n",
    "\n",
    "    def dequeue_all(self):\n",
    "        while not self.is_empty():\n",
    "            self.dequeue()\n",
    "```"
   ]
  },
  {
   "cell_type": "code",
   "execution_count": 1,
   "metadata": {},
   "outputs": [],
   "source": [
    "class Queue:\n",
    "    def __init__(self, capacity):\n",
    "        self.items = []\n",
    "        self.capacity = capacity\n",
    "\n",
    "    def __str__(self):\n",
    "        values = [str(item) for item in self.items]\n",
    "        return ' '.join(values)\n",
    "\n",
    "    def enqueue(self, item):\n",
    "        if len(self.items) == self.capacity:\n",
    "            self.items.pop(0)\n",
    "        self.items.append(item)\n",
    "\n",
    "    def dequeue(self):\n",
    "        if not self.is_empty():\n",
    "            return self.items.pop(0)\n",
    "        else:\n",
    "            return None\n",
    "            \n",
    "    def is_full(self):\n",
    "        return len(self.items) == self.capacity\n",
    "\n",
    "    def is_empty(self):\n",
    "        return self.items == []\n",
    "    \n",
    "    def peek(self):\n",
    "        if not self.is_empty():\n",
    "            return self.items[0]\n",
    "        else:\n",
    "            return None\n",
    "\n",
    "    def dequeue_all(self):\n",
    "        while not self.is_empty():\n",
    "            self.dequeue()"
   ]
  },
  {
   "cell_type": "code",
   "execution_count": 2,
   "metadata": {},
   "outputs": [
    {
     "name": "stdout",
     "output_type": "stream",
     "text": [
      "False\n"
     ]
    }
   ],
   "source": [
    "custom_queue = Queue(3)\n",
    "print(custom_queue.is_full())"
   ]
  },
  {
   "cell_type": "code",
   "execution_count": 3,
   "metadata": {},
   "outputs": [
    {
     "name": "stdout",
     "output_type": "stream",
     "text": [
      "True\n"
     ]
    }
   ],
   "source": [
    "print(custom_queue.is_empty())"
   ]
  },
  {
   "cell_type": "code",
   "execution_count": 4,
   "metadata": {},
   "outputs": [],
   "source": [
    "custom_queue.enqueue(1)\n",
    "custom_queue.enqueue(2)\n",
    "custom_queue.enqueue(3)"
   ]
  },
  {
   "cell_type": "code",
   "execution_count": 5,
   "metadata": {},
   "outputs": [
    {
     "name": "stdout",
     "output_type": "stream",
     "text": [
      "1 2 3\n"
     ]
    }
   ],
   "source": [
    "print(custom_queue)"
   ]
  },
  {
   "cell_type": "code",
   "execution_count": 6,
   "metadata": {},
   "outputs": [
    {
     "name": "stdout",
     "output_type": "stream",
     "text": [
      "True\n"
     ]
    }
   ],
   "source": [
    "print(custom_queue.is_full())"
   ]
  },
  {
   "cell_type": "markdown",
   "metadata": {},
   "source": [
    "Create a queue using linked list"
   ]
  },
  {
   "cell_type": "markdown",
   "metadata": {},
   "source": [
    "```python\n",
    "class Node:\n",
    "    def __init__(self, value):\n",
    "        self.value = value\n",
    "        self.next = None\n",
    "    \n",
    "    def __str__(self):\n",
    "        return str(self.value)\n",
    "\n",
    "class LinkedList:\n",
    "    def __init__(self):\n",
    "        self.head = None\n",
    "        self.tail = None\n",
    "\n",
    "    def __iter__(self):\n",
    "        current = self.head\n",
    "        while current:\n",
    "            yield current\n",
    "            current = current.next\n",
    "\n",
    "class Queue:\n",
    "    def __init__(self):\n",
    "        # We could have avoid creating a linked list class here\n",
    "        # we would have to add these attributes to the class\n",
    "        # self.head = None\n",
    "        # self.tail = None\n",
    "        self.linked_list = LinkedList()\n",
    "        self.size = 0\n",
    "\n",
    "    def __str__(self):\n",
    "        values = [str(item) for item in self.linked_list]\n",
    "        return ' '.join(values)\n",
    "\n",
    "    def enqueue(self, item):\n",
    "        node = Node(item)\n",
    "        if self.linked_list.head is None:\n",
    "            self.linked_list.head = node\n",
    "            self.linked_list.tail = node\n",
    "        else:\n",
    "            self.linked_list.tail.next = node\n",
    "            self.linked_list.tail = node\n",
    "        # [if self.is_empty():]\n",
    "        # if self.head is None:\n",
    "        #     self.head = node\n",
    "        #     self.tail = node\n",
    "        # else:\n",
    "        #     self.tail.next = node\n",
    "        #     self.tail = node\n",
    "        self.size += 1\n",
    "\n",
    "    def dequeue(self):\n",
    "        if self.linked_list.head is None:\n",
    "            return None\n",
    "        else:\n",
    "            value = self.linked_list.head.value\n",
    "            self.linked_list.head = self.linked_list.head.next\n",
    "            self.size -= 1\n",
    "            return value\n",
    "        # if !self.is_empty():\n",
    "        #     value = self.head.value\n",
    "        #     self.head = self.head.next\n",
    "        #     self.size -= 1\n",
    "        #     if self.is_empty():\n",
    "        #         self.tail = None\n",
    "        #     return value\n",
    "        # else:\n",
    "        #     return None\n",
    "\n",
    "    def is_empty(self):\n",
    "        return self.size == 0\n",
    "    \n",
    "    def peek(self):\n",
    "        if !self.is_empty():\n",
    "            return self.head.value\n",
    "        else:\n",
    "            return None\n",
    "\n",
    "    def dequeue_all(self):\n",
    "        while !self.is_empty():\n",
    "            self.dequeue()\n",
    "```"
   ]
  },
  {
   "cell_type": "code",
   "execution_count": 7,
   "metadata": {},
   "outputs": [],
   "source": [
    "class Node:\n",
    "    def __init__(self, value):\n",
    "        self.value = value\n",
    "        self.next = None\n",
    "    \n",
    "    def __str__(self):\n",
    "        return str(self.value)\n",
    "\n",
    "class LinkedList:\n",
    "    def __init__(self):\n",
    "        self.head = None\n",
    "        self.tail = None\n",
    "\n",
    "    def __iter__(self):\n",
    "        current = self.head\n",
    "        while current:\n",
    "            yield current\n",
    "            current = current.next\n",
    "\n",
    "class Queue:\n",
    "    def __init__(self):\n",
    "        # We could have avoid creating a linked list class here\n",
    "        # we would have to add these attributes to the class\n",
    "        # self.head = None\n",
    "        # self.tail = None\n",
    "        self.linked_list = LinkedList()\n",
    "        self.size = 0\n",
    "\n",
    "    def __str__(self):\n",
    "        values = [str(item) for item in self.linked_list]\n",
    "        return ' '.join(values)\n",
    "\n",
    "    def enqueue(self, item):\n",
    "        node = Node(item)\n",
    "        if self.linked_list.head is None:\n",
    "            self.linked_list.head = node\n",
    "            self.linked_list.tail = node\n",
    "        else:\n",
    "            self.linked_list.tail.next = node\n",
    "            self.linked_list.tail = node\n",
    "        # [if self.is_empty():]\n",
    "        # if self.head is None:\n",
    "        #     self.head = node\n",
    "        #     self.tail = node\n",
    "        # else:\n",
    "        #     self.tail.next = node\n",
    "        #     self.tail = node\n",
    "        self.size += 1\n",
    "\n",
    "    def dequeue(self):\n",
    "        if self.linked_list.head is None: # Another way to check if the queue is empty\n",
    "            return None\n",
    "        else:\n",
    "            temp = self.linked_list.head\n",
    "            self.linked_list.head = self.linked_list.head.next\n",
    "            self.size -= 1\n",
    "            return temp\n",
    "        # if !self.is_empty():\n",
    "        #     temp = self.head\n",
    "        #     self.head = self.head.next\n",
    "        #     self.size -= 1\n",
    "        #     if self.is_empty():\n",
    "        #         self.tail = None\n",
    "        #     return temp\n",
    "        # else:\n",
    "        #     return None\n",
    "\n",
    "    def is_empty(self):\n",
    "        return self.size == 0\n",
    "    \n",
    "    def peek(self):\n",
    "        if not self.is_empty():\n",
    "            return self.head.value\n",
    "        else:\n",
    "            return None\n",
    "\n",
    "    def dequeue_all(self):\n",
    "        while not self.is_empty():\n",
    "            self.dequeue()"
   ]
  },
  {
   "cell_type": "code",
   "execution_count": 8,
   "metadata": {},
   "outputs": [
    {
     "name": "stdout",
     "output_type": "stream",
     "text": [
      "1 2 3\n"
     ]
    }
   ],
   "source": [
    "custom_queue = Queue()\n",
    "custom_queue.enqueue(1)\n",
    "custom_queue.enqueue(2)\n",
    "custom_queue.enqueue(3)\n",
    "\n",
    "print(custom_queue)"
   ]
  },
  {
   "cell_type": "code",
   "execution_count": 9,
   "metadata": {},
   "outputs": [
    {
     "name": "stdout",
     "output_type": "stream",
     "text": [
      "1\n"
     ]
    }
   ],
   "source": [
    "print(custom_queue.dequeue())"
   ]
  },
  {
   "cell_type": "code",
   "execution_count": 10,
   "metadata": {},
   "outputs": [
    {
     "name": "stdout",
     "output_type": "stream",
     "text": [
      "2 3\n"
     ]
    }
   ],
   "source": [
    "print(custom_queue)"
   ]
  },
  {
   "cell_type": "markdown",
   "metadata": {},
   "source": [
    "# Questions"
   ]
  },
  {
   "cell_type": "markdown",
   "metadata": {},
   "source": [
    "### Question 1 : Three in One"
   ]
  },
  {
   "cell_type": "markdown",
   "metadata": {},
   "source": [
    "Describe how you could use a single python list to implement three stacks."
   ]
  },
  {
   "cell_type": "markdown",
   "metadata": {},
   "source": []
  }
 ],
 "metadata": {
  "kernelspec": {
   "display_name": "Python 3.10.5 64-bit",
   "language": "python",
   "name": "python3"
  },
  "language_info": {
   "codemirror_mode": {
    "name": "ipython",
    "version": 3
   },
   "file_extension": ".py",
   "mimetype": "text/x-python",
   "name": "python",
   "nbconvert_exporter": "python",
   "pygments_lexer": "ipython3",
   "version": "3.10.5"
  },
  "orig_nbformat": 4,
  "vscode": {
   "interpreter": {
    "hash": "13081b603aa6a013995035d320af2c1f15789dc4224cd169330b49e0b23c4e97"
   }
  }
 },
 "nbformat": 4,
 "nbformat_minor": 2
}

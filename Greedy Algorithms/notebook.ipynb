{
 "cells": [
  {
   "cell_type": "markdown",
   "metadata": {},
   "source": [
    "# Greedy Algorithms"
   ]
  },
  {
   "cell_type": "markdown",
   "metadata": {},
   "source": [
    "It is an algorithmic paradigm that **builds the solution piece by piece**. In each step it chooses the piece that offers most obvious and immediate benefits.\n",
    "\n",
    "It fits perfectly for those solutions in which local optimal solutions leaads to global solution.\n",
    "\n",
    "* Insertion sort\n",
    "* Selection sort\n",
    "* Topological sort\n",
    "* Prim's algorithm\n",
    "* Kruskal algorithm\n",
    "\n",
    "are some greedy algorithms"
   ]
  },
  {
   "cell_type": "markdown",
   "metadata": {},
   "source": [
    "Let's see another problems that can be solved using Greedy algorithms"
   ]
  },
  {
   "cell_type": "markdown",
   "metadata": {},
   "source": [
    "## Activity selection problem\n",
    "\n",
    "Given $N$ number of activities with their startand end times. We need to select the maximum number of activities that can be performed by a single person, assuming that a person can only work on a single activity at a time."
   ]
  },
  {
   "cell_type": "markdown",
   "metadata": {},
   "source": [
    "| Activity | A1  | A2  | A3  | A4  | A5  | A6  |\n",
    "| -------- | --- | --- | --- | --- | --- | --- |\n",
    "| Start    | 0   | 3   | 1   | 5   | 5   | 8   |\n",
    "| Finish   | 6   | 4   | 2   | 8   | 7   | 9   |\n"
   ]
  },
  {
   "cell_type": "code",
   "execution_count": 2,
   "metadata": {},
   "outputs": [
    {
     "name": "stdout",
     "output_type": "stream",
     "text": [
      "A3\n",
      "A2\n",
      "A5\n",
      "A6\n"
     ]
    }
   ],
   "source": [
    "activities = [[\"A1\", 0, 6],\n",
    "              [\"A2\", 3, 4],\n",
    "              [\"A3\", 1, 2],\n",
    "              [\"A4\", 5, 8],\n",
    "              [\"A5\", 5, 7],\n",
    "              [\"A6\", 8, 9]]\n",
    "\n",
    "def print_max_activities(activites):\n",
    "    activites.sort(key=lambda x: x[2])\n",
    "    i = 0\n",
    "    first_a = activites[i][0]\n",
    "    print(first_a)\n",
    "    for j in range(len(activites)):\n",
    "        if activites[j][1] > activites[i][2]:\n",
    "            print(activites[j][0])\n",
    "            # i becomes the next activities\n",
    "            i = j\n",
    "\n",
    "\n",
    "print_max_activities(activites=activities)\n"
   ]
  },
  {
   "cell_type": "markdown",
   "metadata": {},
   "source": [
    "## Coin change problem\n",
    "\n",
    "You are given coins of different denominations and total amount of momney. Find the minimum number of coins that you need to make up the given amount."
   ]
  },
  {
   "cell_type": "markdown",
   "metadata": {},
   "source": [
    "Infinite supply : ${1, 2, 5, 10, 20, 50, 100, 1000}$\n",
    "\n",
    "Exemple 1:\n",
    "\n",
    "Total amount : $70$\\\n",
    "Answer 1: $2 \\rarr 50 + 20 = 70$\n",
    "\n",
    "Exemple 2:\n",
    "\n",
    "Total amount: $122$\\\n",
    "Answer 2: $3 \\rarr 100 + 20 + 2 = 122$"
   ]
  },
  {
   "cell_type": "markdown",
   "metadata": {},
   "source": [
    "Total amount : $2035$\n",
    "\n",
    "* The first thing to do is to take the max number of the set, here $1000$ and compare it with $2035$. In this case the max number $1000$ is less than $2035$ so we can take this max $1000$\n",
    "* We do $2035 - 1000 = 1035$\n",
    "* One more time we compare $1035$ with the max number of the set. We have the same situation so we can select $1000$ again\n",
    "* $1035 - 1000 = 35$\n",
    "* With $35$ we compare it to the max number of the set and we continue until reaching $20$\n",
    "* $35 - 20 = 15$\n",
    "* $\\dots$"
   ]
  },
  {
   "cell_type": "markdown",
   "metadata": {},
   "source": [
    "result: $1000 - 1000 - 20 - 10 - 5$\n",
    "Answer $5$ pieces"
   ]
  },
  {
   "cell_type": "markdown",
   "metadata": {},
   "source": [
    "```py\n",
    "find the biggest coin that is less than given total number\n",
    "Add coin to the result and substract coin from total number\n",
    "if V is equal to 0:\n",
    "    print the result\n",
    "else:\n",
    "    repeat step 2 and 3 \n",
    "```"
   ]
  },
  {
   "cell_type": "code",
   "execution_count": 4,
   "metadata": {},
   "outputs": [
    {
     "name": "stdout",
     "output_type": "stream",
     "text": [
      "100\n",
      "100\n",
      "1\n"
     ]
    }
   ],
   "source": [
    "# O(nlogn) time complexity | O(1) space complexity\n",
    "def coin_change(total_number, coins):\n",
    "    N = total_number\n",
    "    coins.sort()\n",
    "    index = len(coins)-1\n",
    "    while True:\n",
    "        coin_value = coins[index]\n",
    "        if N >= coin_value:\n",
    "            print(coin_value)\n",
    "            N = N - coin_value\n",
    "\n",
    "        if N < coin_value:\n",
    "            index -= 1\n",
    "\n",
    "        if N == 0:\n",
    "            break\n",
    "\n",
    "\n",
    "coins = [1, 2, 5, 20, 50, 100]\n",
    "\n",
    "coin_change(201, coins)"
   ]
  },
  {
   "cell_type": "markdown",
   "metadata": {},
   "source": [
    "## Fractional Knapsack problem \n",
    "\n",
    "Given a set of items, each with a weight and a value, determine the number of each item to include in a collection so that the total weight is less than or equal to a given limit and the total value is as large as possible."
   ]
  },
  {
   "cell_type": "markdown",
   "metadata": {},
   "source": [
    "```py\n",
    "Calculate the density or ratio for each item\n",
    "Sort items based on this ratio\n",
    "Take items with the highest ration sequentially until weight allows\n",
    "Add the next item as much (fractional) as we can\n",
    "```"
   ]
  },
  {
   "cell_type": "code",
   "execution_count": 8,
   "metadata": {},
   "outputs": [
    {
     "name": "stdout",
     "output_type": "stream",
     "text": [
      "Total value : 240.0\n"
     ]
    }
   ],
   "source": [
    "class Item:\n",
    "    def __init__(self, weight, value) -> None:\n",
    "        self.weight = weight\n",
    "        self.value = value\n",
    "        self.ratio = value / weight\n",
    "\n",
    "# O(nlogn) time complexity | O(1) space complexity\n",
    "def knapstack_method(items, capacity):\n",
    "    items.sort(key=lambda x: x.ratio, reverse = True)\n",
    "    used_capacity = 0\n",
    "    total_value = 0\n",
    "    for i in items:\n",
    "        if used_capacity + i.weight <= capacity:\n",
    "            used_capacity += i.weight\n",
    "            total_value += i.value\n",
    "        else:\n",
    "            unused_weight = capacity - used_capacity\n",
    "            value = i.ratio * unused_weight\n",
    "            used_capacity += unused_weight\n",
    "            total_value += value\n",
    "        if used_capacity == capacity:\n",
    "            break\n",
    "\n",
    "    print(\"Total value : \" + str(total_value))\n",
    "\n",
    "\n",
    "item1 = Item(20, 100)\n",
    "item2 = Item(30, 120)\n",
    "item3 = Item(10, 60)\n",
    "\n",
    "cList = [item1, item2, item3]\n",
    "\n",
    "knapstack_method(cList, 50)"
   ]
  }
 ],
 "metadata": {
  "kernelspec": {
   "display_name": "Python 3.10.5 64-bit",
   "language": "python",
   "name": "python3"
  },
  "language_info": {
   "codemirror_mode": {
    "name": "ipython",
    "version": 3
   },
   "file_extension": ".py",
   "mimetype": "text/x-python",
   "name": "python",
   "nbconvert_exporter": "python",
   "pygments_lexer": "ipython3",
   "version": "3.10.5"
  },
  "orig_nbformat": 4,
  "vscode": {
   "interpreter": {
    "hash": "13081b603aa6a013995035d320af2c1f15789dc4224cd169330b49e0b23c4e97"
   }
  }
 },
 "nbformat": 4,
 "nbformat_minor": 2
}

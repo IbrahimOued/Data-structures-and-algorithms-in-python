{
 "cells": [
  {
   "cell_type": "markdown",
   "metadata": {},
   "source": [
    "# A receipe for problem solving"
   ]
  },
  {
   "cell_type": "markdown",
   "metadata": {},
   "source": [
    "1. Understand the problem\n",
    "2. Explore examples\n",
    "3. Break it down\n",
    "4. Solve/simplify\n",
    "5. Look back and refactor"
   ]
  },
  {
   "cell_type": "markdown",
   "metadata": {},
   "source": [
    "### 1. Understand the problem"
   ]
  },
  {
   "cell_type": "markdown",
   "metadata": {},
   "source": [
    "For example, imagine you are sitting in an interview and the interviewer comes up with a problem you've never seen before. **DON'T PANIC!** Try to understand the problem, how?\n",
    "\n",
    "Ask deliberate questions, for exemple here are some questions\n",
    "\n",
    "1. Can we restate the problem in our own words?\n",
    "\n",
    "Don't just copy it but try to relormulate it into your own words and make sure you actually understand the problem\n",
    "\n",
    "2. What are the inputs that go to the problem?\n",
    "\n",
    "We need to identify the inputs of the question\n",
    "\n",
    "3. What are the outputs that come from the problem?\n",
    "\n",
    "4. Can the outputs be dermined from the inputs? In other words do we have enough information to solve this problem?\n",
    "\n",
    "5. What should I label the important piece of data that are the part of a problem?\n"
   ]
  },
  {
   "cell_type": "markdown",
   "metadata": {},
   "source": [
    "Let's go with a simple exemple"
   ]
  },
  {
   "cell_type": "markdown",
   "metadata": {},
   "source": [
    "> Write a function that takes two numbers and returns their sum\n",
    "\n",
    "1. Can we restate the problem into our own words?\n",
    "\n",
    "*Implement addition*"
   ]
  },
  {
   "cell_type": "markdown",
   "metadata": {},
   "source": [
    "2. What are the inputs that fo into the problem?\n",
    "\n",
    "*Integer? float? Or something else?*\\\n",
    "*only 2 inputs? Or multiple inputs?*"
   ]
  },
  {
   "cell_type": "markdown",
   "metadata": {},
   "source": [
    "3. What are the outputs that come from the problem?\n",
    "\n",
    "*Integer? float? Or something else?*"
   ]
  },
  {
   "cell_type": "markdown",
   "metadata": {},
   "source": [
    "4. Can the outputs be dermined from the inputs? In other words do we have enough information to solve this problem?\n",
    "\n",
    "*Yes*"
   ]
  },
  {
   "cell_type": "markdown",
   "metadata": {},
   "source": [
    "5. What should I label the important piece of data that are the part of a problem?\n",
    "\n",
    "*Add, Sum*"
   ]
  },
  {
   "cell_type": "markdown",
   "metadata": {},
   "source": [
    "### 2. Explore examples"
   ]
  },
  {
   "cell_type": "markdown",
   "metadata": {},
   "source": [
    "1. Start with **simple examples**\n",
    "2. Progress to **more complex examples**\n",
    "3. Explore examples with **empty examples**\n",
    "4. Explore the examples with **invalid inputs**"
   ]
  },
  {
   "cell_type": "markdown",
   "metadata": {},
   "source": [
    "For example\n",
    "\n",
    "> Write a function which takes in a string and returns count of each character in the string"
   ]
  },
  {
   "cell_type": "markdown",
   "metadata": {},
   "source": [
    "```py\n",
    "# step1 - simple example\n",
    "charCount(\"bbbb\")\n",
    "# {b: 4}\n",
    "charCount(\"hello\")\n",
    "# {h: 1, e: 1, l: 2, o: 1}\n",
    "\n",
    "# step2 - exemple example\n",
    "charCount(\"My name is ibra\")\n",
    "# M and m are counted as unique value or not, does space include or not\n",
    "\n",
    "# step3 - example empty\n",
    "charCount(\"\")\n",
    "# Will it return 0 or None or empty?\n",
    "\n",
    "# step3 - Invalid input\n",
    "charCount(1)\n",
    "# What will happen with this example\n",
    "```"
   ]
  },
  {
   "cell_type": "markdown",
   "metadata": {},
   "source": [
    "### 3. Break it down"
   ]
  },
  {
   "cell_type": "markdown",
   "metadata": {},
   "source": [
    "Write out the steps that you need to take:\n",
    "\n",
    "It does not have to be written line by line or the full pseudo code\n",
    "or with valid syntax\n",
    "\n",
    "Let's continue with our previous problem:\n",
    "\n",
    "```python\n",
    "charCount(\"My name is Ibra\")\n",
    "# {m:2},\n",
    "# y:1,\n",
    "# n:1:\n",
    "# a: 2\n",
    "# e: 1\n",
    "# i:2\n",
    "# b:1\n",
    "# r:1\n",
    "\n",
    "def charCount(s):\n",
    "    # declare an object to return at the end\n",
    "    # loop over the string s\n",
    "        # if the character is letter and in output obj add one to the value\n",
    "        # if the charr is letter and is not in our object add that char to obj with the value of one\n",
    "    # return the object\n",
    "```"
   ]
  },
  {
   "cell_type": "markdown",
   "metadata": {},
   "source": [
    "### 4. Solve/simplify\n",
    "\n",
    "**Solve the problem**\n",
    "\n",
    "**if you cannot**\n",
    "\n",
    "**Simplify the problem**\n",
    "* Find the core difficulty\n",
    "* Temporalily ignore that difficulty\n",
    "* Write a simplified solution\n",
    "* Then incorporate that difficulty\n"
   ]
  },
  {
   "cell_type": "markdown",
   "metadata": {},
   "source": [
    "```python\n",
    "charCount(\"My name is Ibra\")\n",
    "# {m:2},\n",
    "# y:1,\n",
    "# n:1:\n",
    "# a: 2\n",
    "# e: 1\n",
    "# i:2\n",
    "# b:1\n",
    "# r:1\n",
    "\n",
    "def charCount(s):\n",
    "    # declare an object to return at the end\n",
    "    result = {}\n",
    "    # loop over the string s\n",
    "    for i in s:\n",
    "        # if the character is letter and in output obj add one to the value\n",
    "        if i in result:\n",
    "            s[i] += 1\n",
    "        # if the charr is letter and is not in our object add that char to obj with the value of one\n",
    "        else:\n",
    "            s[i] = 1\n",
    "    # return the object\n",
    "    return result\n",
    "```"
   ]
  },
  {
   "cell_type": "code",
   "execution_count": 11,
   "metadata": {},
   "outputs": [
    {
     "name": "stdout",
     "output_type": "stream",
     "text": [
      "{'h': 1, 'e': 1, 'l': 2, 'o': 1}\n",
      "{'j': 1, 'e': 4, 'm': 2, \"'\": 1, 'a': 3, 'p': 2, 'l': 2, 'i': 2, 'b': 1, 'r': 2, 'h': 1, 'o': 3, 'u': 1, 'd': 1, 'g': 1}\n"
     ]
    }
   ],
   "source": [
    "def charCount(s):\n",
    "    # declare an object to return at the end\n",
    "    result = {}\n",
    "    # loop over the string s\n",
    "    for i in s.lower():\n",
    "        # if the character is letter and in output obj add one to the value\n",
    "        if isinstance(i, str) and not(i.isspace()):\n",
    "            if i in result:\n",
    "                result[i] += 1\n",
    "            # if the charr is letter and is not in our object add that char to obj with the value of one\n",
    "            else:\n",
    "                result[i] = 1\n",
    "    # return the object\n",
    "    return result\n",
    "\n",
    "print(charCount(\"hello\"))\n",
    "print(charCount(\"Je m'appelle Ibrahim Ouedraogo\"))"
   ]
  },
  {
   "cell_type": "markdown",
   "metadata": {},
   "source": [
    "### 5. Evaluate the time and space complexity of the solution found\n",
    "\n",
    "It is important to evaluate the time and space complexity of your solution once you are done with your implementation. If you have a brute force solution maybe it will allow you to think about a more optimal solution at the look back and refactor section."
   ]
  },
  {
   "cell_type": "markdown",
   "metadata": {},
   "source": [
    "### 6. Look back refactor"
   ]
  },
  {
   "cell_type": "markdown",
   "metadata": {},
   "source": [
    "There are some questions that are essential to ask yourself after you finished\n",
    "\n",
    "1. Can we check the result?\n",
    "2. Can we drive the result differently?\n",
    "3. Can we understand at a glance?\n",
    "4. Can we use the result or method for some other problem?\n",
    "5. Can you improve the performance of your solution?\n",
    "6. How other people solve this problem?"
   ]
  },
  {
   "cell_type": "markdown",
   "metadata": {},
   "source": [
    "### Summarize\n",
    "\n",
    "1. Understand the problem\n",
    "2. Explorre examples\n",
    "3. Break it down\n",
    "4. Solve/simplify\n",
    "5. Look back refactor"
   ]
  }
 ],
 "metadata": {
  "kernelspec": {
   "display_name": "Python 3.10.5 64-bit",
   "language": "python",
   "name": "python3"
  },
  "language_info": {
   "codemirror_mode": {
    "name": "ipython",
    "version": 3
   },
   "file_extension": ".py",
   "mimetype": "text/x-python",
   "name": "python",
   "nbconvert_exporter": "python",
   "pygments_lexer": "ipython3",
   "version": "3.10.5"
  },
  "orig_nbformat": 4,
  "vscode": {
   "interpreter": {
    "hash": "13081b603aa6a013995035d320af2c1f15789dc4224cd169330b49e0b23c4e97"
   }
  }
 },
 "nbformat": 4,
 "nbformat_minor": 2
}

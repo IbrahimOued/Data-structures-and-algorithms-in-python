{
 "cells": [
  {
   "cell_type": "markdown",
   "metadata": {},
   "source": [
    "### *Question 1 - Remove duplicates: Write a code to remove duplicates from unsorted linked list*"
   ]
  },
  {
   "cell_type": "code",
   "execution_count": 246,
   "metadata": {},
   "outputs": [],
   "source": [
    "from random import randint, random\n",
    "\n",
    "\n",
    "class Node:\n",
    "    def __init__(self, data):\n",
    "        self.data = data\n",
    "        self.next = None\n",
    "\n",
    "    \n",
    "class LinkedList:\n",
    "    def __init__(self):\n",
    "        self.head = None\n",
    "\n",
    "    def __repr__(self) -> str:\n",
    "        nodes = []\n",
    "        current = self.head\n",
    "        while current.next != None:\n",
    "            nodes.append(repr(current.data))\n",
    "            current = current.next\n",
    "        return '[' + ' -> '.join(nodes) + ']'\n",
    "    \n",
    "    def __len__(self) -> int:\n",
    "        current = self.head\n",
    "        count = 0\n",
    "        while current.next != None:\n",
    "            current = current.next\n",
    "            count += 1\n",
    "        return count\n",
    "\n",
    "    def __iter__(self):\n",
    "        current = self.head\n",
    "        while current.next != None:\n",
    "            yield current.data\n",
    "            current = current.next\n",
    "    \n",
    "    def add(self, newData):\n",
    "        new_node = Node(newData)\n",
    "        current = self.head\n",
    "        if self.head == None:\n",
    "            self.head = new_node\n",
    "        else:\n",
    "            while current.next != None:\n",
    "                current = current.next\n",
    "            current.next = new_node\n",
    "\n",
    "    def generate(self, n, min_value, max_value):\n",
    "        self.head = None\n",
    "        for i in range(n):\n",
    "            self.add(randint(min_value, max_value))\n",
    "        return self\n",
    "\n",
    "def remove_duplicate(linked_list):\n",
    "    # if the list is None return immediatly\n",
    "    if linked_list.head is None:\n",
    "        return\n",
    "    # Initialize a set to contain all the values that we'll encounter\n",
    "    seen = set()\n",
    "    # Iterate all the elements of the linked list\n",
    "    current = linked_list.head\n",
    "    # Add the head to seen\n",
    "    seen.add(current.data)\n",
    "    # For each value that we are seeing for the fist time\n",
    "    while current.next != None:\n",
    "        # Check if we've already seen it, if no\n",
    "        if current.next.data not in seen:\n",
    "            # Add it the a set and pursue\n",
    "            seen.add(current.next.data)\n",
    "            current = current.next\n",
    "        # if yes no\n",
    "        else:\n",
    "            # change its current pointer to the next node\n",
    "            current.next = current.next.next\n",
    "        \n",
    "    # return the linked list\n",
    "    return linked_list\n",
    "    \n"
   ]
  },
  {
   "cell_type": "code",
   "execution_count": 247,
   "metadata": {},
   "outputs": [
    {
     "name": "stdout",
     "output_type": "stream",
     "text": [
      "[54 -> 80 -> 63 -> 46 -> 21 -> 93 -> 8 -> 80 -> 2]\n"
     ]
    },
    {
     "data": {
      "text/plain": [
       "[54 -> 80 -> 63 -> 46 -> 21 -> 93 -> 8]"
      ]
     },
     "execution_count": 247,
     "metadata": {},
     "output_type": "execute_result"
    }
   ],
   "source": [
    "my_linked_list = LinkedList()\n",
    "my_linked_list.generate(10, 1, 99)\n",
    "print(my_linked_list)\n",
    "remove_duplicate(my_linked_list)"
   ]
  },
  {
   "cell_type": "code",
   "execution_count": 248,
   "metadata": {},
   "outputs": [],
   "source": [
    "def remove_duplicate_without_buffer(linked_list):\n",
    "    # if the list is None return immediatly\n",
    "    if linked_list.head is None:\n",
    "        return\n",
    "    \n",
    "    # Iterate all the elements of the linked list\n",
    "    current = linked_list.head\n",
    "    # For each value that we are seeing for the fist time\n",
    "    while current is not None:\n",
    "        # Create a runner looper which takes the value of current and continue its run to check\n",
    "        # with every other element\n",
    "        runner = current\n",
    "        # Add another loop to each element with other ones\n",
    "        while runner.next != None:\n",
    "            # Check if the runner that is equal to the current data\n",
    "            if runner.next.data == current.data:\n",
    "                # change its current pointer to the next node\n",
    "                runner.next = runner.next.next\n",
    "            # if not equal\n",
    "            else:\n",
    "               # pursue with the runner\n",
    "                runner = runner.next\n",
    "        current = current.next\n",
    "        \n",
    "    # return the linked list\n",
    "    return linked_list"
   ]
  },
  {
   "cell_type": "code",
   "execution_count": 249,
   "metadata": {},
   "outputs": [
    {
     "name": "stdout",
     "output_type": "stream",
     "text": [
      "[10 -> 49 -> 77 -> 74 -> 15 -> 36 -> 75 -> 23 -> 25]\n"
     ]
    },
    {
     "data": {
      "text/plain": [
       "[10 -> 49 -> 77 -> 74 -> 15 -> 36 -> 75 -> 23 -> 25]"
      ]
     },
     "execution_count": 249,
     "metadata": {},
     "output_type": "execute_result"
    }
   ],
   "source": [
    "my_linked_list = LinkedList()\n",
    "my_linked_list.generate(10, 1, 99)\n",
    "\n",
    "print(my_linked_list)\n",
    "remove_duplicate_without_buffer(my_linked_list)"
   ]
  },
  {
   "cell_type": "markdown",
   "metadata": {},
   "source": [
    "### *Question 3: Implement an algorithm to find the $n^{th}$ to last element of a singly linked list*"
   ]
  },
  {
   "cell_type": "code",
   "execution_count": 250,
   "metadata": {},
   "outputs": [
    {
     "name": "stdout",
     "output_type": "stream",
     "text": [
      "[41 -> 5 -> 15 -> 17 -> 29 -> 46 -> 30 -> 20 -> 14]\n"
     ]
    },
    {
     "data": {
      "text/plain": [
       "20"
      ]
     },
     "execution_count": 250,
     "metadata": {},
     "output_type": "execute_result"
    }
   ],
   "source": [
    "class Node2:\n",
    "    def __init__(self, data) -> None:\n",
    "        self.data = data\n",
    "        self.next = None\n",
    "\n",
    "class LinkedList2:\n",
    "    def __init__(self) -> None:\n",
    "        self.head = None\n",
    "\n",
    "    def __repr__(self) -> str:\n",
    "        nodes = []\n",
    "        current = self.head\n",
    "        while current.next is not None:\n",
    "            nodes.append(repr(current.data))\n",
    "            current = current.next\n",
    "        \n",
    "        return \"[\" + \" -> \".join(nodes) + \"]\"\n",
    "\n",
    "\n",
    "    def __len__(self):\n",
    "        current = self.head\n",
    "        count = 0\n",
    "        while current.next is not None:\n",
    "            count += 1\n",
    "            current = current.next\n",
    "        return count\n",
    "    \n",
    "    def __iter__(self):\n",
    "        current = self.head\n",
    "        while current.next is not None:\n",
    "            yield current.data\n",
    "            current = current.next\n",
    "    \n",
    "    def add(self, new_node):\n",
    "        current = self.head\n",
    "        if self.head is None:\n",
    "            self.head = new_node\n",
    "        else:\n",
    "            while current.next is not None:\n",
    "                current = current.next\n",
    "            current.next = new_node\n",
    "\n",
    "    def generate(self, n, min_value, max_value):\n",
    "        self.head = None\n",
    "        for i in range(n):\n",
    "            self.add(Node2(randint(min_value, max_value)))\n",
    "        return self\n",
    "\n",
    "def find_nth_element(linked_list, nth):\n",
    "    # create a start_rnner and end_runner\n",
    "    start_runner = linked_list.head\n",
    "    end_runner = linked_list.head\n",
    "    # put the end_runner at nth step from the start_runner\n",
    "    for i in range(nth):\n",
    "        if end_runner is None:\n",
    "            return None\n",
    "        # iterate the end at nth position\n",
    "        end_runner = end_runner.next\n",
    "    # when it reached the nth place from start_runner\n",
    "    # Move both until end_runner is none\n",
    "    while end_runner.next is not None:\n",
    "        end_runner = end_runner.next\n",
    "        start_runner = start_runner.next\n",
    "    # the nth position is at the position of start_runner\n",
    "    return start_runner.data\n",
    "\n",
    "\n",
    "\n",
    "my_linked_list_2 = LinkedList2()\n",
    "my_linked_list_2.generate(10, 1, 50)\n",
    "print(my_linked_list_2)\n",
    "\n",
    "find_nth_element(my_linked_list_2, 2)"
   ]
  },
  {
   "cell_type": "markdown",
   "metadata": {},
   "source": [
    "### *Question 3: Write code to partition a linked list around a value x, such that all nodes less than x come before all nodes greater than or equal to x*"
   ]
  },
  {
   "cell_type": "code",
   "execution_count": 256,
   "metadata": {},
   "outputs": [
    {
     "name": "stdout",
     "output_type": "stream",
     "text": [
      "[55 -> 11 -> 62 -> 43 -> 31 -> 62 -> 91 -> 88 -> 74]\n"
     ]
    },
    {
     "data": {
      "text/plain": [
       "[11 -> 43 -> 31 -> 10 -> 55 -> 62 -> 62 -> 91 -> 88]"
      ]
     },
     "execution_count": 256,
     "metadata": {},
     "output_type": "execute_result"
    }
   ],
   "source": [
    "def partition(linked_list, x):\n",
    "    if linked_list.head is None:\n",
    "        return\n",
    "    current = linked_list.head\n",
    "    # Initialized the 2 linked_list that will store elements less ans greater than x\n",
    "    less_head = None\n",
    "    less_tail = None\n",
    "    great_head = None\n",
    "    great_tail = None\n",
    "    # Loop the linked list\n",
    "    while current is not None:\n",
    "        # Check if the data in current is less than x\n",
    "        if current.data < x:\n",
    "            # start feeding the less linked list\n",
    "            if less_head is None:\n",
    "                less_head = current\n",
    "                less_tail = less_head\n",
    "            else:\n",
    "                less_tail.next = current\n",
    "                less_tail = less_tail.next\n",
    "        else:\n",
    "            # Start feed the great linked list\n",
    "\n",
    "            if great_head is None:\n",
    "                great_head = current\n",
    "                great_tail = great_head\n",
    "            else:\n",
    "                great_tail.next = current\n",
    "                great_tail = great_tail.next\n",
    "        current = current.next\n",
    "    # Now we combine the final linked list\n",
    "    if less_tail is not None:\n",
    "        less_tail.next = great_head\n",
    "    if great_tail is not None:\n",
    "        great_tail.next = None\n",
    "    linked_list.head = less_head\n",
    "    return linked_list\n",
    "        \n",
    "\n",
    "custom_list = LinkedList2()\n",
    "custom_list.generate(10, 0, 100)\n",
    "print(custom_list)\n",
    "partition(custom_list, 50)"
   ]
  },
  {
   "cell_type": "code",
   "execution_count": null,
   "metadata": {},
   "outputs": [],
   "source": []
  }
 ],
 "metadata": {
  "kernelspec": {
   "display_name": "Python 3.10.5 64-bit",
   "language": "python",
   "name": "python3"
  },
  "language_info": {
   "codemirror_mode": {
    "name": "ipython",
    "version": 3
   },
   "file_extension": ".py",
   "mimetype": "text/x-python",
   "name": "python",
   "nbconvert_exporter": "python",
   "pygments_lexer": "ipython3",
   "version": "3.10.5"
  },
  "orig_nbformat": 4,
  "vscode": {
   "interpreter": {
    "hash": "13081b603aa6a013995035d320af2c1f15789dc4224cd169330b49e0b23c4e97"
   }
  }
 },
 "nbformat": 4,
 "nbformat_minor": 2
}

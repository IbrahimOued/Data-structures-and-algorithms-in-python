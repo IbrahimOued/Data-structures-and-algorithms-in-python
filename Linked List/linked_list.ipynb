{
 "cells": [
  {
   "cell_type": "markdown",
   "metadata": {},
   "source": [
    "# Linked list"
   ]
  },
  {
   "cell_type": "markdown",
   "metadata": {},
   "source": [
    "## Linked list class"
   ]
  },
  {
   "cell_type": "code",
   "execution_count": 235,
   "metadata": {},
   "outputs": [],
   "source": [
    "from random import randint\n",
    "# Node class\n",
    "class Node:\n",
    "    def __init__(self, data):\n",
    "        self.data = data\n",
    "        self.next = None\n",
    "\n",
    "    def __repr__(self):\n",
    "        return str(self.data)\n",
    "\n",
    "# Linked list class\n",
    "class LinkedList:\n",
    "    def __init__(self):\n",
    "        self.head = None\n",
    "    \n",
    "    def __repr__(self):\n",
    "        nodes = []\n",
    "        current = self.head\n",
    "        while current:\n",
    "            nodes.append(repr(current))\n",
    "            current = current.next\n",
    "        return '[' + ' -> '.join(nodes) + ']'\n",
    "\n",
    "    def __iter__(self):\n",
    "        current = self.head\n",
    "        while current != None:\n",
    "            yield current\n",
    "            current = current.next\n",
    "\n",
    "    def __len__(self):\n",
    "        count = 0\n",
    "        current = self.head\n",
    "        while current != None:\n",
    "            count += 1\n",
    "            current = current.next\n",
    "        return count\n",
    "    \n",
    "    def add(self, new_node):\n",
    "        if self.head == None:\n",
    "            self.head = new_node\n",
    "        else:\n",
    "            current = self.head\n",
    "            while current.next != None:\n",
    "                current = current.next\n",
    "            current.next = new_node\n",
    "\n",
    "    def generate(self, n, min_value, max_value):\n",
    "        self.head = None\n",
    "        for i in range(n):\n",
    "            self.add(Node(randint(min_value, max_value)))\n",
    "        return self\n",
    "\n",
    "    "
   ]
  },
  {
   "cell_type": "code",
   "execution_count": 236,
   "metadata": {},
   "outputs": [
    {
     "name": "stdout",
     "output_type": "stream",
     "text": [
      "[45 -> 75 -> 39 -> 95 -> 9 -> 69 -> 39 -> 1 -> 86 -> 5]\n"
     ]
    }
   ],
   "source": [
    "custom_linked_list = LinkedList()\n",
    "custom_linked_list.generate(10, 0, 100)\n",
    "print(custom_linked_list)"
   ]
  },
  {
   "cell_type": "code",
   "execution_count": 237,
   "metadata": {},
   "outputs": [
    {
     "name": "stdout",
     "output_type": "stream",
     "text": [
      "45\n",
      "75\n",
      "39\n",
      "95\n",
      "9\n",
      "69\n",
      "39\n",
      "1\n",
      "86\n",
      "5\n"
     ]
    }
   ],
   "source": [
    "len(custom_linked_list)\n",
    "\n",
    "for item in custom_linked_list:\n",
    "    print(item.data)"
   ]
  },
  {
   "cell_type": "markdown",
   "metadata": {},
   "source": [
    "## Interview questions\n",
    "\n",
    "### Question 1"
   ]
  },
  {
   "cell_type": "markdown",
   "metadata": {},
   "source": [
    "### *Write code to remove duplicates from an unsorted linked list.*"
   ]
  },
  {
   "cell_type": "code",
   "execution_count": 238,
   "metadata": {},
   "outputs": [],
   "source": [
    "class Mode:\n",
    "    def __init__(self, val):\n",
    "        self.val = val\n",
    "        self.next = None\n",
    "\n",
    "class MLinkedList:\n",
    "    def __init__(self):\n",
    "        self.head = None\n",
    "\n",
    "    def add(self, new_node):\n",
    "        if(self.head == None):\n",
    "            self.head = new_node\n",
    "        else:\n",
    "            current = self.head\n",
    "            while(current != None):\n",
    "                current = current.next\n",
    "            current.next = new_node\n",
    "\n",
    "    def __iter__(self):\n",
    "        current = self.head\n",
    "        while current != None:\n",
    "            yield current\n",
    "            current = current.next\n",
    "\n",
    "def removeDuplicate(linked_list):\n",
    "    if linked_list.head is None:\n",
    "        return\n",
    "    current = linked_list.head\n",
    "    seen = {current.data}\n",
    "    while current.next is not None:\n",
    "        if current.next.data in seen:\n",
    "            current.next = current.next.next\n",
    "        else:\n",
    "            seen.add(current.next.data)\n",
    "            current = current.next\n",
    "    return linked_list"
   ]
  },
  {
   "cell_type": "code",
   "execution_count": 239,
   "metadata": {},
   "outputs": [
    {
     "data": {
      "text/plain": [
       "[27 -> 99 -> 88 -> 92 -> 47 -> 82 -> 60 -> 27 -> 100 -> 90]"
      ]
     },
     "execution_count": 239,
     "metadata": {},
     "output_type": "execute_result"
    }
   ],
   "source": [
    "custom_list = LinkedList()\n",
    "custom_list.generate(10, 0, 100)"
   ]
  },
  {
   "cell_type": "code",
   "execution_count": 240,
   "metadata": {},
   "outputs": [
    {
     "data": {
      "text/plain": [
       "[45 -> 75 -> 39 -> 95 -> 9 -> 69 -> 1 -> 86 -> 5]"
      ]
     },
     "execution_count": 240,
     "metadata": {},
     "output_type": "execute_result"
    }
   ],
   "source": [
    "removeDuplicate(custom_linked_list)"
   ]
  },
  {
   "cell_type": "code",
   "execution_count": 241,
   "metadata": {},
   "outputs": [
    {
     "name": "stdout",
     "output_type": "stream",
     "text": [
      "[27 -> 99 -> 88 -> 92 -> 47 -> 82 -> 60 -> 27 -> 100 -> 90]\n"
     ]
    },
    {
     "data": {
      "text/plain": [
       "[27 -> 99 -> 88 -> 92 -> 47 -> 82 -> 60 -> 100 -> 90]"
      ]
     },
     "execution_count": 241,
     "metadata": {},
     "output_type": "execute_result"
    }
   ],
   "source": [
    "print(custom_list)\n",
    "removeDuplicate(custom_list)"
   ]
  },
  {
   "cell_type": "markdown",
   "metadata": {},
   "source": [
    "### Another implementation without storing a temporary buffer would be"
   ]
  },
  {
   "cell_type": "code",
   "execution_count": 242,
   "metadata": {},
   "outputs": [],
   "source": [
    "def removeDuplicateWithoutBuffer(linked_list):\n",
    "    if linked_list.head is None:\n",
    "        return\n",
    "    current = linked_list.head\n",
    "    while current is not None:\n",
    "        iterator = current\n",
    "        while iterator.next is not None:\n",
    "            if iterator.next.data == current.data:\n",
    "                iterator.next == iterator.next.next\n",
    "            else:\n",
    "                iterator = iterator.next\n",
    "        current = current.next\n",
    "    return linked_list"
   ]
  },
  {
   "cell_type": "code",
   "execution_count": 243,
   "metadata": {},
   "outputs": [
    {
     "name": "stdout",
     "output_type": "stream",
     "text": [
      "[27 -> 99 -> 88 -> 92 -> 47 -> 82 -> 60 -> 100 -> 90]\n"
     ]
    },
    {
     "data": {
      "text/plain": [
       "[27 -> 99 -> 88 -> 92 -> 47 -> 82 -> 60 -> 100 -> 90]"
      ]
     },
     "execution_count": 243,
     "metadata": {},
     "output_type": "execute_result"
    }
   ],
   "source": [
    "print(custom_list)\n",
    "removeDuplicateWithoutBuffer(custom_list)"
   ]
  },
  {
   "cell_type": "markdown",
   "metadata": {},
   "source": [
    "### Question 2"
   ]
  },
  {
   "cell_type": "markdown",
   "metadata": {},
   "source": [
    "\n",
    "Implement and algorithm to find the $n^{th}$ to last element of a singly linked list."
   ]
  },
  {
   "cell_type": "code",
   "execution_count": 244,
   "metadata": {},
   "outputs": [
    {
     "name": "stdout",
     "output_type": "stream",
     "text": [
      "[74 -> 81 -> 87 -> 19 -> 72 -> 51 -> 21 -> 47 -> 63 -> 40]\n",
      "47\n"
     ]
    }
   ],
   "source": [
    "def findnthelement(linked_list, n):\n",
    "    pointer1 = linked_list.head\n",
    "    pointer2 = linked_list.head\n",
    "    for i in range(n):\n",
    "        if pointer2 is None:\n",
    "            return None\n",
    "        pointer2 = pointer2.next\n",
    "\n",
    "    while pointer2 is not None:\n",
    "        pointer1 = pointer1.next\n",
    "        pointer2 = pointer2.next\n",
    "    return pointer1\n",
    "\n",
    "custom_list = LinkedList()\n",
    "custom_list.generate(10, 0, 100)\n",
    "\n",
    "print(custom_list)\n",
    "print(findnthelement(custom_list, 3))"
   ]
  },
  {
   "cell_type": "markdown",
   "metadata": {},
   "source": [
    "### Question 3"
   ]
  },
  {
   "cell_type": "markdown",
   "metadata": {},
   "source": [
    "Write code to partition a linked list around a value x, such that all nodes less than x come before all nodes greater than or equal to x."
   ]
  },
  {
   "cell_type": "code",
   "execution_count": 245,
   "metadata": {},
   "outputs": [],
   "source": [
    "def partition(linked_list, x):\n",
    "    if linked_list.head is None:\n",
    "        return\n",
    "    current = linked_list.head\n",
    "    before_head = None\n",
    "    before_tail = None\n",
    "    after_head = None\n",
    "    after_tail = None\n",
    "    while current is not None:\n",
    "        if current.data < x:\n",
    "            if before_head is None:\n",
    "                before_head = current\n",
    "                before_tail = before_head\n",
    "            else:\n",
    "                before_tail.next = current\n",
    "                before_tail = before_tail.next\n",
    "        else:\n",
    "            if after_head is None:\n",
    "                after_head = current\n",
    "                after_tail = after_head\n",
    "            else:\n",
    "                after_tail.next = current\n",
    "                after_tail = after_tail.next\n",
    "        current = current.next\n",
    "    if before_tail is not None:\n",
    "        before_tail.next = after_head\n",
    "    if after_tail is not None:\n",
    "        after_tail.next = None\n",
    "    linked_list.head = before_head\n",
    "    return linked_list"
   ]
  },
  {
   "cell_type": "code",
   "execution_count": 246,
   "metadata": {},
   "outputs": [
    {
     "name": "stdout",
     "output_type": "stream",
     "text": [
      "[69 -> 6 -> 31 -> 0 -> 1 -> 42 -> 51 -> 45 -> 26 -> 52]\n"
     ]
    },
    {
     "data": {
      "text/plain": [
       "[6 -> 31 -> 0 -> 1 -> 42 -> 45 -> 26 -> 69 -> 51 -> 52]"
      ]
     },
     "execution_count": 246,
     "metadata": {},
     "output_type": "execute_result"
    }
   ],
   "source": [
    "custom_list = LinkedList()\n",
    "custom_list.generate(10, 0, 100)\n",
    "print(custom_list)\n",
    "partition(custom_list, 50)"
   ]
  },
  {
   "cell_type": "markdown",
   "metadata": {},
   "source": [
    "### Question 4"
   ]
  },
  {
   "cell_type": "markdown",
   "metadata": {},
   "source": [
    "You have two numbers represented by a linked list, where each node contains a single digit. The digits are stored in reverse order, such that the 1's digit is at the head of the list. Write a function that adds the two numbers and returns the sum as a linked list.\n",
    "\n",
    "$list1 = 7 \\rightarrow 1 \\rightarrow 6 = 617$\n",
    "\n",
    "$list2 = 5 \\rightarrow 9 \\rightarrow 2 = 295$\n",
    "\n",
    "$617 + 295 = 912 = 912$\n",
    "\n",
    " $sumList = 2 \\rightarrow 1 \\rightarrow 9$\n",
    "\n",
    "\n",
    " ```python\n",
    " def sumList(linked_list1, linked_list2):\n",
    "    if linked_list1.head is None or linked_list2.head is None:\n",
    "        return\n",
    "    current1 = linked_list1.head\n",
    "    current2 = linked_list2.head\n",
    "    carry = 0\n",
    "    while current1 is not None or current2 is not None:\n",
    "        value1 = current1.data if current1 is not None else 0\n",
    "        value2 = current2.data if current2 is not None else 0\n",
    "        sum = value1 + value2 + carry\n",
    "        carry = sum // 10\n",
    "        current1.data = sum % 10\n",
    "        current1 = current1.next\n",
    "        current2 = current2.next\n",
    "    if carry > 0:\n",
    "        current1.next = Node(carry)\n",
    "    return linked_list1\n",
    " ```"
   ]
  },
  {
   "cell_type": "code",
   "execution_count": 247,
   "metadata": {},
   "outputs": [],
   "source": [
    "class Node:\n",
    "    def __init__(self, data):\n",
    "        self.data = data\n",
    "        self.next = None\n",
    "\n",
    "class LinkedListSum:\n",
    "    def __init__(self):\n",
    "        self.head = None\n",
    "    \n",
    "    def __repr__(self) -> str:\n",
    "        nodes = []\n",
    "        current = self.head\n",
    "        while current is not None:\n",
    "            nodes.append(repr(current.data))\n",
    "            current = current.next\n",
    "        return '[ ' + ' -> '.join(nodes) + ']'\n",
    "\n",
    "    def __iter__(self):\n",
    "        current = self.head\n",
    "        while current is not None:\n",
    "            yield current.data\n",
    "            current = current.next\n",
    "\n",
    "    def __len__(self):\n",
    "        count = 0\n",
    "        current = self.head\n",
    "        while current is not None:\n",
    "            count += 1\n",
    "            current = current.next\n",
    "\n",
    "        return count\n",
    "\n",
    "    def add(self, new_data):\n",
    "        new_node = Node(new_data)\n",
    "        if self.head is None:\n",
    "            self.head = new_node\n",
    "        else:\n",
    "            current = self.head\n",
    "            while current.next is not None:\n",
    "                current = current.next\n",
    "            current.next = new_node\n",
    "\n",
    "    def generate(self, n, min, max):\n",
    "        self.head = None\n",
    "        for i in range(n):\n",
    "            self.add(randint(min, max))\n",
    "        return self.head\n",
    "\n",
    "def sum_list(llist1, llist2):\n",
    "    l1 = llist1.head\n",
    "    l2 = llist2.head\n",
    "    llist3 = LinkedListSum()\n",
    "    carry = 0\n",
    "    while l1 is not None or l2 is not None:\n",
    "        value1 = l1.data\n",
    "        value2 = l2.data\n",
    "        sum = value1 + value2 + carry\n",
    "        carry = sum // 10\n",
    "        llist3.add(sum % 10)\n",
    "        l1 = l1.next\n",
    "        l2 = l2.next\n",
    "    return llist3\n",
    "\n",
    "    \n"
   ]
  },
  {
   "cell_type": "code",
   "execution_count": 248,
   "metadata": {},
   "outputs": [
    {
     "name": "stdout",
     "output_type": "stream",
     "text": [
      "[ 1 -> 0 -> 8]\n",
      "[ 6 -> 6 -> 1]\n",
      "[ 7 -> 6 -> 9]\n"
     ]
    }
   ],
   "source": [
    "custom_list1 = LinkedListSum()\n",
    "custom_list1.generate(3, 0, 9)\n",
    "custom_list2 = LinkedListSum()\n",
    "custom_list2.generate(3, 0, 9)\n",
    "print(custom_list1)\n",
    "print(custom_list2)\n",
    "print(sum_list(custom_list1, custom_list2))"
   ]
  },
  {
   "cell_type": "code",
   "execution_count": 249,
   "metadata": {},
   "outputs": [
    {
     "data": {
      "text/plain": [
       "869"
      ]
     },
     "execution_count": 249,
     "metadata": {},
     "output_type": "execute_result"
    }
   ],
   "source": [
    "422 + 447"
   ]
  },
  {
   "cell_type": "markdown",
   "metadata": {},
   "source": [
    "### Question 5"
   ]
  },
  {
   "cell_type": "markdown",
   "metadata": {},
   "source": [
    "### *Given two (singly) linked lists, determine if the two lists intersect. Return the intersecting node. Note that the intersection is defined based on reference, not value. That is, if the kth node of the first linked list is the exact same node (by reference) as the jth node of the second linked list, then they are intersecting.*"
   ]
  },
  {
   "cell_type": "code",
   "execution_count": 252,
   "metadata": {},
   "outputs": [
    {
     "name": "stdout",
     "output_type": "stream",
     "text": [
      "8 -> 1 -> 0 -> 8 -> 24\n",
      "0 -> 6 -> 2 -> 10 -> 2 -> 7 -> 8 -> 24\n"
     ]
    },
    {
     "data": {
      "text/plain": [
       "8"
      ]
     },
     "execution_count": 252,
     "metadata": {},
     "output_type": "execute_result"
    }
   ],
   "source": [
    "class NodeInter:\n",
    "    def __init__(self, data: int):\n",
    "        self.data = data\n",
    "        self.next = None\n",
    "        self.previous = Node\n",
    "\n",
    "class LinkedListInter:\n",
    "    def __init__(self):\n",
    "        self.head = None\n",
    "        self.tail = None\n",
    "\n",
    "    def __str__(self) -> str:\n",
    "        return str(self.data)\n",
    "    \n",
    "    def __repr__(self) -> str:\n",
    "        nodes = []\n",
    "        current = self.head\n",
    "        while current is not None:\n",
    "            nodes.append(repr(current.data))\n",
    "            current = current.next\n",
    "        return '[ ' + ' -> '.join(nodes) + ']'\n",
    "\n",
    "    def __str__(self) -> str:\n",
    "        nodes = [str(x) for x in self]\n",
    "        return ' -> '.join(nodes)\n",
    "\n",
    "    def __iter__(self):\n",
    "        current = self.head\n",
    "        while current is not None:\n",
    "            yield current.data\n",
    "            current = current.next\n",
    "\n",
    "    def __len__(self):\n",
    "        count = 0\n",
    "        current = self.head\n",
    "        while current is not None:\n",
    "            count += 1\n",
    "            current = current.next\n",
    "\n",
    "        return count\n",
    "\n",
    "    def add(self, new_data: int):\n",
    "        new_node: Node = NodeInter(new_data)\n",
    "        if self.head is None:\n",
    "            self.head = new_node\n",
    "            self.tail = new_node\n",
    "        else:\n",
    "            self.tail.next = new_node\n",
    "            self.tail = self.tail.next\n",
    "        return self.tail\n",
    "\n",
    "    def generate(self, n, min, max):\n",
    "        self.head = None\n",
    "        for i in range(n):\n",
    "            self.add(randint(min, max))\n",
    "        return self.head\n",
    "\n",
    "\n",
    "def intersection(llist1: LinkedListInter, llist2: LinkedListInter):\n",
    "    # First we check to see if they have the same tail\n",
    "    # if not they are not intersection\n",
    "    if llist1.tail is not llist2.tail:\n",
    "        return\n",
    "    \n",
    "    # Check the length of both linked list\n",
    "    shorter = llist1 if len(llist1) < len(llist2) else llist2\n",
    "    longer = llist2 if len(llist1) > len(llist2) else llist1\n",
    "\n",
    "    diff = len(longer) - len(shorter)\n",
    "    # We need to find the first Node of these longer and shorter linked list\n",
    "    longer_node = longer.head\n",
    "    shorter_node = shorter.head\n",
    "\n",
    "    # We put the longer linked list to the same level as the shortest\n",
    "    for i in range(diff):\n",
    "        shorter_node = shorter_node.next\n",
    "    while shorter is not longer:\n",
    "        shorter_node = shorter_node.next\n",
    "        longer_node = longer_node.next\n",
    "    return longer_node.data\n",
    "\n",
    "# Helper function to create intersection nodes\n",
    "def add_same_node(lla: LinkedListInter, llb: LinkedListInter, value: int):\n",
    "    temp_node = Node(value)\n",
    "    lla.tail.next = temp_node\n",
    "    lla.tail = temp_node\n",
    "    llb.tail.next = temp_node\n",
    "    llb.tail = temp_node\n",
    "\n",
    "lla = LinkedListInter()\n",
    "lla.generate(3, 0, 10)\n",
    "\n",
    "llb = LinkedListInter()\n",
    "llb.generate(6, 0, 10)\n",
    "\n",
    "add_same_node(lla, llb, 8)\n",
    "add_same_node(lla, llb, 24)\n",
    "\n",
    "print(lla)\n",
    "print(llb)\n",
    "\n",
    "intersection(lla, llb)"
   ]
  },
  {
   "cell_type": "code",
   "execution_count": null,
   "metadata": {},
   "outputs": [],
   "source": []
  }
 ],
 "metadata": {
  "kernelspec": {
   "display_name": "Python 3.10.5 64-bit",
   "language": "python",
   "name": "python3"
  },
  "language_info": {
   "codemirror_mode": {
    "name": "ipython",
    "version": 3
   },
   "file_extension": ".py",
   "mimetype": "text/x-python",
   "name": "python",
   "nbconvert_exporter": "python",
   "pygments_lexer": "ipython3",
   "version": "3.10.5"
  },
  "orig_nbformat": 4,
  "vscode": {
   "interpreter": {
    "hash": "13081b603aa6a013995035d320af2c1f15789dc4224cd169330b49e0b23c4e97"
   }
  }
 },
 "nbformat": 4,
 "nbformat_minor": 2
}

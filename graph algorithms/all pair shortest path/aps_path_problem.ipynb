{
 "cells": [
  {
   "cell_type": "markdown",
   "metadata": {},
   "source": [
    "# All Pair Shortest Path Problem"
   ]
  },
  {
   "cell_type": "markdown",
   "metadata": {},
   "source": [
    "All pair shortest path problem is about finding a path between **every vertex** to all other vertices in a graph such that the total distance between them (source and destination) is **minimum**."
   ]
  },
  {
   "cell_type": "markdown",
   "metadata": {},
   "source": [
    "### Floyw Warshall\n",
    "\n",
    "The floyd warshall starts by create a matrix representing all pairs and the distance of the vertices.\n",
    "\n",
    "| Given |    A     |    B     |    C     |    D     |\n",
    "| :---: | :------: | :------: | :------: | :------: |\n",
    "|   A   |    0     |    8     | $\\infty$ |    1     |\n",
    "|   B   | $\\infty$ |    0     |    1     | $\\infty$ |\n",
    "|   C   |    4     | $\\infty$ |    0     | $\\infty$ |\n",
    "|   D   | $\\infty$ |    2     |    9     |    0     |\n",
    "\n",
    "The $\\infty$ indicates that right now we don't know if there is a path beetween the 2 nodes or not\n",
    "\n",
    "```python\n",
    "if d[u][v] > d[u][via_x] + d[via_x][v]:\n",
    "    d[u][v] = d[u][via_x] + d[via_x][v]\n",
    "```\n",
    "* ***d*** indicates the distance\n",
    "* ***u*** is thte source vertex and\n",
    "* ***v*** is the destination vertex\n",
    "* ***via_x*** is also the destination vertex, for exemple if we need to are going to ***A*** from ***D*** while passing through ***C***. In this case ***via_x*** is ***C***"
   ]
  },
  {
   "cell_type": "markdown",
   "metadata": {},
   "source": [
    "**C** $\\rarr$ **B** (The distance is infinity as there is no direct path from **C** to **B**)\n",
    "\n",
    "```py\n",
    "if d[C][B] > d[C][A] + d[A][B]:\n",
    "    d[C][B] = d[C][A] + d[A][B]\n",
    "```\n",
    "$\\infty > 4 + 8 = 12$ We will update **CB** via **A** to $12$\n",
    "\n",
    "$\\dots$"
   ]
  },
  {
   "cell_type": "code",
   "execution_count": 3,
   "metadata": {},
   "outputs": [
    {
     "name": "stdout",
     "output_type": "stream",
     "text": [
      "0 3 4 1  \n",
      "5 0 1 6  \n",
      "4 7 0 5  \n",
      "7 2 3 1  \n"
     ]
    },
    {
     "ename": "",
     "evalue": "",
     "output_type": "error",
     "traceback": [
      "Le Kernel s’est bloqué lors de l’exécution du code dans la cellule active ou une cellule précédente. Veuillez vérifier le code dans la ou les cellules pour identifier une cause possible de l’échec. Cliquez <a href='https://aka.ms/vscodeJupyterKernelCrash'>ici</a> pour plus d’informations. Pour plus d’informations, consultez Jupyter <a href='command:jupyter.viewOutput'>log</a>."
     ]
    }
   ],
   "source": [
    "INF = 9999\n",
    "\n",
    "# Printing the solution\n",
    "def print_solution(n_v, distance):\n",
    "    for i in range(n_v):\n",
    "        for j in range(n_v):\n",
    "            if(distance[i][j] == INF):\n",
    "                print(\"INF\", end = \" \")\n",
    "\n",
    "            else:\n",
    "                print(distance[i][j], end = \" \")\n",
    "        print(\" \")\n",
    "\n",
    "# O(V^3) time complexity | O(V^2) space complexity because we will store a 2 dimentional data in a matrix\n",
    "def floyd_warshall(n_v, G):\n",
    "    distance = G\n",
    "    for k in range(n_v):\n",
    "        for i in range(n_v):\n",
    "            for j in range(n_v):\n",
    "                distance[i][j] = min(distance[i][j], distance[i][k] + distance[k][j])\n",
    "\n",
    "    print_solution(n_v, distance)\n",
    "\n",
    "\n",
    "G = [[0, 8, INF, 1],\n",
    "     [INF, 0, 1, INF],\n",
    "     [4, INF, 0, INF],\n",
    "     [INF, 2, 9, 1]]\n",
    "\n",
    "floyd_warshall(4, G)"
   ]
  },
  {
   "cell_type": "markdown",
   "metadata": {},
   "source": [
    "|            Graph Type            |   BFS    | Dijkstra | Bellman Ford | Floyd Warshall |\n",
    "| :------------------------------: | :------: | :------: | :----------: | :------------: |\n",
    "|     Unweighted - Undirected      |    OK    |    OK    |      OK      |       OK       |\n",
    "|      Unweighted - Directed       |    OK    |    OK    |      OK      |       OK       |\n",
    "| Positive - Weighted - Undirected | $\\times$ |    OK    |      OK      |       OK       |\n",
    "|  Positive - Weighted - Directed  | $\\times$ |    OK    |      OK      |       OK       |\n",
    "| Negative - Weighted - Undirected | $\\times$ |    OK    |      OK      |       OK       |\n",
    "|  Negative - Weighted - Directed  | $\\times$ |    OK    |      OK      |       OK       |\n",
    "|          Negative cycle          | $\\times$ | $\\times$ |      OK      |    $\\times$    |\n"
   ]
  },
  {
   "cell_type": "markdown",
   "metadata": {},
   "source": [
    "|    Graph Type    |                                             BFS                                             |                   Dijkstra                    |                           Bellman Ford                            |                                Floyd Warshall                                 |\n",
    "| :--------------: | :-----------------------------------------------------------------------------------------: | :-------------------------------------------: | :---------------------------------------------------------------: | :---------------------------------------------------------------------------: |\n",
    "| Time complexity  |                                          $O(V^3)$                                           |                   $O(V^3)$                    |                             $O(EV^2)$                             |                                   $O(V^3)$                                    |\n",
    "| Space complexity |                                           $O(EV)$                                           |                    $O(EV)$                    |                             $O(V^2)$                              |                                   $O(V^2)$                                    |\n",
    "|  Implementation  |                                            Easy                                             |                   Moderate                    |                             Moderate                              |                                   Moderate                                    |\n",
    "|    Limitation    |                               Doesn't work for weighted graph                               |        Doesn't work for negative cycle        |                                N/A                                |                        Doesn't work for negative cycle                        |\n",
    "| Unweighted graph | <t style=\"background : green\">use this as time complexity is good and easy to implement</t> |     Don't use as priority queue slows it      |                 Don't use as time complexity is bad                 |                 <t style=\"background : green\">Can be used</t>                 |\n",
    "|  Weighted graph  |                                        Not supported                                        | <t style=\"background : green\">Can be used</t> |               Don't use as time complexity is bad                | <t style=\"background : green\">Can be prefered as implementation is easier</t> |\n",
    "|  Negative cycle  |                                        Not supperted                                        |                 Not supported                 | <t style=\"background : green\">use this as others don't support/t> |                                 Not supported                                 |\n"
   ]
  },
  {
   "cell_type": "markdown",
   "metadata": {},
   "source": []
  },
  {
   "cell_type": "markdown",
   "metadata": {},
   "source": []
  }
 ],
 "metadata": {
  "kernelspec": {
   "display_name": "Python 3.10.5 64-bit",
   "language": "python",
   "name": "python3"
  },
  "language_info": {
   "codemirror_mode": {
    "name": "ipython",
    "version": 3
   },
   "file_extension": ".py",
   "mimetype": "text/x-python",
   "name": "python",
   "nbconvert_exporter": "python",
   "pygments_lexer": "ipython3",
   "version": "3.10.5"
  },
  "orig_nbformat": 4,
  "vscode": {
   "interpreter": {
    "hash": "13081b603aa6a013995035d320af2c1f15789dc4224cd169330b49e0b23c4e97"
   }
  }
 },
 "nbformat": 4,
 "nbformat_minor": 2
}

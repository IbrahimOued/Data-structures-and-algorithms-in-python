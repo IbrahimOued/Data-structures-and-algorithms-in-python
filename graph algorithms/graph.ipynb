{
 "cells": [
  {
   "cell_type": "markdown",
   "metadata": {},
   "source": [
    "# Graph"
   ]
  },
  {
   "cell_type": "markdown",
   "metadata": {},
   "source": [
    "## What is a graph?"
   ]
  },
  {
   "cell_type": "markdown",
   "metadata": {},
   "source": [
    "Graph consists of a finite set of *Vertice (or nodes)* and a set of *Edges* which connect a pair of nodes."
   ]
  },
  {
   "cell_type": "markdown",
   "metadata": {},
   "source": [
    "## Graph terminology\n",
    "\n",
    "* ***Vertices (vertex)***: Vertices are the nodes of the graph\n",
    "* ***Edge***: The edge is the connection between two vertices\n",
    "* ***Unweighted graph***: A graph which has a weight associated with any edge\n",
    "* ***Weighted graph***: A graph which has a weight associated with each edge\n",
    "* ***Undirected graph***: In case the edges in a graph do not have a direction associated with them\n",
    "* ***Directed graph***: In the edges in a graph have a direction associated with them\n",
    "* ***Cyclic graph***: A graph which has at least one loop\n",
    "* ***Acyclic graph***: A graph with no loop\n",
    "* **Tree** : It is a special case of directed acyclic graphs"
   ]
  },
  {
   "cell_type": "markdown",
   "metadata": {},
   "source": [
    "## Graph types"
   ]
  },
  {
   "cell_type": "markdown",
   "metadata": {},
   "source": [
    "* Graph:\n",
    "  * Directed:\n",
    "    * Weighted:\n",
    "      * Positive\n",
    "      * Negative\n",
    "    * Unweighted:\n",
    "  * Undirected:\n",
    "    * Weighted:\n",
    "      * Positive\n",
    "      * Negative\n",
    "    * Unweighted:"
   ]
  },
  {
   "cell_type": "markdown",
   "metadata": {},
   "source": [
    "If we look at these types closely we can see that we have 6 types of graphs"
   ]
  },
  {
   "cell_type": "markdown",
   "metadata": {},
   "source": [
    "1. **Unweighted - Undirected** : All edges are unweighted and there is no specific direction for the edges\n",
    "2. **Unweighted - Directed** : All edges are unweighted and there is a specific direction for the edges\n",
    "3. **Positive weighted - Undirected** : All edges have positive weights and there is no specific direction for the edges"
   ]
  },
  {
   "cell_type": "markdown",
   "metadata": {},
   "source": [
    "4. **Positive weighted - Directed** : All edges have positive weights and there is a specific direction for the edges\n",
    "5. **Negative weighted - Undirected** : All edges have negative weights(*at least one negative to make it negative*) and there is no specific direction for the edges\n",
    "6. **Negative weighted - Directed** : All edges have negative weights and there is a specific direction for the edges"
   ]
  },
  {
   "cell_type": "markdown",
   "metadata": {},
   "source": [
    "## Graph representation"
   ]
  },
  {
   "cell_type": "markdown",
   "metadata": {},
   "source": [
    "### Adjacency matrix\n",
    "An adjacency matrix is a square matrix or can say it is a 2D array. And the elements of the matrix indicate whether pairs of vertices are adjacent or not in the graph."
   ]
  },
  {
   "cell_type": "markdown",
   "metadata": {},
   "source": [
    "|     |  A  |  B  |  C  |  D  |  E  |\n",
    "| :-: | :-: | :-: | :-: | :-: | :-: |\n",
    "|  A  |  0  |  1  |  1  |  1  |  0  |\n",
    "|  B  |  1  |  0  |  0  |  0  |  1  |\n",
    "|  C  |  1  |  0  |  0  |  1  |  0  |\n",
    "|  D  |  1  |  0  |  1  |  0  |  1  |\n",
    "|  E  |  0  |  1  |  0  |  1  |  0  |\n"
   ]
  },
  {
   "cell_type": "markdown",
   "metadata": {},
   "source": [
    "### Adjacent list\n",
    "\n",
    "An adjacent list **is a collection of unordored list** used to represent a graph. **Each list describes the set of neighbors of a vertex** in the graph."
   ]
  },
  {
   "cell_type": "markdown",
   "metadata": {},
   "source": [
    "A $\\rarr$ B $\\rarr$ C $\\rarr$ D\n",
    "\n",
    "B $\\rarr$ A $\\rarr$ E\n",
    "\n",
    "C $\\rarr$ A $\\rarr$ D\n",
    "\n",
    "D $\\rarr$ A $\\rarr$ C $\\rarr$ E\n",
    "\n",
    "E $\\rarr$ B $\\rarr$ D\n",
    "\n",
    "Here the point to keep in mind is that **we are storing the vertices in array and the edges in the linked list**. In the first case we **used the array itself** to store the edges\n",
    "\n",
    "* If the graph **is complete graph or almost complete graph** then  $\\rarr$ we should use **Adjacent matrix**\n",
    "* On the other hand if the number of **edges are few** then $\\rarr$ we should use **Adjacent list**"
   ]
  },
  {
   "cell_type": "markdown",
   "metadata": {},
   "source": [
    "### Graph in Python"
   ]
  },
  {
   "cell_type": "markdown",
   "metadata": {},
   "source": [
    "#### Dictionnary implementation\n",
    "```py\n",
    "graph = {\n",
    "    'A': ['B', 'C'],\n",
    "    'B': ['A', 'D', 'E'],\n",
    "    'C': ['A', 'E'],\n",
    "    'D': ['B', 'E', 'F'],\n",
    "    'E': ['C', 'D', 'F'],\n",
    "    'F': ['D', 'E']\n",
    "}\n",
    "```\n"
   ]
  },
  {
   "cell_type": "code",
   "execution_count": 1,
   "metadata": {},
   "outputs": [
    {
     "name": "stdout",
     "output_type": "stream",
     "text": [
      "{'A': ['B', 'C'], 'B': ['A', 'D', 'E'], 'C': ['A', 'E'], 'D': ['B', 'E', 'F'], 'E': ['D', 'F'], 'F': ['D', 'E']}\n"
     ]
    }
   ],
   "source": [
    "class Graph:\n",
    "    def __init__(self, graph_dict=None):\n",
    "        if graph_dict is None:\n",
    "            graph_dict = {}\n",
    "        self.graph_dict = graph_dict\n",
    "\n",
    "    def add_edge(self, vertex, edge):\n",
    "        if vertex not in self.graph_dict:\n",
    "            self.graph_dict[vertex] = []\n",
    "        self.graph_dict[vertex].append(edge)\n",
    "\n",
    "\n",
    "cust_dict = {\n",
    "    'A': ['B', 'C'],\n",
    "    'B': ['A', 'D', 'E'],\n",
    "    'C': ['A', 'E'],\n",
    "    'D': ['B', 'E', 'F'],\n",
    "    'E': ['D', 'F'],\n",
    "    'F': ['D', 'E']\n",
    "}\n",
    "\n",
    "graph = Graph(cust_dict)\n",
    "print(graph.graph_dict)"
   ]
  },
  {
   "cell_type": "code",
   "execution_count": 2,
   "metadata": {},
   "outputs": [
    {
     "name": "stdout",
     "output_type": "stream",
     "text": [
      "{'A': ['B', 'C'], 'B': ['A', 'D', 'E'], 'C': ['A', 'E'], 'D': ['B', 'E', 'F'], 'E': ['D', 'F', 'C'], 'F': ['D', 'E']}\n"
     ]
    }
   ],
   "source": [
    "graph.add_edge('E', 'C')\n",
    "print(graph.graph_dict)"
   ]
  },
  {
   "cell_type": "markdown",
   "metadata": {},
   "source": [
    "### Graph traversal\n",
    "\n",
    "It is a process of visiting all vertices in a given graph.\n",
    "Graph can be traverse in two ways:\n",
    "* **Breadth first search**\n",
    "* **Depth first search**\n"
   ]
  },
  {
   "cell_type": "markdown",
   "metadata": {},
   "source": [
    "#### BFS: Breadth first search\n",
    "\n",
    "BFS is an algorithm for traversing graph data structure. It **starts** at **some arbitrary node of a graph and explores the neighbor nodes** (which are at current level) **first**, before moving to the next level neighbors.\n",
    "\n",
    "Unlike **trees** in graph **we can face cycles so we need to take it into account** when implementing our Level order traversal method.\n",
    "\n",
    "Let's see how the algorithm looks like:\n",
    "\n",
    "```bash\n",
    "enqueue any starting vertex\n",
    "while queue is not empty\n",
    "    p = dequeue()\n",
    "    if p is unvisited\n",
    "        mark it visited\n",
    "        enqueue all adjacent unvisited vertices of p\n",
    "```"
   ]
  },
  {
   "cell_type": "markdown",
   "metadata": {},
   "source": [
    "In practice the python method regarding the algorithm will look like:"
   ]
  },
  {
   "cell_type": "code",
   "execution_count": 3,
   "metadata": {},
   "outputs": [
    {
     "name": "stdout",
     "output_type": "stream",
     "text": [
      "A\n",
      "B\n",
      "C\n",
      "D\n",
      "E\n",
      "F\n"
     ]
    }
   ],
   "source": [
    "class Graph:\n",
    "    def __init__(self, graph_dict=None):\n",
    "        if graph_dict is None:\n",
    "            graph_dict = {}\n",
    "        self.grap_dict = graph_dict\n",
    "\n",
    "    def add_edge(self, vertex, edge):\n",
    "        self.grap_dict[vertex].append(edge)\n",
    "\n",
    "    # O(V + E) time complexity | O(V + E) space complexity because of enqueue or deque process\n",
    "    def bfs(self, vertex):\n",
    "        visited = [vertex]\n",
    "        queue = [vertex]\n",
    "        while queue:                            # O(V) v -> nb of vertices\n",
    "            de_vertex = queue.pop(0)\n",
    "            print(de_vertex)\n",
    "            for adjacent_vertex in self.grap_dict[de_vertex]:   # O(E) E -> nb of edges\n",
    "                if adjacent_vertex not in visited:\n",
    "                    visited.append(adjacent_vertex)\n",
    "                    queue.append(adjacent_vertex)\n",
    "\n",
    "graph = Graph(cust_dict)\n",
    "graph.bfs(\"A\")"
   ]
  },
  {
   "cell_type": "markdown",
   "metadata": {},
   "source": [
    "#### DFS: Depth First Search\n",
    "\n",
    "DFS is an algorithm for traversing a graph data structure which starts selecting some arbotrary node and explores as far as possible along each edge before backtracking."
   ]
  },
  {
   "cell_type": "markdown",
   "metadata": {},
   "source": [
    "Let's see how the algorithm looks like:\n",
    "\n",
    "```bash\n",
    "push any starting vertex\n",
    "while stack is not empty\n",
    "    p = pop()\n",
    "    if p is unvisited\n",
    "        mark is visited\n",
    "        push all adjacent\n",
    "        unvisited vertices of p\n",
    "```"
   ]
  },
  {
   "cell_type": "code",
   "execution_count": 4,
   "metadata": {},
   "outputs": [
    {
     "name": "stdout",
     "output_type": "stream",
     "text": [
      "=============BFS============\n",
      "A\n",
      "B\n",
      "C\n",
      "D\n",
      "E\n",
      "F\n",
      "=============DFS============\n",
      "A\n",
      "C\n",
      "E\n",
      "F\n",
      "D\n",
      "B\n"
     ]
    }
   ],
   "source": [
    "class Graph:\n",
    "    def __init__(self, graph_dict=None):\n",
    "        if graph_dict is None:\n",
    "            graph_dict = {}\n",
    "        self.graph_dict = graph_dict\n",
    "\n",
    "    def add_edge(self, vertex, edge):\n",
    "        self.graph_dict[vertex].append(edge)\n",
    "\n",
    "    # O(V + E) time complexity | O(V + E) space complexity because of enqueue or deque process\n",
    "    def bfs(self, vertex):\n",
    "        visited = [vertex]\n",
    "        queue = [vertex]\n",
    "        while queue:                            # O(V) v -> nb of vertices\n",
    "            de_vertex = queue.pop(0)\n",
    "            print(de_vertex)\n",
    "            for adjacent_vertex in self.graph_dict[de_vertex]:   # O(E) E -> nb of edges\n",
    "                if adjacent_vertex not in visited:\n",
    "                    visited.append(adjacent_vertex)\n",
    "                    queue.append(adjacent_vertex)\n",
    "\n",
    "\n",
    "    # O(V + E) time complexity | O(V + E) space complexity because of the insertions of vertices and edges process\n",
    "    def dfs(self, vertex):\n",
    "        visited = [vertex]\n",
    "        stack = [vertex]\n",
    "        while stack:\n",
    "            pop_vertex = stack.pop()\n",
    "            print(pop_vertex)\n",
    "            for adjacent_vertex in self.graph_dict[pop_vertex]:\n",
    "                if adjacent_vertex not in visited:\n",
    "                    visited.append(adjacent_vertex)\n",
    "                    stack.append(adjacent_vertex)\n",
    "\n",
    "graph = Graph(cust_dict)\n",
    "print(\"=============BFS============\")\n",
    "graph.bfs(\"A\")\n",
    "print(\"=============DFS============\")\n",
    "graph.dfs(\"A\")"
   ]
  },
  {
   "cell_type": "markdown",
   "metadata": {},
   "source": [
    "|                                             |                              BFS                              |                                DPS                                |\n",
    "| :-----------------------------------------: | :-----------------------------------------------------------: | :---------------------------------------------------------------: |\n",
    "|         How does it work internally         |                    It goes in breath first                    |                      it goes in depth first                       |\n",
    "| Which data strucutre does it use internally |                             Queue                             |                               Stack                               |\n",
    "|               Time complexity               |                       $\\Omicron(V + E)$                       |                         $\\Omicron(V + E)$                         |\n",
    "|              Space complexity               |                       $\\Omicron(V + E)$                       |                         $\\Omicron(V + E)$                         |\n",
    "|                 When to use                 | If we know that the target **is close to the starting point** | If we already know that the **target vertex is buried very deep** |\n"
   ]
  }
 ],
 "metadata": {
  "kernelspec": {
   "display_name": "Python 3.10.5 64-bit",
   "language": "python",
   "name": "python3"
  },
  "language_info": {
   "codemirror_mode": {
    "name": "ipython",
    "version": 3
   },
   "file_extension": ".py",
   "mimetype": "text/x-python",
   "name": "python",
   "nbconvert_exporter": "python",
   "pygments_lexer": "ipython3",
   "version": "3.10.5"
  },
  "orig_nbformat": 4,
  "vscode": {
   "interpreter": {
    "hash": "13081b603aa6a013995035d320af2c1f15789dc4224cd169330b49e0b23c4e97"
   }
  }
 },
 "nbformat": 4,
 "nbformat_minor": 2
}

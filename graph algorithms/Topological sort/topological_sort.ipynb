{
 "cells": [
  {
   "cell_type": "markdown",
   "metadata": {},
   "source": [
    "# Topological Sort"
   ]
  },
  {
   "cell_type": "markdown",
   "metadata": {},
   "source": [
    "**Topological sort**: Sorts given actions in such a way that if there is a dependency of one action on another, then the dependant actions always comes later than its parent action."
   ]
  },
  {
   "cell_type": "markdown",
   "metadata": {},
   "source": [
    "        Exercise     Buy breakfase fruits\n",
    "            |             |\n",
    "            |             |\n",
    "           Bath   Prepare breakfast\n",
    "            |       /     |\n",
    "            |      /      |\n",
    "        Breakfase      Wash dishes\n",
    "            |\n",
    "            |\n",
    "          Work"
   ]
  },
  {
   "cell_type": "markdown",
   "metadata": {},
   "source": [
    "## Topological sort algorithm\n",
    "\n",
    "```bash\n",
    "if a vertex depends on currentVertex:\n",
    "    Go to that vertex and then come back to currentVertex\n",
    "else\n",
    "    push currentVertex to stack\n",
    "```"
   ]
  },
  {
   "cell_type": "markdown",
   "metadata": {},
   "source": [
    "Let's create our topological sort method"
   ]
  },
  {
   "cell_type": "code",
   "execution_count": 5,
   "metadata": {},
   "outputs": [
    {
     "name": "stdout",
     "output_type": "stream",
     "text": [
      "['B', 'D', 'A', 'C', 'E', 'F', 'G', 'H']\n"
     ]
    }
   ],
   "source": [
    "from collections import defaultdict\n",
    "\n",
    "class Graph:\n",
    "    def __init__(self, number_of_vertices):\n",
    "        self.graph = defaultdict(list)\n",
    "        self.number_of_vertices = number_of_vertices\n",
    "\n",
    "    def add_edge(self, vertex, edge):\n",
    "        self.graph[vertex].append(edge)\n",
    "\n",
    "    # O(E) time complexity\n",
    "    def topological_sort_util(self, v, visited, stack):\n",
    "        visited.append(v)\n",
    "        for i in self.graph[v]: # O(E) cause we're visiting all E edges\n",
    "            if i not in visited:\n",
    "                self.topological_sort_util(i, visited, stack)\n",
    "        stack.insert(0, v)\n",
    "\n",
    "    # O(E+V) time complexity | O(E+V) space complexity cause we're storing 2 lists vertices and edges\n",
    "    def topological_sort(self):\n",
    "        visited = []\n",
    "        stack = []\n",
    "        for k in list(self.graph): # O(E+V) cause we're visiting all V vertices and calling the O(E) of topological_sort_util method \n",
    "            if k not in visited:\n",
    "                self.topological_sort_util(k, visited, stack)\n",
    "        print(stack)\n",
    "\n",
    "custom_graph = Graph(8)\n",
    "custom_graph.add_edge(\"A\", \"C\")\n",
    "custom_graph.add_edge(\"C\", \"E\")\n",
    "custom_graph.add_edge(\"E\", \"H\")\n",
    "custom_graph.add_edge(\"E\", \"F\")\n",
    "custom_graph.add_edge(\"F\", \"G\")\n",
    "custom_graph.add_edge(\"B\", \"D\")\n",
    "custom_graph.add_edge(\"B\", \"C\")\n",
    "custom_graph.add_edge(\"D\", \"F\")\n",
    "\n",
    "custom_graph.topological_sort()"
   ]
  },
  {
   "cell_type": "code",
   "execution_count": null,
   "metadata": {},
   "outputs": [],
   "source": []
  }
 ],
 "metadata": {
  "kernelspec": {
   "display_name": "Python 3.10.5 64-bit",
   "language": "python",
   "name": "python3"
  },
  "language_info": {
   "codemirror_mode": {
    "name": "ipython",
    "version": 3
   },
   "file_extension": ".py",
   "mimetype": "text/x-python",
   "name": "python",
   "nbconvert_exporter": "python",
   "pygments_lexer": "ipython3",
   "version": "3.10.5"
  },
  "orig_nbformat": 4,
  "vscode": {
   "interpreter": {
    "hash": "13081b603aa6a013995035d320af2c1f15789dc4224cd169330b49e0b23c4e97"
   }
  }
 },
 "nbformat": 4,
 "nbformat_minor": 2
}

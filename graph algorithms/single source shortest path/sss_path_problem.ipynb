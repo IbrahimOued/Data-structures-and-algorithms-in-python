{
 "cells": [
  {
   "cell_type": "markdown",
   "metadata": {},
   "source": [
    "# Single Source Shortest Path Problem"
   ]
  },
  {
   "cell_type": "markdown",
   "metadata": {},
   "source": [
    "A single source problem is about finding a path between a given vertex **(called source)** to all other vertices in a graph such that the total distance between them **(source and destination)** is minimum.\n",
    "\n",
    "The problem:\n",
    "* $5$ offices in differents cities\n",
    "* Travel costs between these cities are known\n",
    "* Find the cheapest way from head office to branches in different cities"
   ]
  },
  {
   "cell_type": "markdown",
   "metadata": {},
   "source": [
    "We have $3$ options to solve this problem\n",
    "* BFS\n",
    "* Dijkstra's algorithm\n",
    "* Bellman Ford"
   ]
  },
  {
   "cell_type": "markdown",
   "metadata": {},
   "source": [
    "### BFS for SSSP\n",
    "\n",
    "We know that the algorithm of BFS is the following one:\n",
    "\n",
    "```bash\n",
    "enqueue any starting vertex\n",
    "while queue is not empty\n",
    "    p = dequeue()\n",
    "    if p is unvisited\n",
    "        mark it visited\n",
    "        enqueue all adjacent unvisited vertices of p\n",
    "```\n",
    "\n",
    "We have one additional step to keep track of the parent node. So the complete algorithm to be used for SSSP will be\n",
    "\n",
    "```bash\n",
    "enqueue any starting vertex\n",
    "while queue is not empty\n",
    "    p = dequeue()\n",
    "    if p is unvisited\n",
    "        mark it visited\n",
    "        enqueue all adjacent unvisited vertices of p\n",
    "        update parent of adjacent vertices to currVertex\n",
    "```"
   ]
  },
  {
   "cell_type": "markdown",
   "metadata": {},
   "source": [
    "Let's create the BFS method for SSSP"
   ]
  },
  {
   "cell_type": "code",
   "execution_count": 1,
   "metadata": {},
   "outputs": [
    {
     "name": "stdout",
     "output_type": "stream",
     "text": [
      "['A', 'B', 'D', 'F']\n"
     ]
    }
   ],
   "source": [
    "class Graph:\n",
    "    def __init__(self, graph_dict=None):\n",
    "        if graph_dict is None:\n",
    "            graph_dict = {}\n",
    "        self.graph_dict = graph_dict\n",
    "\n",
    "    # O(E) time complexity | O(E) time complexity\n",
    "    # O(E) because in the case of SSSP we only visit\n",
    "    # connected vertices so isolated vertices won't be visit\n",
    "    def bfs(self, start, end):\n",
    "        queue = []\n",
    "        queue.append([start])\n",
    "        while queue:\n",
    "            path = queue.pop(0)\n",
    "            node = path[-1]\n",
    "            if node == end:\n",
    "                return path\n",
    "            for adjacent in self.graph_dict.get(node, []):\n",
    "                new_path = list(path)\n",
    "                new_path.append(adjacent)\n",
    "                queue.append(new_path)\n",
    "\n",
    "\n",
    "cust_dict = {\n",
    "    'A': ['B', 'C'],\n",
    "    'B': ['D', 'G'],\n",
    "    'C': ['D', 'E'],\n",
    "    'D': ['F'],\n",
    "    'E': ['F'],\n",
    "    'G': ['E']\n",
    "}\n",
    "\n",
    "graph = Graph(cust_dict)\n",
    "print(graph.bfs('A', 'F'))"
   ]
  },
  {
   "cell_type": "markdown",
   "metadata": {},
   "source": [
    "BFS works only for unweighted graphs."
   ]
  },
  {
   "cell_type": "markdown",
   "metadata": {},
   "source": [
    "### Why does DFS not work for SSSP?"
   ]
  },
  {
   "cell_type": "markdown",
   "metadata": {},
   "source": [
    "DFS has the tendency to go ***\"as far as possible\"*** from the source, hence it can never find ***\"shortest path\"***"
   ]
  },
  {
   "cell_type": "markdown",
   "metadata": {},
   "source": [
    "### Dijkstra's algorithm for SSSP"
   ]
  },
  {
   "cell_type": "markdown",
   "metadata": {},
   "source": [
    "The first thing we need to do is to create our graph class, but this time it will be a weighted graphh class"
   ]
  },
  {
   "cell_type": "code",
   "execution_count": 2,
   "metadata": {},
   "outputs": [],
   "source": [
    "from collections import defaultdict\n",
    "\n",
    "# The graph class and the main funtions needed for Dijkstra's algorithm\n",
    "class Graph:\n",
    "    def __init__(self):\n",
    "        self.nodes = set()\n",
    "        self.edges = defaultdict(list)\n",
    "        self.distances = {}\n",
    "\n",
    "    def add_node(self, value):\n",
    "        self.nodes.add(value)\n",
    "\n",
    "\n",
    "    def add_edge(self, from_node, to_node, distance):\n",
    "        self.edges[from_node].append(to_node)\n",
    "        self.distances[(from_node, to_node)] = distance\n",
    "\n",
    "\n",
    "# O(V^2) time complexity (2 nested loops) | O(E) space complexity cause we're storing edges\n",
    "def dijkstra(graph, initial):\n",
    "    visited = {initial : 0}\n",
    "    path = defaultdict(list)\n",
    "\n",
    "    nodes = set(graph.nodes)\n",
    "\n",
    "    while nodes:\n",
    "        min_node = None\n",
    "        for node in nodes:\n",
    "            if node in visited:\n",
    "                if min_node is None:\n",
    "                    min_node = node\n",
    "\n",
    "        if min_node is None:\n",
    "            break\n",
    "\n",
    "        nodes.remove(min_node)\n",
    "        current_weight = visited[min_node]\n",
    "\n",
    "        for edge in graph.edges[min_node]:\n",
    "            weight = current_weight + graph.distances[(min_node, edge)]\n",
    "            if edge not in visited or weight < visited[edge]:\n",
    "                visited[edge] = weight\n",
    "                path[edge].append(min_node)\n",
    "\n",
    "    return visited, path"
   ]
  },
  {
   "cell_type": "code",
   "execution_count": 3,
   "metadata": {},
   "outputs": [
    {
     "name": "stdout",
     "output_type": "stream",
     "text": [
      "({'A': 0, 'B': 2, 'C': 5, 'D': 3, 'E': 5, 'F': 13, 'G': 14}, defaultdict(<class 'list'>, {'B': ['A'], 'C': ['A'], 'D': ['B'], 'E': ['B'], 'F': ['C'], 'G': ['F', 'E']}))\n"
     ]
    }
   ],
   "source": [
    "custum_graph = Graph()\n",
    "custum_graph.add_node(\"A\")\n",
    "custum_graph.add_node(\"B\")\n",
    "custum_graph.add_node(\"C\")\n",
    "custum_graph.add_node(\"D\")\n",
    "custum_graph.add_node(\"E\")\n",
    "custum_graph.add_node(\"F\")\n",
    "custum_graph.add_node(\"G\")\n",
    "\n",
    "custum_graph.add_edge(\"A\", \"B\", 2)\n",
    "custum_graph.add_edge(\"A\", \"C\", 5)\n",
    "custum_graph.add_edge(\"B\", \"C\", 6)\n",
    "custum_graph.add_edge(\"B\", \"D\", 1)\n",
    "custum_graph.add_edge(\"B\", \"E\", 3)\n",
    "custum_graph.add_edge(\"C\", \"F\", 8)\n",
    "custum_graph.add_edge(\"D\", \"E\", 4)\n",
    "custum_graph.add_edge(\"E\", \"G\", 9)\n",
    "custum_graph.add_edge(\"F\", \"G\", 7)\n",
    "\n",
    "print(dijkstra(custum_graph, \"A\"))"
   ]
  },
  {
   "cell_type": "markdown",
   "metadata": {},
   "source": [
    "### Bellman Ford Algorithm ofr SSSP"
   ]
  },
  {
   "cell_type": "markdown",
   "metadata": {},
   "source": [
    "Here is a summary of the efficiency of the different graph algorithms"
   ]
  },
  {
   "cell_type": "markdown",
   "metadata": {},
   "source": [
    "|            Graph Type            |   BFS    | Dijkstra | Bellman Ford |\n",
    "| :------------------------------: | :------: | :------: | :----------: |\n",
    "|     Unweighted - Undirected      |    OK    |    OK    |      OK      |\n",
    "|      Unweighted - Directed       |    OK    |    OK    |      OK      |\n",
    "| Positive - Weighted - Undirected | $\\times$ |    OK    |      OK      |\n",
    "|  Positive - Weighted - Directed  | $\\times$ |    OK    |      OK      |\n",
    "| Negative - Weighted - Undirected | $\\times$ |    OK    |      OK      |\n",
    "|  Negative - Weighted - Directed  | $\\times$ |    OK    |      OK      |\n",
    "|          Negative cycle          | $\\times$ | $\\times$ |      OK      |\n"
   ]
  },
  {
   "cell_type": "markdown",
   "metadata": {},
   "source": [
    "Bellman Ford algorithm is used to find SSSP problem, if there is a negative cycle it catches it and report its existence.\n",
    "\n",
    "It works basically the same way as Dijkstra's one but with small differences"
   ]
  },
  {
   "cell_type": "markdown",
   "metadata": {},
   "source": [
    "```bash\n",
    "if the distance of destination vertex > (distance of source vertex + weight between source and destination):\n",
    "    Update distance of destination vertex to (distance of source vertex + weight between source and destination vertex)\n",
    "```"
   ]
  },
  {
   "cell_type": "code",
   "execution_count": 7,
   "metadata": {},
   "outputs": [],
   "source": [
    "class Graph:\n",
    "    def __init__(self, vertices):\n",
    "        self.vertice = vertices\n",
    "        self.graph = []\n",
    "        self.nodes = []\n",
    "\n",
    "\n",
    "    def add_edge(self, source, destination, weight):\n",
    "        self.graph.append([source, destination, weight])\n",
    "\n",
    "    def add_node(self, value):\n",
    "        self.nodes.append(value)\n",
    "\n",
    "    def print_solution(self, distance):\n",
    "        print(\"Vertex distance from source\")\n",
    "        for key, value in distance.items():\n",
    "            print(' ' + key, ' : ', value)\n",
    "    \n",
    "    # O(EV) time complexity | O(V) space complexity cause we create a dictionnary for distances\n",
    "    def bellman_ford(self, source):\n",
    "        distance = {i : float(\"Inf\") for i in self.nodes} # O(V) time complexity\n",
    "        distance[source] = 0\n",
    "\n",
    "        for _ in range(self.vertice-1): # O(V) time complexity\n",
    "            for source, destination, weight in self.graph: # O(E) time complexity\n",
    "                if distance[source] != float(\"Inf\") and distance[source] + weight < distance[destination]:\n",
    "                    distance[destination] = distance[source] + weight\n",
    "\n",
    "        for source, destination, weight in self.graph: # O(E) time complexity\n",
    "            if distance[source] != float(\"Inf\") and distance[source] + weight < distance[destination]:\n",
    "                print(\"Graph contains negative cycle\")\n",
    "                return\n",
    "\n",
    "        self.print_solution(distance)"
   ]
  },
  {
   "cell_type": "code",
   "execution_count": 8,
   "metadata": {},
   "outputs": [
    {
     "name": "stdout",
     "output_type": "stream",
     "text": [
      "Vertex distance from source\n",
      " A  :  6\n",
      " B  :  3\n",
      " C  :  4\n",
      " D  :  2\n",
      " E  :  0\n"
     ]
    }
   ],
   "source": [
    "custum_graph = Graph(5)\n",
    "custum_graph.add_node(\"A\")\n",
    "custum_graph.add_node(\"B\")\n",
    "custum_graph.add_node(\"C\")\n",
    "custum_graph.add_node(\"D\")\n",
    "custum_graph.add_node(\"E\")\n",
    "\n",
    "custum_graph.add_edge(\"A\", \"C\", 6)\n",
    "custum_graph.add_edge(\"A\", \"D\", 6)\n",
    "custum_graph.add_edge(\"B\", \"A\", 3)\n",
    "custum_graph.add_edge(\"C\", \"D\", 1)\n",
    "custum_graph.add_edge(\"D\", \"C\", 2)\n",
    "custum_graph.add_edge(\"D\", \"B\", 1)\n",
    "custum_graph.add_edge(\"E\", \"B\", 4)\n",
    "custum_graph.add_edge(\"E\", \"D\", 2)\n",
    "\n",
    "custum_graph.bellman_ford(\"E\")"
   ]
  },
  {
   "cell_type": "markdown",
   "metadata": {},
   "source": [
    "It takes :\n",
    "\n",
    "* 6 unites form E to A\n",
    "* 3 units from E to B\n",
    "* $\\dots$"
   ]
  },
  {
   "cell_type": "markdown",
   "metadata": {},
   "source": [
    "### Conclustion\n",
    "\n",
    "|    Graph Type    |                                             BFS                                             |                                        Dijkstra                                        |                           Bellman Ford                            |\n",
    "| :--------------: | :-----------------------------------------------------------------------------------------: | :------------------------------------------------------------------------------------: | :---------------------------------------------------------------: |\n",
    "| Time complexity  |                                          $O(V^2)$                                           |                                        $O(V^2)$                                        |                              $O(VE)$                              |\n",
    "| Space complexity |                                           $O(E)$                                            |                                         $O(V)$                                         |                              $O(V)$                               |\n",
    "|  Implementation  |                                            Easy                                             |                                        Moderate                                        |                             Moderate                              |\n",
    "|    Limitation    |                               Doesn't work for weighted graph                               |                            Doesn't work for negative cycle                             |                                N/A                                |\n",
    "| Unweighted graph | <t style=\"background : green\">use this as time complexity is good and easy to implement</t> |                          Don't use as implementation not easy                          |                 Not use as time complexity is bad                 |\n",
    "|  Weighted graph  |                                        Not supported                                        | <t style=\"background : green\">use this as time complexity is better than Bellman's</t> |               Dont't use as time complexity is bad                |\n",
    "|  Negative cycle  |                                        Not supperted                                        |                                     Not supported                                      | <t style=\"background : green\">use this as others don't support/t> |\n"
   ]
  },
  {
   "cell_type": "markdown",
   "metadata": {},
   "source": []
  }
 ],
 "metadata": {
  "kernelspec": {
   "display_name": "Python 3.10.5 64-bit",
   "language": "python",
   "name": "python3"
  },
  "language_info": {
   "codemirror_mode": {
    "name": "ipython",
    "version": 3
   },
   "file_extension": ".py",
   "mimetype": "text/x-python",
   "name": "python",
   "nbconvert_exporter": "python",
   "pygments_lexer": "ipython3",
   "version": "3.10.5"
  },
  "orig_nbformat": 4,
  "vscode": {
   "interpreter": {
    "hash": "13081b603aa6a013995035d320af2c1f15789dc4224cd169330b49e0b23c4e97"
   }
  }
 },
 "nbformat": 4,
 "nbformat_minor": 2
}

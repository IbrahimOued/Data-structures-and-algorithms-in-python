{
 "cells": [
  {
   "cell_type": "markdown",
   "metadata": {},
   "source": [
    "# Minimum spanning tree"
   ]
  },
  {
   "cell_type": "markdown",
   "metadata": {},
   "source": [
    "A minimum spanning tree (MST) is a subset of the edges of connected, weighted and undirected graph which:\n",
    "\n",
    "* Connectes all vertices together\n",
    "* No cycle\n",
    "* Minimum total edge"
   ]
  },
  {
   "cell_type": "markdown",
   "metadata": {},
   "source": [
    "<u>NB:</u> Différence avec SSSP\n",
    "\n",
    "* Minimum spanning tree finds the cheapest way to connect all vertices\n",
    "* Single source shortest takes a source vertex and find the cheapest way from this source vertex\n",
    "\n",
    "> We need to be careful about these 2 concepts"
   ]
  },
  {
   "cell_type": "markdown",
   "metadata": {},
   "source": [
    "## Disjoint Set\n",
    "\n",
    "We are seeing this because we will use disjoint set in the algorithm of Minimum spanning tree."
   ]
  },
  {
   "cell_type": "markdown",
   "metadata": {},
   "source": [
    "It is a data structure that keeps track of set of elements which are partitioned into a number of disjoint and non overlapping sets and each sets have representative which helps in identifying that sets."
   ]
  },
  {
   "cell_type": "markdown",
   "metadata": {},
   "source": [
    "### MakeSet(N)\n",
    "\n",
    "Used to create initial set\n",
    "\n",
    "```py\n",
    "A   B   C   D   E\n",
    "```"
   ]
  },
  {
   "cell_type": "markdown",
   "metadata": {},
   "source": [
    "### Union(x, y)\n",
    "\n",
    "Merge two given sets"
   ]
  },
  {
   "cell_type": "markdown",
   "metadata": {},
   "source": [
    "e.g: union(A, B)\n",
    "\n",
    "```python\n",
    "AB  C   D   E\n",
    "```\n",
    "\n",
    "e.g: union(A, E)\n",
    "\n",
    "\n",
    "```python\n",
    "ABE  C   D\n",
    "```"
   ]
  },
  {
   "cell_type": "markdown",
   "metadata": {},
   "source": [
    "### findSet(x)\n",
    "\n",
    "Returns the set name in which the element is there\n",
    "\n",
    "e.g: findSet(B) $\\rarr$ AB\n",
    "\n",
    "findSet(E) $\\rarr$ ABE"
   ]
  },
  {
   "cell_type": "markdown",
   "metadata": {},
   "source": [
    "Let's create Disjoint Set in python"
   ]
  },
  {
   "cell_type": "code",
   "execution_count": 4,
   "metadata": {},
   "outputs": [
    {
     "name": "stdout",
     "output_type": "stream",
     "text": [
      "A\n",
      "A\n"
     ]
    }
   ],
   "source": [
    "class DisjointClass:\n",
    "    def __init__(self, vertices):\n",
    "        self.vertices = vertices\n",
    "        self.parent = {}\n",
    "        for v in vertices:\n",
    "            self.parent[v] = v\n",
    "        self.rank = dict.fromkeys(vertices, 0)\n",
    "\n",
    "    def find(self, item):\n",
    "        if self.parent[item] == item:\n",
    "            return item\n",
    "        else:\n",
    "            return self.find(self.parent[item])\n",
    "\n",
    "    def union(self, x, y):\n",
    "        x_root = self.find(x)\n",
    "        y_root = self.find(y)\n",
    "\n",
    "        if self.rank[x_root] < self.rank[y_root]:\n",
    "            self.parent[x_root] = y_root\n",
    "        elif self.rank[x_root] > self.rank[y_root]:\n",
    "            self.parent[y_root] = x_root\n",
    "        else:\n",
    "            self.parent[y_root] = x_root\n",
    "            self.rank[x_root] += 1\n",
    "\n",
    "vertices = [\"A\", \"B\", \"C\", \"D\", \"E\"]\n",
    "\n",
    "ds = DisjointClass(vertices=vertices)\n",
    "ds.find(\"A\")\n",
    "\n",
    "ds.union(\"A\", \"B\")\n",
    "ds.union(\"A\", \"C\")\n",
    "print(ds.find(\"A\"))\n",
    "print(ds.find(\"B\"))"
   ]
  },
  {
   "cell_type": "markdown",
   "metadata": {},
   "source": [
    "## Kruskal's algorithm\n",
    "\n",
    "Kruskal algorithm is a greedy algorithm (we'll see it later). A greedy algorithm tries to pick the best solution at each step.\n",
    "\n",
    "It finds a **minimum spanning tree** for **weighted undirected graphs** in two ways:\n",
    "* Add increasing cost edges at each step\n",
    "* Avoid any cycle at each step"
   ]
  },
  {
   "cell_type": "markdown",
   "metadata": {},
   "source": [
    "The pseudo-code is like this \n",
    "\n",
    "```python\n",
    "kruskal(G):\n",
    "for each vertex:\n",
    "    makeSet(v) # ===> O(V)\n",
    "sort each edge in non decreasing order by weight       # ===> O(eloge) \n",
    "for each edge (u, v):  # ===> O(e)\n",
    "    if findSet(u) != findSet(v):  # ===> O(1)       |\n",
    "        union(u,v)              # ===> O(v)         |   O(ev)\n",
    "    cost = cost + edge(u, v)  # ===> O(1)           |\n",
    "```\n",
    "\n",
    "Time complexity: $\\Omicron(V + ElogE + EV) = \\Omicron(ElogE)$\n",
    "Space complexity: $\\Omicron(V+E)$"
   ]
  },
  {
   "cell_type": "markdown",
   "metadata": {},
   "source": [
    "Let's implement Kruskal implement in python"
   ]
  },
  {
   "cell_type": "code",
   "execution_count": 10,
   "metadata": {},
   "outputs": [
    {
     "name": "stdout",
     "output_type": "stream",
     "text": [
      "A - B - 5\n",
      "C - D - 6\n",
      "B - D - 8\n",
      "A - E - 15\n"
     ]
    }
   ],
   "source": [
    "class Graph:\n",
    "    def __init__(self, vertices) -> None:\n",
    "        self.vertices = vertices\n",
    "        self.graph = []\n",
    "        self.nodes = []\n",
    "        self.mst = []\n",
    "\n",
    "    def add_edge(self, s, d, w):\n",
    "        self.graph.append([s, d, w])\n",
    "    \n",
    "    def add_node(self, value):\n",
    "        self.nodes.append(value)\n",
    "\n",
    "    def print_solution(self, s, d, w):\n",
    "        for s, d, w in self.mst:\n",
    "            print(\"%s - %s - %s\" % (s, d, w))\n",
    "\n",
    "    def kruskal(self):\n",
    "        i, e = 0, 0\n",
    "        ds = DisjointClass(self.nodes)\n",
    "        self.graph = sorted(self.graph, key=lambda item: item[2])\n",
    "        while e < self.vertices - 1:\n",
    "            s, d, w = self.graph[i]\n",
    "            i += 1\n",
    "            x = ds.find(s)\n",
    "            y = ds.find(d)\n",
    "            if x != y:\n",
    "                e += 1\n",
    "                self.mst.append([s, d, w])\n",
    "                ds.union(x, y)\n",
    "        self.print_solution(s, d, w)\n",
    "\n",
    "\n",
    "g = Graph(5)\n",
    "g.add_node(\"A\")\n",
    "g.add_node(\"B\")\n",
    "g.add_node(\"C\")\n",
    "g.add_node(\"D\")\n",
    "g.add_node(\"E\")\n",
    "\n",
    "g.add_edge(\"A\", \"B\", 5)\n",
    "g.add_edge(\"A\", \"C\", 13)\n",
    "g.add_edge(\"A\", \"E\", 15)\n",
    "g.add_edge(\"B\", \"A\", 5)\n",
    "g.add_edge(\"B\", \"C\", 10)\n",
    "g.add_edge(\"B\", \"D\", 8)\n",
    "g.add_edge(\"C\", \"A\", 13)\n",
    "g.add_edge(\"C\", \"B\", 10)\n",
    "g.add_edge(\"C\", \"E\", 20)\n",
    "g.add_edge(\"C\", \"D\", 6)\n",
    "g.add_edge(\"D\", \"B\", 8)\n",
    "g.add_edge(\"D\", \"C\", 6)\n",
    "g.add_edge(\"E\", \"A\", 15)\n",
    "g.add_edge(\"E\", \"C\", 20)\n",
    "\n",
    "g.kruskal()"
   ]
  },
  {
   "cell_type": "markdown",
   "metadata": {},
   "source": [
    "## Prim's algorithm\n",
    "\n",
    "Also a greedy algorithm. It finds the minimum spanning tree for weighted undirected graphs in following ways:\n",
    "\n",
    "1. Take any vertex as a source set its weight to $0$ and all other vertices weight to infinity\n",
    "2. For every adjacent vertices if the current weight is more than current edge then we set it to current edge\n",
    "3. Then we mark current vertex as visited\n",
    "4. Repeat these steps for all vertices in increasing order of weight"
   ]
  },
  {
   "cell_type": "code",
   "execution_count": 12,
   "metadata": {},
   "outputs": [
    {
     "name": "stdout",
     "output_type": "stream",
     "text": [
      "Edge : Weight\n",
      "A - B - 10\n",
      "B - D - 5\n",
      "D - E - 8\n",
      "E - C - 6\n"
     ]
    }
   ],
   "source": [
    "import sys\n",
    "class Graph:\n",
    "    def __init__(self, vertex_num, edges, nodes):\n",
    "        self.vertex_num = vertex_num\n",
    "        self.edges = edges\n",
    "        self.nodes = nodes\n",
    "        self.mst = []\n",
    "\n",
    "    def print_solution(self):\n",
    "        print(\"Edge : Weight\")\n",
    "        for s, d, w in self.mst:\n",
    "            print(\"%s - %s - %s\" % (s, d, w))\n",
    "\n",
    "    # Time complexity O(V^3) | Space complexity is O(V)\n",
    "    def prim(self):\n",
    "        visited = [0]*self.vertex_num\n",
    "        edge_num = 0\n",
    "        visited[0] = True\n",
    "        while edge_num < self.vertex_num - 1:\n",
    "            min = sys.maxsize\n",
    "            for i in range(self.vertex_num):\n",
    "                if visited[i]:\n",
    "                    for j in range(self.vertex_num):\n",
    "                        if((not visited[j] and self.edges[i][j])):\n",
    "                            if min > self.edges[i][j]:\n",
    "                                min = self.edges[i][j]\n",
    "                                s = i\n",
    "                                d = j\n",
    "\n",
    "            self.mst.append([self.nodes[s], self.nodes[d], self.edges[s][d]])\n",
    "            visited[d] = True\n",
    "            edge_num += 1\n",
    "        self.print_solution()\n",
    "\n",
    "\n",
    "edges = [[0, 10, 20, 0, 0],\n",
    "         [10, 0, 30, 5, 0],\n",
    "         [20, 30, 0, 15, 6],\n",
    "         [0, 5, 15, 0, 8],\n",
    "         [0, 0, 6, 8, 0]]\n",
    "\n",
    "nodes = [\"A\", \"B\", \"C\", \"D\", \"E\"]\n",
    "\n",
    "g = Graph(5, edges=edges, nodes=nodes)\n",
    "g.prim()\n"
   ]
  },
  {
   "cell_type": "markdown",
   "metadata": {},
   "source": [
    "### Comparison of Kruskal and Prim\n",
    "\n",
    "#### Kruskal\n",
    "\n",
    "* Concentrates on edges\n",
    "* Finalize edge in each iteration\n",
    "\n",
    "\n",
    "#### Prim\n",
    "\n",
    "* Concentrate on vertices\n",
    "* Finalize vertex in each iteration"
   ]
  },
  {
   "cell_type": "markdown",
   "metadata": {},
   "source": [
    "### Applications\n",
    "\n",
    "#### Krruskal applications\n",
    "\n",
    "* Landing cables\n",
    "* TV network\n",
    "* Tour operations\n",
    "* LAN networks\n",
    "* A network of pipes for drinking water or natural gas\n",
    "* An electric grid\n",
    "* Single link cluster\n",
    "\n",
    "\n",
    "#### Prim applications\n",
    "* Network for roads and rail tracks connecting all the cities\n",
    "* Irrigation channels and placing microware towers\n",
    "* Desinging a fiber optic grid or ICs\n",
    "* Traveling Salesman Problem\n",
    "* Cluster analysis\n",
    "* Pathfinding algorithms used in AI"
   ]
  }
 ],
 "metadata": {
  "kernelspec": {
   "display_name": "Python 3.10.5 64-bit",
   "language": "python",
   "name": "python3"
  },
  "language_info": {
   "codemirror_mode": {
    "name": "ipython",
    "version": 3
   },
   "file_extension": ".py",
   "mimetype": "text/x-python",
   "name": "python",
   "nbconvert_exporter": "python",
   "pygments_lexer": "ipython3",
   "version": "3.10.5"
  },
  "orig_nbformat": 4,
  "vscode": {
   "interpreter": {
    "hash": "13081b603aa6a013995035d320af2c1f15789dc4224cd169330b49e0b23c4e97"
   }
  }
 },
 "nbformat": 4,
 "nbformat_minor": 2
}

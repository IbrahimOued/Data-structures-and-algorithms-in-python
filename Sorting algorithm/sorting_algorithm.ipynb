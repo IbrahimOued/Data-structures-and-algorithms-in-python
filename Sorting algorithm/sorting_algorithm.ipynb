{
 "cells": [
  {
   "cell_type": "markdown",
   "metadata": {},
   "source": [
    "# Sorting algorithm"
   ]
  },
  {
   "cell_type": "markdown",
   "metadata": {},
   "source": [
    "## What is sorting?\n",
    "\n",
    "By definition sorting refers to arranging data in a particular formal: either ascending or descending."
   ]
  },
  {
   "cell_type": "markdown",
   "metadata": {},
   "source": [
    "## Types of sorting\n",
    "\n",
    "Sorting algorithms can be divided in 2 categories depending on the **space being used** or **stability of algorithm**\n",
    "\n",
    "* Sorting:\n",
    "  * Space used\n",
    "    * In pace\n",
    "    * Out of pace\n",
    "  * Stability\n",
    "    * Stable\n",
    "    * Unstable"
   ]
  },
  {
   "cell_type": "markdown",
   "metadata": {},
   "source": [
    "### Space used"
   ]
  },
  {
   "cell_type": "markdown",
   "metadata": {},
   "source": [
    "#### In place sorting\n",
    "\n",
    "Sorting algorithms which **does not require any extra space for sorting**\n",
    "\n",
    "Example: *Bubble sort*\n",
    "\n",
    "\n",
    "#### Out place sorting\n",
    "\n",
    "Sorting algorithms which requires an extra space for sorting\n",
    "\n",
    "Example: *Merge sort*"
   ]
  },
  {
   "cell_type": "markdown",
   "metadata": {},
   "source": [
    "### Stability"
   ]
  },
  {
   "cell_type": "markdown",
   "metadata": {},
   "source": [
    "### Stable sorting\n",
    "\n",
    "If a sorting algorithm **after sorting the contents does not change the sequence of similar content in which they apprear**, then this sorting is called stable sorting.\n",
    "\n",
    "Example: *Insertion sort*\n",
    "\n",
    "### Unstable sorting\n",
    "\n",
    "If a sorting algorithm **after sorting the content changes the sequence of similar content in which they apprear**, then it is called unstable sorting.\n",
    "\n",
    "Example: *Quick sort*"
   ]
  },
  {
   "cell_type": "markdown",
   "metadata": {},
   "source": [
    "## Sorting terminology\n",
    "\n",
    "* **Increasing order**: \n",
    "  * If successive element **is greater than** the previous one\n",
    "  * Example: *1, 3, 5, 7, 9, 11*\n",
    "* **Decreasing order**: \n",
    "  * If successive element **is less than** the previous one\n",
    "  * Example: *11, 9, 7, 5, 3, 1*\n",
    "* **Non increasing order**:\n",
    "  * If successinve element **is less than or equal to** its previous element in the sequence.\n",
    "  * Example: *11, 9, 7, 5, 5, 3, 1*\n",
    "* **Non decreasing order**:\n",
    "  * If successive element **is greater than or equal to** its previous element in the sequence.\n",
    "  * Example: *1, 3, 5, 7, 7, 9, 11*\n",
    "\n",
    "We just need to remember that when we see ***non*** keyword it means that we have duplicate value in our sequence. "
   ]
  },
  {
   "cell_type": "markdown",
   "metadata": {},
   "source": [
    "\n",
    "## Sorting algorithms"
   ]
  },
  {
   "cell_type": "markdown",
   "metadata": {},
   "source": [
    "Bubbly sort\n",
    "Selection sort\n",
    "Insertion sort\n",
    "Bucket sort\n",
    "Merge sort\n",
    "Quick sort\n",
    "Heap sort\n",
    "\n",
    "We need so many sorting algorithms because each one has its pros and cons. Based on the circumstances we will use different sorting algorithms. Before selecting any sorting algorithms we will analyze the requirements and based on the requirements we can identify wich one fits our case perfectly. Some example of requirements can be:\n",
    "\n",
    "* Stability\n",
    "* Space efficient\n",
    "* TIme efficient"
   ]
  },
  {
   "cell_type": "markdown",
   "metadata": {},
   "source": [
    "## Bubble sort"
   ]
  },
  {
   "cell_type": "markdown",
   "metadata": {},
   "source": [
    "* Bubble sort is also referred as sinking sort.\n",
    "* We repeatedly compare each pair of adjacent items and swap them if they are in the wrong order."
   ]
  },
  {
   "cell_type": "code",
   "execution_count": 1,
   "metadata": {},
   "outputs": [
    {
     "name": "stdout",
     "output_type": "stream",
     "text": [
      "[0, 1, 1, 2, 6, 8, 13, 15, 31, 32, 35, 42, 51, 55, 68, 112]\n"
     ]
    }
   ],
   "source": [
    "# O(n2) time | O(1) space\n",
    "def bubble_sort(arr):\n",
    "    for i in range(len(arr)):\n",
    "        for j in range(len(arr)-1-i):\n",
    "            if arr[j] > arr[j+1]:\n",
    "                arr[j], arr[j+1] = arr[j+1], arr[j]\n",
    "    return arr\n",
    "\n",
    "print(bubble_sort([2, 35, 1, 8, 6, 1, 32, 0, 15, 42, 112, 13, 55, 68, 51, 31]))"
   ]
  },
  {
   "cell_type": "markdown",
   "metadata": {},
   "source": [
    "When to use/avoid\n",
    "* When the input is already sorted\n",
    "* Space in concern\n",
    "* Easy to implement\n",
    "\n",
    "When to avoid\n",
    "* Average time complexity is poor"
   ]
  },
  {
   "cell_type": "markdown",
   "metadata": {},
   "source": [
    "## Selection sort"
   ]
  },
  {
   "cell_type": "markdown",
   "metadata": {},
   "source": [
    "* In case of selection sort we repeatedly find the minimum element and move it to the sorted part of array to make unsorted part sorted."
   ]
  },
  {
   "cell_type": "code",
   "execution_count": 2,
   "metadata": {},
   "outputs": [
    {
     "name": "stdout",
     "output_type": "stream",
     "text": [
      "[0, 1, 1, 2, 6, 8, 13, 15, 31, 32, 35, 42, 51, 55, 68, 112]\n"
     ]
    }
   ],
   "source": [
    "# O(n2) time | O(1) space\n",
    "def selection_sort(arr):\n",
    "    for i in range(len(arr)):\n",
    "        min_index = i\n",
    "        for j in range(i+1, len(arr)):\n",
    "            if arr[j] < arr[min_index]:\n",
    "                min_index = j\n",
    "        arr[i], arr[min_index] = arr[min_index], arr[i]\n",
    "    return arr\n",
    "\n",
    "print(selection_sort([2, 35, 1, 8, 6, 1, 32, 0, 15, 42, 112, 13, 55, 68, 51, 31]))"
   ]
  },
  {
   "cell_type": "markdown",
   "metadata": {},
   "source": [
    "\n",
    "When to use/avoid it\n",
    "\n",
    "* When we have insufficient memory\n",
    "* Easy to implement\n",
    "\n",
    "When to avoid it\n",
    "* When time is a concern"
   ]
  },
  {
   "cell_type": "markdown",
   "metadata": {},
   "source": [
    "## Insertion sort"
   ]
  },
  {
   "cell_type": "markdown",
   "metadata": {},
   "source": [
    "* Divide the given array into $2$ parts\n",
    "* Take **first element from unsorted array** and find **its correct position in sorted array**\n",
    "* Repeat until unorted array is empty"
   ]
  },
  {
   "cell_type": "code",
   "execution_count": 3,
   "metadata": {},
   "outputs": [
    {
     "name": "stdout",
     "output_type": "stream",
     "text": [
      "[0, 1, 1, 2, 6, 8, 13, 15, 31, 32, 35, 42, 51, 55, 68, 112]\n"
     ]
    }
   ],
   "source": [
    "# O(n2) time | O(1) space\n",
    "def insertion_sort(arr):\n",
    "    for i in range(1, len(arr)):\n",
    "        j = i\n",
    "        while j > 0 and arr[j] < arr[j-1]:\n",
    "            arr[j], arr[j-1] = arr[j-1], arr[j]\n",
    "            j -= 1\n",
    "    return arr\n",
    "\n",
    "print(insertion_sort([2, 35, 1, 8, 6, 1, 32, 0, 15, 42, 112, 13, 55, 68, 51, 31]))"
   ]
  },
  {
   "cell_type": "code",
   "execution_count": 4,
   "metadata": {},
   "outputs": [
    {
     "name": "stdout",
     "output_type": "stream",
     "text": [
      "[0, 1, 1, 2, 6, 8, 13, 15, 31, 32, 35, 42, 51, 55, 68, 112]\n"
     ]
    }
   ],
   "source": [
    "def insertion_sort2(arr):\n",
    "    for i in range(1, len(arr)): # Comparison btw current and next element, element at 1 is the next element\n",
    "        key = arr[i]    # current element\n",
    "        j = i - 1       # Previous element from before the key (current)\n",
    "        while j >= 0 and arr[j] > key:\n",
    "            arr[j+1] = arr[j]\n",
    "            j -= 1\n",
    "        arr[j+1] = key\n",
    "    return arr\n",
    "\n",
    "\n",
    "print(insertion_sort2([2, 35, 1, 8, 6, 1, 32, 0, 15, 42, 112, 13, 55, 68, 51, 31]))"
   ]
  },
  {
   "cell_type": "markdown",
   "metadata": {},
   "source": [
    "When to use/avoid it\n",
    "\n",
    "* When we have insufficient memory\n",
    "* Easy to implement\n",
    "* When we have continuous inflow of numbers and we want to keep them sorted\n",
    "\n",
    "When to avoid insertion sort\n",
    "* When time is a concern\n"
   ]
  },
  {
   "cell_type": "markdown",
   "metadata": {},
   "source": [
    "## Bucket sort"
   ]
  },
  {
   "cell_type": "markdown",
   "metadata": {},
   "source": [
    "* **Create buckets** and distribute elements of array into buckets\n",
    "* Sort buckets individually\n",
    "* Merge buckets after sorting"
   ]
  },
  {
   "cell_type": "markdown",
   "metadata": {},
   "source": [
    "$number\\_of\\_buckets = round(\\sqrt{number\\_of\\_elements})$\n",
    "\n",
    "$appropriate\\_bucket = ceil(\\frac{value \\times mumber\\_of\\_buckets}{maxValue})$"
   ]
  },
  {
   "cell_type": "code",
   "execution_count": 5,
   "metadata": {},
   "outputs": [
    {
     "name": "stdout",
     "output_type": "stream",
     "text": [
      "[1, 1, 2, 6, 8, 13, 15, 31, 32, 35, 42, 51, 55, 68, 0, 0, 112]\n"
     ]
    }
   ],
   "source": [
    "import math\n",
    "def bucket_sort(arr):\n",
    "    num_buckets = round(math.sqrt(len(arr)))\n",
    "    max_value = max(arr)\n",
    "    arr_buckets = [[] for _ in range(num_buckets)]\n",
    "    \n",
    "    for i in arr:\n",
    "        index_bucket = math.ceil(i*num_buckets/max_value)\n",
    "        arr_buckets[index_bucket-1].append(i)\n",
    "\n",
    "    for j in range(num_buckets):\n",
    "        arr_buckets[j] = insertion_sort(arr_buckets[j])\n",
    "    \n",
    "    k = 0\n",
    "    for i in range(num_buckets):\n",
    "        for j in range(len(arr_buckets[i])):\n",
    "            arr[k] = arr_buckets[i][j]\n",
    "            k += 1\n",
    "    return arr\n",
    "\n",
    "print(bucket_sort([0, 2, 35, 1, 8, 6, 1, 32, 0, 15, 42, 112, 13, 55, 68, 51, 31]))"
   ]
  },
  {
   "cell_type": "markdown",
   "metadata": {},
   "source": [
    "## Merge sort\n",
    "\n",
    "* Merge sort is a divide and conquer algorithm\n",
    "* Divide the input array in two halves and we keep halving recursively until they become too small that cannot be broken further\n",
    "* Merge halves by sorting them\n",
    "\n",
    "Performs better than other previously seen algorithms but required O(n) space complexity"
   ]
  },
  {
   "cell_type": "code",
   "execution_count": 6,
   "metadata": {},
   "outputs": [
    {
     "name": "stdout",
     "output_type": "stream",
     "text": [
      "[0, 0, 1, 1, 2, 6, 8, 13, 15, 31, 32, 35, 42, 51, 55, 68, 112]\n"
     ]
    }
   ],
   "source": [
    "# O(n) time\n",
    "def merge(arr, l, m, r):\n",
    "    n1 = m - l + 1      # number of element in 1st subarray\n",
    "    n2 = r - m          # number of element in 2nd subarray\n",
    "    # 2 temporary arrays\n",
    "    L = [0] * (n1)\n",
    "    R = [0] * (n2)\n",
    "\n",
    "    # Copy data to temp arrays L[] and R[]\n",
    "    for i in range(0, n1):\n",
    "        L[i] = arr[l + i]\n",
    "    for j in range(0, n2):\n",
    "        R[j] = arr[m + 1 + j]\n",
    "\n",
    "    # Merge the temp arrays back into arr[l..r]\n",
    "    i = 0     # Initial index of first subarray\n",
    "    j = 0     # Initial index of second subarray\n",
    "    k = l     # Initial index of merged subarray\n",
    "    while i < n1 and j < n2:\n",
    "        if L[i] <= R[j]:\n",
    "            arr[k] = L[i]\n",
    "            i += 1\n",
    "        else:\n",
    "            arr[k] = R[j]\n",
    "            j += 1\n",
    "        k += 1\n",
    "    while i < n1:\n",
    "        arr[k] = L[i]\n",
    "        i += 1\n",
    "        k += 1\n",
    "    while j < n2:\n",
    "        arr[k] = R[j]\n",
    "        j += 1\n",
    "        k += 1\n",
    "\n",
    "# O(n log n) time | O(n) space\n",
    "def merge_sort(arr, l, r):\n",
    "    if(l < r):\n",
    "        m = (l + (r - 1)) // 2\n",
    "        merge_sort(arr, l, m)       # T(n/2)\n",
    "        merge_sort(arr, m + 1, r)   # T(n/2) => O(nlog(n)) time complexity\n",
    "        merge(arr, l, m, r)\n",
    "    return arr\n",
    "\n",
    "print(merge_sort([0, 2, 35, 1, 8, 6, 1, 32, 0, 15, 42, 112, 13, 55, 68, 51, 31], 0, 16))"
   ]
  },
  {
   "cell_type": "markdown",
   "metadata": {},
   "source": [
    "When to use/avoid it\n",
    "* When you need stable sort\n",
    "* When average expected time is $\\Omicron(nlogn)$\n",
    "\n",
    "When to avoid it\n",
    "* When space is a concern"
   ]
  },
  {
   "cell_type": "markdown",
   "metadata": {},
   "source": [
    "### Quick sort\n",
    "\n",
    "Similar to merge sort it's also a divide and conquer algorithm. *(take bigger problem and divide it into smaller problems, then solve them and then merge the results to form the final solution)*\n",
    "\n",
    "* Quick sort is a divide and conquer algorithm\n",
    "* Find pivot number and make sure smaller numbers located at the left of pivot and bigger numbers are located at the right of the pivot.\n",
    "* **Unlike merge sort extra space is not required**"
   ]
  },
  {
   "cell_type": "code",
   "execution_count": 7,
   "metadata": {},
   "outputs": [
    {
     "name": "stdout",
     "output_type": "stream",
     "text": [
      "[0, 0, 1, 1, 2, 6, 8, 13, 15, 31, 32, 35, 42, 51, 55, 68, 112]\n"
     ]
    }
   ],
   "source": [
    "def partition(arr, low, high): # low 1st index high last index\n",
    "    pivot = arr[high]\n",
    "    i = low - 1\n",
    "    for j in range(low, high):\n",
    "        if arr[j] <= pivot:\n",
    "            i += 1\n",
    "            arr[i], arr[j] = arr[j], arr[i]\n",
    "    arr[i+1], arr[high] = arr[high], arr[i+1]\n",
    "    return i+1\n",
    "\n",
    "# O(n) time | O(n) space complexity because of the recursive calls\n",
    "def quick_sort(arr, low, high):\n",
    "    if low < high:\n",
    "        pi = partition(arr, low, high) # partition index coming from the partition function\n",
    "        quick_sort(arr, low, pi-1)     # T(n/2)\n",
    "        quick_sort(arr, pi+1, high)    # T(n/2) => O(nlog(n)) time complexity\n",
    "    return arr\n",
    "\n",
    "\n",
    "print(quick_sort([0, 2, 35, 1, 8, 6, 1, 32, 0, 15, 42, 112, 13, 55, 68, 51, 31], 0, 16))"
   ]
  },
  {
   "cell_type": "markdown",
   "metadata": {},
   "source": [
    "When to use/avoid it\n",
    "* When average expected time is $\\Omicron(nlogn)$\n",
    "\n",
    "When to avoid it\n",
    "* When space is a concern\n",
    "* When you need stable sort"
   ]
  },
  {
   "cell_type": "markdown",
   "metadata": {},
   "source": [
    "### Heap sort\n",
    "\n",
    "It uses binary heap to sort the array.\n",
    "* Step $1$ : Insert data to binary heap tree\n",
    "* Step $2$ : Extract data from binary heap tree\n",
    "* It is **best suited with array**, it **does not work with linked list.**\n",
    "\n",
    "Binary Heap is a binart tree with special properties.\n",
    "\n",
    "* The value of any given node must be less or equal of its children (*min heap*)\n",
    "* The value of any given node must be greater or equal of its children (*max heap*)\n",
    "\n",
    "a sample of (min) binary heap \n",
    "\n",
    "                         5\n",
    "                        / \\\n",
    "                      10   20\n",
    "                     / \\   / \\\n",
    "                    30 40 50 60\n",
    "                   / \\\n",
    "                 70   80           "
   ]
  },
  {
   "cell_type": "code",
   "execution_count": 8,
   "metadata": {},
   "outputs": [
    {
     "name": "stdout",
     "output_type": "stream",
     "text": [
      "[0, 0, 1, 1, 2, 6, 8, 13, 15, 31, 32, 35, 42, 51, 55, 68, 112]\n"
     ]
    }
   ],
   "source": [
    "def heapify(arr, n, i):\n",
    "    largest = i # Initialize smallest as the first index coming from the parameter \n",
    "    \n",
    "    l = 2 * i + 1\n",
    "    r = 2 * i + 2\n",
    "    if l < n and arr[largest] < arr[l]:\n",
    "        largest = l\n",
    "    if r < n and arr[largest] < arr[r]:\n",
    "        largest = r\n",
    "    if largest != i:\n",
    "        arr[i], arr[largest] = arr[largest], arr[i]\n",
    "        heapify(arr, n, largest)\n",
    "\n",
    "# O(nlogn) time | O(1) space\n",
    "def heap_sort(arr):\n",
    "    n = len(arr)\n",
    "    for i in range(n, -1, -1):\n",
    "        heapify(arr, n, i)\n",
    "    for i in range(n-1, 0, -1):\n",
    "        arr[i], arr[0] = arr[0], arr[i]\n",
    "        heapify(arr, i, 0)\n",
    "    return arr\n",
    "\n",
    "print(heap_sort([0, 2, 35, 1, 8, 6, 1, 32, 0, 15, 42, 112, 13, 55, 68, 51, 31]))"
   ]
  },
  {
   "cell_type": "markdown",
   "metadata": {},
   "source": [
    "### Sorting algorithms"
   ]
  },
  {
   "cell_type": "markdown",
   "metadata": {},
   "source": [
    "|      Name      |  Time complexity  | Space complexity | Stable |\n",
    "| :------------: | :---------------: | :--------------: | :----: |\n",
    "|  Bubble sort   |  $\\Omicron(n^2)$  |  $\\Omicron(1)$   | $Yes$  |\n",
    "| Selection sort |  $\\Omicron(n^2)$  |  $\\Omicron(1)$   |  $No$  |\n",
    "| Insertion sort |  $\\Omicron(n^2)$  |  $\\Omicron(1)$   | $Yes$  |\n",
    "|  Bucket sort   | $\\Omicron(nlogn)$ |  $\\Omicron(n)$   | $Yes$  |\n",
    "|   Merge sort   | $\\Omicron(nlogn)$ |  $\\Omicron(n)$   | $Yes$  |\n",
    "|   Quick sort   | $\\Omicron(nlogn)$ |  $\\Omicron(n)$   |  $No$  |\n",
    "|   Heap sort    | $\\Omicron(nlogn)$ |  $\\Omicron(1)$   |  $No$  |\n"
   ]
  }
 ],
 "metadata": {
  "kernelspec": {
   "display_name": "Python 3.10.5 64-bit",
   "language": "python",
   "name": "python3"
  },
  "language_info": {
   "codemirror_mode": {
    "name": "ipython",
    "version": 3
   },
   "file_extension": ".py",
   "mimetype": "text/x-python",
   "name": "python",
   "nbconvert_exporter": "python",
   "pygments_lexer": "ipython3",
   "version": "3.10.5"
  },
  "orig_nbformat": 4,
  "vscode": {
   "interpreter": {
    "hash": "13081b603aa6a013995035d320af2c1f15789dc4224cd169330b49e0b23c4e97"
   }
  }
 },
 "nbformat": 4,
 "nbformat_minor": 2
}

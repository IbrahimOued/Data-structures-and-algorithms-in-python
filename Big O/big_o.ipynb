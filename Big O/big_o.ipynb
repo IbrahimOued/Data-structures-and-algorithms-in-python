{
 "cells": [
  {
   "cell_type": "markdown",
   "metadata": {},
   "source": [
    "# Big O notation"
   ]
  },
  {
   "cell_type": "markdown",
   "metadata": {},
   "source": [
    "## Space complexity"
   ]
  },
  {
   "cell_type": "markdown",
   "metadata": {},
   "source": [
    "An array of size $n$, space omplexity of $\\Omicron(n)$"
   ]
  },
  {
   "cell_type": "markdown",
   "metadata": {},
   "source": [
    "An array of size $\\Omicron(n)$"
   ]
  },
  {
   "cell_type": "markdown",
   "metadata": {},
   "source": [
    "| No     | Description                                                                                               | Complexity       |\n",
    "| :----- | :-------------------------------------------------------------------------------------------------------- | :--------------- |\n",
    "| Rule 1 | Any ***assignement statements*** and ***if*** statements that are executed once regardless of the size of the problem | $\\Omicron(1)$    |\n",
    "| Rule 2 | A simple ***'for'*** loop from $0$ to $n$ (with no internal loop)                                               | $\\Omicron(n)$    |\n",
    "| Rule 3 | A nested loop of the same type takes quadratic time complexity                                            | $\\Omicron(n^2)$  |\n",
    "| Rule 4 | A loop, in which the controlling parameter is divided by $2$ at each step                                 | $\\Omicron(logn)$ |\n",
    "| Rule 5 | When dealing with ***multiple statements***, just ***add them up***                                                   |                  |\n"
   ]
  },
  {
   "cell_type": "markdown",
   "metadata": {},
   "source": [
    "How to measure Recursive algorithm\n",
    "\n",
    "$sampleArray = [5, 4, 10,..., 1]$\n",
    "\n",
    "```python\n",
    "def findMaxNumRec(sampleArray, n):                                      # Assumed M(n)\n",
    "    if n == 1:                                                          # O(1)\n",
    "        return sampleArray[0]                                           # O(1)\n",
    "    else:\n",
    "        return max(sampleArray[n-1], findMaxNumRec(sampleArray, n-1))   # M(n-1)\n",
    "```"
   ]
  },
  {
   "cell_type": "markdown",
   "metadata": {},
   "source": [
    "The time complexit is $\\Omicron(n)$ "
   ]
  },
  {
   "cell_type": "markdown",
   "metadata": {},
   "source": [
    "```python\n",
    "def f(n):\n",
    "    if n <= 1:\n",
    "        return 1\n",
    "    return f(n-1) + f(n-1)"
   ]
  },
  {
   "cell_type": "markdown",
   "metadata": {},
   "source": [
    "The time complexity is $\\Omicron(2^n)$"
   ]
  }
 ],
 "metadata": {
  "kernelspec": {
   "display_name": "Python 3.10.5 64-bit",
   "language": "python",
   "name": "python3"
  },
  "language_info": {
   "name": "python",
   "version": "3.10.5"
  },
  "orig_nbformat": 4,
  "vscode": {
   "interpreter": {
    "hash": "13081b603aa6a013995035d320af2c1f15789dc4224cd169330b49e0b23c4e97"
   }
  }
 },
 "nbformat": 4,
 "nbformat_minor": 2
}
